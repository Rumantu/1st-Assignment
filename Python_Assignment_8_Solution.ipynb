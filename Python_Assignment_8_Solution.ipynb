{
  "nbformat": 4,
  "nbformat_minor": 0,
  "metadata": {
    "colab": {
      "name": "Python Assignment 8 Solution.ipynb",
      "provenance": [],
      "history_visible": true,
      "authorship_tag": "ABX9TyO2gOUV9GrFGZ9SZtf6jKts",
      "include_colab_link": true
    },
    "kernelspec": {
      "name": "python3",
      "display_name": "Python 3"
    },
    "language_info": {
      "name": "python"
    }
  },
  "cells": [
    {
      "cell_type": "markdown",
      "metadata": {
        "id": "view-in-github",
        "colab_type": "text"
      },
      "source": [
        "<a href=\"https://colab.research.google.com/github/Rumantu/1st-Assignment/blob/main/Python_Assignment_8_Solution.ipynb\" target=\"_parent\"><img src=\"https://colab.research.google.com/assets/colab-badge.svg\" alt=\"Open In Colab\"/></a>"
      ]
    },
    {
      "cell_type": "code",
      "execution_count": 1,
      "metadata": {
        "colab": {
          "base_uri": "https://localhost:8080/"
        },
        "id": "7YRKqJNGlvGA",
        "outputId": "ab440b70-ddd3-4e1e-d4a5-6abfc93c3911"
      },
      "outputs": [
        {
          "output_type": "stream",
          "name": "stdout",
          "text": [
            "The original string is : GeeksforGeeks\n",
            "The minimum of all characters in GeeksforGeeks is : f\n"
          ]
        }
      ],
      "source": [
        "# Python 3 code to demonstrate Least Frequent Character in String naive method\n",
        "\n",
        "# initializing string\n",
        "test_str = \"GeeksforGeeks\"\n",
        "\n",
        "# printing original string\n",
        "print (\"The original string is : \" + test_str)\n",
        "\n",
        "# using naive method to get\n",
        "# Least Frequent Character in String\n",
        "all_freq = {}\n",
        "for i in test_str:\n",
        "\tif i in all_freq:\n",
        "\t\tall_freq[i] += 1\n",
        "\telse:\n",
        "\t\tall_freq[i] = 1\n",
        "res = min(all_freq, key = all_freq.get)\n",
        "\n",
        "# printing result\n",
        "print (\"The minimum of all characters in GeeksforGeeks is : \" + str(res))\n"
      ]
    },
    {
      "cell_type": "code",
      "source": [
        "# Python 3 code to demonstrate Maximum frequency character in String naive method\n",
        "\n",
        "# initializing string\n",
        "test_str = \"GeeksforGeeks\"\n",
        "\n",
        "# printing original string\n",
        "print (\"The original string is : \" + test_str)\n",
        "\n",
        "# using naive method to get\n",
        "# Maximum frequency character in String\n",
        "all_freq = {}\n",
        "for i in test_str:\n",
        "\tif i in all_freq:\n",
        "\t\tall_freq[i] += 1\n",
        "\telse:\n",
        "\t\tall_freq[i] = 1\n",
        "res = max(all_freq, key = all_freq.get)\n",
        "\n",
        "# printing result\n",
        "print (\"The maximum of all characters in GeeksforGeeks is : \" + str(res))\n"
      ],
      "metadata": {
        "colab": {
          "base_uri": "https://localhost:8080/"
        },
        "id": "aVDSz8WimiCl",
        "outputId": "25c54633-c1d3-472a-b023-22fb737ad0ea"
      },
      "execution_count": 2,
      "outputs": [
        {
          "output_type": "stream",
          "name": "stdout",
          "text": [
            "The original string is : GeeksforGeeks\n",
            "The maximum of all characters in GeeksforGeeks is : e\n"
          ]
        }
      ]
    },
    {
      "cell_type": "code",
      "source": [
        "# Python3 program to check if a string\n",
        "# contains any special character\n",
        "\n",
        "# import required package\n",
        "import re\n",
        "\n",
        "# Function checks if the string contains any special character\n",
        "def run(string):\n",
        "\n",
        "\t# Make own character set and pass\n",
        "\t# this as argument in compile method\n",
        "\tregex = re.compile('[@_!#$%^&*()<>?/\\|}{~:]')\n",
        "\t\n",
        "\t# Pass the string in search\n",
        "\t# method of regex object.\n",
        "\tif(regex.search(string) == None):\n",
        "\t\tprint(\"String is accepted\")\n",
        "\t\t\n",
        "\telse:\n",
        "\t\tprint(\"String is not accepted.\")\n",
        "\t\n",
        "\n",
        "# Driver Code\n",
        "if __name__ == '__main__' :\n",
        "\t\n",
        "\t# Enter the string\n",
        "\tstring = \"Geeks$For$Geeks\"\n",
        "\t\n",
        "\t# calling run function\n",
        "\trun(string)\n"
      ],
      "metadata": {
        "colab": {
          "base_uri": "https://localhost:8080/"
        },
        "id": "dVdiFaw0m4Jh",
        "outputId": "08524e58-3a71-4a3f-956e-be8d6c3d4713"
      },
      "execution_count": 3,
      "outputs": [
        {
          "output_type": "stream",
          "name": "stdout",
          "text": [
            "String is not accepted.\n"
          ]
        }
      ]
    },
    {
      "cell_type": "code",
      "source": [
        "# generate random strings\n",
        "import string\n",
        "import random\n",
        "import time\n",
        "  \n",
        "# all possible characters including lowercase, uppercase and punctuations\n",
        "possibleChar = string.ascii_lowercase + string.digits + string.ascii_uppercase + ' ., !?;:'\n",
        "  \n",
        "# string to be generated\n",
        "t = \"test\"\n",
        "  \n",
        "attemptThis = ''.join(random.choice(possibleChar) for i in range(len(t)))\n",
        "attemptNext = ''\n",
        "  \n",
        "done= False\n",
        "iteration = 0\n",
        "  \n",
        "# Iterate while done is false\n",
        "while done == False:\n",
        "    print(attemptThis)\n",
        "      \n",
        "    attemptNext = ''\n",
        "    done = True\n",
        "      \n",
        "    # if matches with string \n",
        "    # change index\n",
        "    for i in range(len(t)):\n",
        "        if attemptThis[i] != t[i]:\n",
        "            done = False\n",
        "            attemptNext += random.choice(possibleChar)\n",
        "        else:\n",
        "            attemptNext += t[i]\n",
        "              \n",
        "    # increase iteration\n",
        "    iteration = iteration + 1\n",
        "    attemptThis = attemptNext\n",
        "    time.sleep(0.1)\n",
        "\n",
        "print(\"Target matched after \",iteration,\" iterations\")"
      ],
      "metadata": {
        "colab": {
          "base_uri": "https://localhost:8080/"
        },
        "id": "KjGNnxy6nc90",
        "outputId": "9e492a59-c88d-4b29-c37e-fb57b8e94553"
      },
      "execution_count": 4,
      "outputs": [
        {
          "output_type": "stream",
          "name": "stdout",
          "text": [
            "sQPM\n",
            "YKA9\n",
            "G2Tt\n",
            "sBRt\n",
            "s06t\n",
            "yB0t\n",
            "3e0t\n",
            "9eDt\n",
            "ne!t\n",
            "2eot\n",
            "ae1t\n",
            "uekt\n",
            "leBt\n",
            "eemt\n",
            "!ent\n",
            "IeLt\n",
            "2e6t\n",
            "?eXt\n",
            "0e5t\n",
            " e t\n",
            "9ett\n",
            "Fect\n",
            "KeUt\n",
            "Yext\n",
            "Te6t\n",
            "bezt\n",
            "De1t\n",
            "eect\n",
            "Le4t\n",
            "8ezt\n",
            "nent\n",
            "te3t\n",
            "te4t\n",
            "teht\n",
            "teBt\n",
            "te?t\n",
            "test\n",
            "Target matched after  37  iterations\n"
          ]
        }
      ]
    },
    {
      "cell_type": "code",
      "source": [
        "# Python program to find all string\n",
        "# which are greater than given length k\n",
        "\n",
        "# function find string greater than length k\n",
        "def string_k(k, str):\n",
        "\t\n",
        "\t# create the empty string\n",
        "\tstring = []\n",
        "\t\n",
        "\t# split the string where space is comes\n",
        "\ttext = str.split(\" \")\n",
        "\t\n",
        "\t# iterate the loop till every substring\n",
        "\tfor x in text:\n",
        "\t\t\n",
        "\t\t# if length of current sub string\n",
        "\t\t# is greater than k then\n",
        "\t\tif len(x) > k:\n",
        "\t\t\t\n",
        "\t\t\t# append this sub string in\n",
        "\t\t\t# string list\n",
        "\t\t\tstring.append(x)\n",
        "\t\t\t\n",
        "\t# return string list\n",
        "\treturn string\n",
        "\n",
        "\n",
        "# Driver Program\t\n",
        "k = 3\n",
        "str =\"geek for geeks\"\n",
        "print(string_k(k, str))\n"
      ],
      "metadata": {
        "colab": {
          "base_uri": "https://localhost:8080/"
        },
        "id": "GQTW8vxOox4Z",
        "outputId": "f48fb060-8b18-41ff-847f-a5843f636900"
      },
      "execution_count": 5,
      "outputs": [
        {
          "output_type": "stream",
          "name": "stdout",
          "text": [
            "['geek', 'geeks']\n"
          ]
        }
      ]
    },
    {
      "cell_type": "code",
      "source": [
        "# Python3 program for removing i-th\n",
        "# indexed character from a string\n",
        "\n",
        "# Removes character at index i\n",
        "def remove(string, i):\n",
        "\n",
        "\t# Characters before the i-th indexed\n",
        "\t# is stored in a variable a\n",
        "\ta = string[ : i]\n",
        "\t\n",
        "\t# Characters after the nth indexed\n",
        "\t# is stored in a variable b\n",
        "\tb = string[i + 1: ]\n",
        "\t\n",
        "\t# Returning string after removing\n",
        "\t# nth indexed character.\n",
        "\treturn a + b\n",
        "\t\n",
        "# Driver Code\n",
        "if __name__ == '__main__':\n",
        "\t\n",
        "\tstring = \"geeksFORgeeks\"\n",
        "\t\n",
        "\t# Remove nth index element\n",
        "\ti = 5\n",
        "\t\n",
        "\t# Print the new string\n",
        "\tprint(remove(string, i))\n"
      ],
      "metadata": {
        "colab": {
          "base_uri": "https://localhost:8080/"
        },
        "id": "kozUQkPso-UM",
        "outputId": "e10459a9-ca18-476e-80e7-aa8e0ae361ef"
      },
      "execution_count": 6,
      "outputs": [
        {
          "output_type": "stream",
          "name": "stdout",
          "text": [
            "geeksORgeeks\n"
          ]
        }
      ]
    },
    {
      "cell_type": "code",
      "source": [
        "# Python program to split a string and\n",
        "# join it using different delimiter\n",
        "\n",
        "def split_string(string):\n",
        "\n",
        "\t# Split the string based on space delimiter\n",
        "\tlist_string = string.split(' ')\n",
        "\t\n",
        "\treturn list_string\n",
        "\n",
        "def join_string(list_string):\n",
        "\n",
        "\t# Join the string based on '-' delimiter\n",
        "\tstring = '-'.join(list_string)\n",
        "\t\n",
        "\treturn string\n",
        "\n",
        "# Driver Function\n",
        "if __name__ == '__main__':\n",
        "\tstring = 'Geeks for Geeks'\n",
        "\t\n",
        "\t# Splitting a string\n",
        "\tlist_string = split_string(string)\n",
        "\tprint(list_string)\n",
        "\n",
        "\t# Join list of strings into one\n",
        "\tnew_string = join_string(list_string)\n",
        "\tprint(new_string)\n"
      ],
      "metadata": {
        "colab": {
          "base_uri": "https://localhost:8080/"
        },
        "id": "hUXPQevipN6l",
        "outputId": "839d8af1-094b-400e-a1e5-9fa347d73357"
      },
      "execution_count": 7,
      "outputs": [
        {
          "output_type": "stream",
          "name": "stdout",
          "text": [
            "['Geeks', 'for', 'Geeks']\n",
            "Geeks-for-Geeks\n"
          ]
        }
      ]
    },
    {
      "cell_type": "code",
      "source": [
        "# Python program to check\n",
        "# if a string is binary or not\n",
        "\n",
        "# function for checking the\n",
        "# string is accepted or not\n",
        "def check(string) :\n",
        "\n",
        "\t# set function convert string\n",
        "\t# into set of characters .\n",
        "\tp = set(string)\n",
        "\n",
        "\t# declare set of '0', '1' .\n",
        "\ts = {'0', '1'}\n",
        "\n",
        "\t# check set p is same as set s\n",
        "\t# or set p contains only '0'\n",
        "\t# or set p contains only '1'\n",
        "\t# or not, if any one condition\n",
        "\t# is true then string is accepted\n",
        "\t# otherwise not .\n",
        "\tif s == p or p == {'0'} or p == {'1'}:\n",
        "\t\tprint(\"Yes\")\n",
        "\telse :\n",
        "\t\tprint(\"No\")\n",
        "\n",
        "\n",
        "\t\t\n",
        "# driver code\n",
        "if __name__ == \"__main__\" :\n",
        "\n",
        "\tstring = \"101010000111\"\n",
        "\n",
        "\t# function calling\n",
        "\tcheck(string)\n"
      ],
      "metadata": {
        "colab": {
          "base_uri": "https://localhost:8080/"
        },
        "id": "J37-LCE2pY1a",
        "outputId": "d5332353-4f75-4c5f-d632-91af829be473"
      },
      "execution_count": 8,
      "outputs": [
        {
          "output_type": "stream",
          "name": "stdout",
          "text": [
            "Yes\n"
          ]
        }
      ]
    },
    {
      "cell_type": "code",
      "source": [
        "# Python3 program to find a list of uncommon words\n",
        "\n",
        "# Function to return all uncommon words\n",
        "def UncommonWords(A, B):\n",
        "\n",
        "\t# count will contain all the word counts\n",
        "\tcount = {}\n",
        "\t\n",
        "\t# insert words of string A to hash\n",
        "\tfor word in A.split():\n",
        "\t\tcount[word] = count.get(word, 0) + 1\n",
        "\t\n",
        "\t# insert words of string B to hash\n",
        "\tfor word in B.split():\n",
        "\t\tcount[word] = count.get(word, 0) + 1\n",
        "\n",
        "\t# return required list of words\n",
        "\treturn [word for word in count if count[word] == 1]\n",
        "\n",
        "# Driver Code\n",
        "A = \"Geeks for Geeks\"\n",
        "B = \"Learning from Geeks for Geeks\"\n",
        "\n",
        "# Print required answer\n",
        "print(UncommonWords(A, B))\n"
      ],
      "metadata": {
        "colab": {
          "base_uri": "https://localhost:8080/"
        },
        "id": "9AuOyD_OpnBK",
        "outputId": "329d820b-7485-4438-d54f-90e31273aacc"
      },
      "execution_count": 9,
      "outputs": [
        {
          "output_type": "stream",
          "name": "stdout",
          "text": [
            "['Learning', 'from']\n"
          ]
        }
      ]
    },
    {
      "cell_type": "code",
      "source": [
        "my_str = 'Jane is the best . Jane loves to cook. Jane and Will cook together'\n",
        "print(\"The string is : \")\n",
        "print(my_str)\n",
        "replace_dict = {'Jane' : 'She' }\n",
        "my_list = my_str.split(' ')\n",
        "my_result = ' '.join([replace_dict.get(val) if val in replace_dict.keys() and my_list.index(val) != idx else val for idx, val in enumerate(my_list)])\n",
        "print(\"The string after replacing with values is : \")\n",
        "print(my_result)"
      ],
      "metadata": {
        "colab": {
          "base_uri": "https://localhost:8080/"
        },
        "id": "6FNYNoKVpyd-",
        "outputId": "794452f5-5683-4d5d-e316-0a1b1f3bf260"
      },
      "execution_count": 10,
      "outputs": [
        {
          "output_type": "stream",
          "name": "stdout",
          "text": [
            "The string is : \n",
            "Jane is the best . Jane loves to cook. Jane and Will cook together\n",
            "The string after replacing with values is : \n",
            "Jane is the best . She loves to cook. She and Will cook together\n"
          ]
        }
      ]
    },
    {
      "cell_type": "code",
      "source": [
        ""
      ],
      "metadata": {
        "id": "KQH4_BjFqeU7"
      },
      "execution_count": null,
      "outputs": []
    }
  ]
}