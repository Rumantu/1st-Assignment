{
  "nbformat": 4,
  "nbformat_minor": 0,
  "metadata": {
    "colab": {
      "name": "Python assignment 3 solution.ipynb",
      "provenance": [],
      "collapsed_sections": [],
      "authorship_tag": "ABX9TyOqFyY5YEXTwmeETHj3XvRq",
      "include_colab_link": true
    },
    "kernelspec": {
      "name": "python3",
      "display_name": "Python 3"
    },
    "language_info": {
      "name": "python"
    }
  },
  "cells": [
    {
      "cell_type": "markdown",
      "metadata": {
        "id": "view-in-github",
        "colab_type": "text"
      },
      "source": [
        "<a href=\"https://colab.research.google.com/github/Rumantu/1st-Assignment/blob/main/Python_assignment_3_solution.ipynb\" target=\"_parent\"><img src=\"https://colab.research.google.com/assets/colab-badge.svg\" alt=\"Open In Colab\"/></a>"
      ]
    },
    {
      "cell_type": "code",
      "execution_count": 1,
      "metadata": {
        "colab": {
          "base_uri": "https://localhost:8080/"
        },
        "id": "tSO7Lab4fszv",
        "outputId": "6de702eb-8809-472f-a3f7-71fe6ccab637"
      },
      "outputs": [
        {
          "output_type": "stream",
          "name": "stdout",
          "text": [
            "Output is  2\n"
          ]
        }
      ],
      "source": [
        "def remainder(arr,length,k):\n",
        "    multi = 1\n",
        "    for i in range(0,length):\n",
        "        multi = (multi * (arr[i] % k)) % k\n",
        "    return multi % k\n",
        "# Driver code\n",
        "arr = [101, 1, 5, 2]\n",
        "length = len(arr)\n",
        "k = 3\n",
        "print(\"Output is \", remainder(arr, length, k))"
      ]
    },
    {
      "cell_type": "code",
      "source": [
        "# Check if given array is Monotonic\n",
        "def isMonotonic(A):\n",
        "\n",
        "\treturn (all(A[i] <= A[i + 1] for i in range(len(A) - 1)) or\n",
        "\t\t\tall(A[i] >= A[i + 1] for i in range(len(A) - 1)))\n",
        "\n",
        "# Driver program\n",
        "A = [6, 5, 4, 4]\n",
        "\n",
        "# Print required result\n",
        "print(isMonotonic(A))"
      ],
      "metadata": {
        "colab": {
          "base_uri": "https://localhost:8080/"
        },
        "id": "qibcSPASg6eI",
        "outputId": "e14da623-b2db-48f9-f092-93db6e3bf120"
      },
      "execution_count": 2,
      "outputs": [
        {
          "output_type": "stream",
          "name": "stdout",
          "text": [
            "True\n"
          ]
        }
      ]
    },
    {
      "cell_type": "code",
      "source": [
        "# Program to swap first and last element of a list\n",
        "\n",
        "# Swap function\n",
        "def swapList(newList):\n",
        "\tsize = len(newList)\n",
        "\t\n",
        "\t# Swapping\n",
        "\ttemp = newList[0]\n",
        "\tnewList[0] = newList[size - 1]\n",
        "\tnewList[size - 1] = temp\n",
        "\t\n",
        "\treturn newList\n",
        "\t\n",
        "# Driver code\n",
        "newList = [12, 35, 9, 56, 24]\n",
        "\n",
        "print(swapList(newList))\n"
      ],
      "metadata": {
        "colab": {
          "base_uri": "https://localhost:8080/"
        },
        "id": "OgqOCB1QhSSv",
        "outputId": "3df0f945-3ae6-4b71-b7c0-7be67648e511"
      },
      "execution_count": 3,
      "outputs": [
        {
          "output_type": "stream",
          "name": "stdout",
          "text": [
            "[24, 35, 9, 56, 12]\n"
          ]
        }
      ]
    },
    {
      "cell_type": "code",
      "source": [
        "# Program to swap elements at given positions\n",
        "\n",
        "# Swap function\n",
        "def swapPositions(list, pos1, pos2):\n",
        "\t\n",
        "\tlist[pos1], list[pos2] = list[pos2], list[pos1]\n",
        "\treturn list\n",
        "\n",
        "# Driver function\n",
        "List = [23, 65, 19, 90]\n",
        "pos1, pos2 = 1, 3\n",
        "\n",
        "print(swapPositions(List, pos1-1, pos2-1))\n"
      ],
      "metadata": {
        "colab": {
          "base_uri": "https://localhost:8080/"
        },
        "id": "OAAJmMjmho_R",
        "outputId": "ebaec9da-1a9e-44e5-e0ad-84302dee0c08"
      },
      "execution_count": 4,
      "outputs": [
        {
          "output_type": "stream",
          "name": "stdout",
          "text": [
            "[19, 65, 23, 90]\n"
          ]
        }
      ]
    },
    {
      "cell_type": "code",
      "source": [
        "# Python code to demonstrate length of list using naive method\n",
        "\n",
        "# Initializing list\n",
        "test_list = [ 1, 4, 5, 7, 8 ]\n",
        "\n",
        "# Printing test_list\n",
        "print (\"The list is : \" + str(test_list))\n",
        "\n",
        "# Finding length of list using loop Initializing counter\n",
        "counter = 0\n",
        "for i in test_list:\n",
        "\t\n",
        "\t# incrementing counter\n",
        "\tcounter = counter + 1\n",
        "\n",
        "# Printing length of list\n",
        "print (\"Length of list using naive method is : \" + str(counter))\n"
      ],
      "metadata": {
        "colab": {
          "base_uri": "https://localhost:8080/"
        },
        "id": "HmzhgVUbh9xc",
        "outputId": "645f24e2-11e2-4841-8b9d-a39e4f1ef7d7"
      },
      "execution_count": 5,
      "outputs": [
        {
          "output_type": "stream",
          "name": "stdout",
          "text": [
            "The list is : [1, 4, 5, 7, 8]\n",
            "Length of list using naive method is : 5\n"
          ]
        }
      ]
    },
    {
      "cell_type": "code",
      "source": [
        "# Python code to demonstrate checking of element existence using loops and in\n",
        "\n",
        "# Initializing list\n",
        "test_list = [ 1, 6, 3, 5, 3, 4 ]\n",
        "\n",
        "print(\"Checking if 4 exists in list ( using loop ) : \")\n",
        "\n",
        "# Checking if 4 exists in list using loop\n",
        "for i in test_list:\n",
        "\tif(i == 4) :\n",
        "\t\tprint (\"Element Exists\")\n",
        "\n",
        "print(\"Checking if 4 exists in list ( using in ) : \")\n",
        "\n",
        "# Checking if 4 exists in list using in\n",
        "if (4 in test_list):\n",
        "\tprint (\"Element Exists\")\n"
      ],
      "metadata": {
        "colab": {
          "base_uri": "https://localhost:8080/"
        },
        "id": "NUcSyA_ciYth",
        "outputId": "af49b3e6-9415-4621-edc2-b091b3b9316d"
      },
      "execution_count": 6,
      "outputs": [
        {
          "output_type": "stream",
          "name": "stdout",
          "text": [
            "Checking if 4 exists in list ( using loop ) : \n",
            "Element Exists\n",
            "Checking if 4 exists in list ( using in ) : \n",
            "Element Exists\n"
          ]
        }
      ]
    },
    {
      "cell_type": "code",
      "source": [
        "# Python program to clear a list using clear() method\n",
        "\n",
        "# Creating list\n",
        "GEEK = [6, 0, 4, 1]\n",
        "print('GEEK before clear:', GEEK)\n",
        "\n",
        "# Clearing list\n",
        "GEEK.clear()\n",
        "print('GEEK after clear:', GEEK)"
      ],
      "metadata": {
        "colab": {
          "base_uri": "https://localhost:8080/"
        },
        "id": "TkVnVtKsiy9O",
        "outputId": "ec3dab66-e979-43a1-97c8-cbf7fd0cc356"
      },
      "execution_count": 7,
      "outputs": [
        {
          "output_type": "stream",
          "name": "stdout",
          "text": [
            "GEEK before clear: [6, 0, 4, 1]\n",
            "GEEK after clear: []\n"
          ]
        }
      ]
    },
    {
      "cell_type": "code",
      "source": [
        "# Reversing a list using reversed()\n",
        "def Reverse(lst):\n",
        "\treturn [ele for ele in reversed(lst)]\n",
        "\t\n",
        "# Driver Code\n",
        "lst = [10, 11, 12, 13, 14, 15]\n",
        "print(Reverse(lst))"
      ],
      "metadata": {
        "colab": {
          "base_uri": "https://localhost:8080/"
        },
        "id": "N0OiK3sAjCv5",
        "outputId": "7025fe6b-252b-4f24-8da6-2ab27dc0fa40"
      },
      "execution_count": 8,
      "outputs": [
        {
          "output_type": "stream",
          "name": "stdout",
          "text": [
            "[15, 14, 13, 12, 11, 10]\n"
          ]
        }
      ]
    },
    {
      "cell_type": "code",
      "source": [
        "# Python program to find sum of elements in list\n",
        "total = 0\n",
        "\n",
        "# creating a list\n",
        "list1 = [11, 5, 17, 18, 23]\n",
        "\n",
        "# Iterate each element in list and add them in variable total\n",
        "for ele in range(0, len(list1)):\n",
        "\ttotal = total + list1[ele]\n",
        "\n",
        "# printing total value\n",
        "print(\"Sum of all elements in given list: \", total)"
      ],
      "metadata": {
        "colab": {
          "base_uri": "https://localhost:8080/"
        },
        "id": "FgEtenuvjQiL",
        "outputId": "d0824eac-8edb-4547-d960-f3211a8cd6db"
      },
      "execution_count": 9,
      "outputs": [
        {
          "output_type": "stream",
          "name": "stdout",
          "text": [
            "Sum of all elements in given list:  74\n"
          ]
        }
      ]
    },
    {
      "cell_type": "code",
      "source": [
        "# Python program to multiply all values in the list using traversal\n",
        "\n",
        "def multiplyList(myList) :\n",
        "\t\n",
        "\t# Multiply elements one by one\n",
        "\tresult = 1\n",
        "\tfor x in myList:\n",
        "\t\tresult = result * x\n",
        "\treturn result\n",
        "\t\n",
        "# Driver code\n",
        "list1 = [1, 2, 3]\n",
        "list2 = [3, 2, 4]\n",
        "print(multiplyList(list1))\n",
        "print(multiplyList(list2))\n"
      ],
      "metadata": {
        "colab": {
          "base_uri": "https://localhost:8080/"
        },
        "id": "eTanP-2zjkxH",
        "outputId": "cf620226-b02c-42cf-b22d-45873d47ff48"
      },
      "execution_count": 10,
      "outputs": [
        {
          "output_type": "stream",
          "name": "stdout",
          "text": [
            "6\n",
            "24\n"
          ]
        }
      ]
    },
    {
      "cell_type": "code",
      "source": [
        ""
      ],
      "metadata": {
        "id": "aJk8qBemkAak"
      },
      "execution_count": null,
      "outputs": []
    }
  ]
}