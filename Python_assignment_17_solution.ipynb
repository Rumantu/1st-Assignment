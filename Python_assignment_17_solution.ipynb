{
  "nbformat": 4,
  "nbformat_minor": 0,
  "metadata": {
    "colab": {
      "name": "Python assignment 17 solution.ipynb",
      "provenance": [],
      "authorship_tag": "ABX9TyNRR816rfCnxSMJuyWqtlfX",
      "include_colab_link": true
    },
    "kernelspec": {
      "name": "python3",
      "display_name": "Python 3"
    },
    "language_info": {
      "name": "python"
    }
  },
  "cells": [
    {
      "cell_type": "markdown",
      "metadata": {
        "id": "view-in-github",
        "colab_type": "text"
      },
      "source": [
        "<a href=\"https://colab.research.google.com/github/Rumantu/1st-Assignment/blob/main/Python_assignment_17_solution.ipynb\" target=\"_parent\"><img src=\"https://colab.research.google.com/assets/colab-badge.svg\" alt=\"Open In Colab\"/></a>"
      ]
    },
    {
      "cell_type": "code",
      "execution_count": 1,
      "metadata": {
        "colab": {
          "base_uri": "https://localhost:8080/"
        },
        "id": "al6qVGJflUxk",
        "outputId": "380c147c-7a30-4df1-a9a1-a00a552faebf"
      },
      "outputs": [
        {
          "output_type": "stream",
          "name": "stdout",
          "text": [
            "2 : 25\n",
            "3 : 31\n",
            "Both are same times\n"
          ]
        }
      ],
      "source": [
        "# Python program to find the\n",
        "# difference between two times\n",
        "\n",
        "\n",
        "# function to obtain the time\n",
        "# in minutes form\n",
        "def difference(h1, m1, h2, m2):\n",
        "\t\n",
        "\t# convert h1 : m1 into\n",
        "\t# minutes\n",
        "\tt1 = h1 * 60 + m1\n",
        "\t\n",
        "\t# convert h2 : m2 into\n",
        "\t# minutes\n",
        "\tt2 = h2 * 60 + m2\n",
        "\t\n",
        "\tif (t1 == t2):\n",
        "\t\tprint(\"Both are same times\")\n",
        "\t\treturn\n",
        "\telse:\n",
        "\t\t\n",
        "\t\t# calculating the difference\n",
        "\t\tdiff = t2-t1\n",
        "\t\t\n",
        "\t# calculating hours from\n",
        "\t# difference\n",
        "\th = (int(diff / 60)) % 24\n",
        "\t\n",
        "\t# calculating minutes from\n",
        "\t# difference\n",
        "\tm = diff % 60\n",
        "\n",
        "\tprint(h, \":\", m)\n",
        "\n",
        "# Driver's code\n",
        "if __name__ == \"__main__\":\n",
        "\t\n",
        "\tdifference(7, 20, 9, 45)\n",
        "\tdifference(15, 23, 18, 54)\n",
        "\tdifference(16, 20, 16, 20)"
      ]
    },
    {
      "cell_type": "code",
      "source": [
        "# Python program to convert\n",
        "# date to timestamp\n",
        "\n",
        "\n",
        "import time\n",
        "import datetime\n",
        "\n",
        "\n",
        "string = \"20/01/2020\"\n",
        "print(time.mktime(datetime.datetime.strptime(string,\n",
        "\t\t\t\t\t\t\t\t\t\t\t\"%d/%m/%Y\").timetuple()))\n"
      ],
      "metadata": {
        "colab": {
          "base_uri": "https://localhost:8080/"
        },
        "id": "fdnXBxqhrhWg",
        "outputId": "8b9be163-3ec9-4fde-8a38-ed83917b752d"
      },
      "execution_count": 2,
      "outputs": [
        {
          "output_type": "stream",
          "name": "stdout",
          "text": [
            "1579478400.0\n"
          ]
        }
      ]
    },
    {
      "cell_type": "code",
      "source": [
        "from datetime import datetime\n",
        "\n",
        "\n",
        "timestamp = 1545730073\n",
        "dt_obj = datetime.fromtimestamp(1140825600)\n",
        "\n",
        "print(\"date_time:\",dt_obj)\n",
        "print(\"type of dt:\",type(dt_obj))\n"
      ],
      "metadata": {
        "colab": {
          "base_uri": "https://localhost:8080/"
        },
        "id": "sLeVANfouB2J",
        "outputId": "636cf975-b78c-48a3-8bd8-52cdbfb514c8"
      },
      "execution_count": 3,
      "outputs": [
        {
          "output_type": "stream",
          "name": "stdout",
          "text": [
            "date_time: 2006-02-25 00:00:00\n",
            "type of dt: <class 'datetime.datetime'>\n"
          ]
        }
      ]
    },
    {
      "cell_type": "code",
      "source": [
        "# python program Find number of\n",
        "# times every day occurs in a Year\n",
        "\n",
        "\n",
        "import datetime\n",
        "import calendar\n",
        "\n",
        "def day_occur_time(year):\n",
        "\t\n",
        "\t# stores days in a week\n",
        "\tdays = [ \"Monday\", \"Tuesday\", \"Wednesday\",\n",
        "\t\t\"Thursday\", \"Friday\", \"Saturday\",\n",
        "\t\t\"Sunday\" ]\n",
        "\t\n",
        "\t# Initialize all counts as 52\n",
        "\tL = [52 for i in range(7)]\n",
        "\t\n",
        "\t# Find the index of the first day\n",
        "\t# of the year\n",
        "\tpos = -1\n",
        "\tday = datetime.datetime(year, month = 1, day = 1).strftime(\"%A\")\n",
        "\tfor i in range(7):\n",
        "\t\tif day == days[i]:\n",
        "\t\t\tpos = i\n",
        "\t\t\t\n",
        "\t# mark the occurrence to be 53 of 1st day\n",
        "\t# and 2nd day if the year is leap year\n",
        "\tif calendar.isleap(year):\n",
        "\t\tL[pos] += 1\n",
        "\t\tL[(pos+1)%7] += 1\n",
        "\t\t\n",
        "\telse:\n",
        "\t\tL[pos] += 1\n",
        "\t\t\n",
        "\t\n",
        "\t# Print the days\n",
        "\tfor i in range(7):\n",
        "\t\tprint(days[i], L[i])\n",
        "\t\n",
        "\n",
        "# Driver Code\n",
        "year = 2019\n",
        "day_occur_time(year)\n"
      ],
      "metadata": {
        "colab": {
          "base_uri": "https://localhost:8080/"
        },
        "id": "-uaULTFGuRL_",
        "outputId": "6b1d4477-eb17-4ea1-d03e-4bcbeafeb7d3"
      },
      "execution_count": 4,
      "outputs": [
        {
          "output_type": "stream",
          "name": "stdout",
          "text": [
            "Monday 52\n",
            "Tuesday 53\n",
            "Wednesday 52\n",
            "Thursday 52\n",
            "Friday 52\n",
            "Saturday 52\n",
            "Sunday 52\n"
          ]
        }
      ]
    },
    {
      "cell_type": "code",
      "source": [
        "# _importing module\n",
        "import re\n",
        "\n",
        "\n",
        "def check(str, pattern):\n",
        "\t\n",
        "\t# _matching the strings\n",
        "\tif re.search(pattern, str):\n",
        "\t\tprint(\"Valid String\")\n",
        "\telse:\n",
        "\t\tprint(\"Invalid String\")\n",
        "\n",
        "# _driver code\n",
        "pattern = re.compile('^[1234]+$')\n",
        "check('2134', pattern)\n",
        "check('349', pattern)\n"
      ],
      "metadata": {
        "colab": {
          "base_uri": "https://localhost:8080/"
        },
        "id": "D5NGpbkpufVD",
        "outputId": "ffe0f750-09f7-41d5-ff82-22ab36d2348f"
      },
      "execution_count": 5,
      "outputs": [
        {
          "output_type": "stream",
          "name": "stdout",
          "text": [
            "Valid String\n",
            "Invalid String\n"
          ]
        }
      ]
    },
    {
      "cell_type": "code",
      "source": [
        "import re\n",
        "\n",
        "\n",
        "string = \"ThisIsGeeksforGeeks !, 123\"\n",
        "\n",
        "# Creating separate lists using\n",
        "# the re.findall() method.\n",
        "uppercase_characters = re.findall(r\"[A-Z]\", string)\n",
        "lowercase_characters = re.findall(r\"[a-z]\", string)\n",
        "numerical_characters = re.findall(r\"[0-9]\", string)\n",
        "special_characters = re.findall(r\"[, .!?]\", string)\n",
        "\n",
        "print(\"The no. of uppercase characters is\", len(uppercase_characters))\n",
        "print(\"The no. of lowercase characters is\", len(lowercase_characters))\n",
        "print(\"The no. of numerical characters is\", len(numerical_characters))\n",
        "print(\"The no. of special characters is\", len(special_characters))\n"
      ],
      "metadata": {
        "colab": {
          "base_uri": "https://localhost:8080/"
        },
        "id": "kxk3WXTQurSe",
        "outputId": "5e595ad9-0bf2-4adc-e3b0-3b815198392c"
      },
      "execution_count": 6,
      "outputs": [
        {
          "output_type": "stream",
          "name": "stdout",
          "text": [
            "The no. of uppercase characters is 4\n",
            "The no. of lowercase characters is 15\n",
            "The no. of numerical characters is 3\n",
            "The no. of special characters is 4\n"
          ]
        }
      ]
    },
    {
      "cell_type": "code",
      "source": [
        "# import module for regular expression and collections\n",
        "import re\n",
        "#input\n",
        "string='ab12cd123ef23'\n",
        "#seperate number from string\n",
        "number = re.findall('\\d+', string)\n",
        "#convert it into integer\n",
        "number = map(int, number)\n",
        "print(\"Max_value:\",max(number))"
      ],
      "metadata": {
        "colab": {
          "base_uri": "https://localhost:8080/"
        },
        "id": "CUXAJ6BevUAe",
        "outputId": "070cde98-2092-41bf-ee32-2e0250ac2114"
      },
      "execution_count": 7,
      "outputs": [
        {
          "output_type": "stream",
          "name": "stdout",
          "text": [
            "Max_value: 123\n"
          ]
        }
      ]
    },
    {
      "cell_type": "code",
      "source": [
        "# import module for regular expression \n",
        "import re\n",
        "#input\n",
        "string='HelloWorldOfPython'\n",
        "#Find the words in string starting with uppercase letter. \n",
        "words = re.findall('[A-Z][a-z]*', string)\n",
        "#concatenate the word with space\n",
        "print(' '.join((words)))\n"
      ],
      "metadata": {
        "colab": {
          "base_uri": "https://localhost:8080/"
        },
        "id": "4aXxbKCWv2-j",
        "outputId": "28577f7d-f7a1-44ba-8302-b2d63a6a318f"
      },
      "execution_count": 8,
      "outputs": [
        {
          "output_type": "stream",
          "name": "stdout",
          "text": [
            "Hello World Of Python\n"
          ]
        }
      ]
    },
    {
      "cell_type": "code",
      "source": [
        ""
      ],
      "metadata": {
        "id": "IJenC-kXwaAp"
      },
      "execution_count": 8,
      "outputs": []
    }
  ]
}