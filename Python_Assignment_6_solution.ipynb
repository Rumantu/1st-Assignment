{
  "nbformat": 4,
  "nbformat_minor": 0,
  "metadata": {
    "colab": {
      "name": "Python Assignment 6 solution.ipynb",
      "provenance": [],
      "authorship_tag": "ABX9TyPgozfHLblE1xBc0mV2aRyP",
      "include_colab_link": true
    },
    "kernelspec": {
      "name": "python3",
      "display_name": "Python 3"
    },
    "language_info": {
      "name": "python"
    }
  },
  "cells": [
    {
      "cell_type": "markdown",
      "metadata": {
        "id": "view-in-github",
        "colab_type": "text"
      },
      "source": [
        "<a href=\"https://colab.research.google.com/github/Rumantu/1st-Assignment/blob/main/Python_Assignment_6_solution.ipynb\" target=\"_parent\"><img src=\"https://colab.research.google.com/assets/colab-badge.svg\" alt=\"Open In Colab\"/></a>"
      ]
    },
    {
      "cell_type": "code",
      "execution_count": 1,
      "metadata": {
        "colab": {
          "base_uri": "https://localhost:8080/"
        },
        "id": "f1h3BOEqY5vN",
        "outputId": "fdc03bde-4899-4c1e-81f3-fe4fccc908ce"
      },
      "outputs": [
        {
          "output_type": "stream",
          "name": "stdout",
          "text": [
            "[10, 10, 10]\n",
            "[10, 10, 10]\n",
            "[10, 10, 10]\n"
          ]
        }
      ],
      "source": [
        "# Program to add two matrices using nested loop\n",
        "\n",
        "X = [[1,2,3],\n",
        "\t  [4 ,5,6],\n",
        "\t  [7 ,8,9]]\n",
        "\n",
        "Y = [[9,8,7],\n",
        "  \t[6 ,5,4],\n",
        "\t  [3,2,1]]\n",
        "\n",
        "\n",
        "result = [[0,0,0],\n",
        "\t\t     [0 ,0,0],\n",
        "\t\t     [0,0,0]]\n",
        "\n",
        "# iterate through rows\n",
        "for i in range(len(X)):\n",
        "# iterate through columns\n",
        "\tfor j in range(len(X[0])):\n",
        "\t\tresult[i][j] = X[i][j] + Y[i][j]\n",
        "\n",
        "for r in result:\n",
        "\tprint(r)\n"
      ]
    },
    {
      "cell_type": "code",
      "source": [
        "# Program to multiply two matrices using nested loops\n",
        "\n",
        "# take a 3x3 matrix\n",
        "A = [[12, 7, 3],\n",
        "\t[4, 5, 6],\n",
        "\t[7, 8, 9]]\n",
        "\n",
        "# take a 3x4 matrix\n",
        "B = [[5, 8, 1, 2],\n",
        "\t[6, 7, 3, 0],\n",
        "\t[4, 5, 9, 1]]\n",
        "\t\n",
        "result = [[0, 0, 0, 0],\n",
        "\t\t[0, 0, 0, 0],\n",
        "\t\t[0, 0, 0, 0]]\n",
        "\n",
        "# iterating by row of A\n",
        "for i in range(len(A)):\n",
        "\n",
        "\t# iterating by column by B\n",
        "\tfor j in range(len(B[0])):\n",
        "\n",
        "\t\t# iterating by rows of B\n",
        "\t\tfor k in range(len(B)):\n",
        "\t\t\tresult[i][j] += A[i][k] * B[k][j]\n",
        "\n",
        "for r in result:\n",
        "\tprint(r)\n"
      ],
      "metadata": {
        "colab": {
          "base_uri": "https://localhost:8080/"
        },
        "id": "M061sIUDZfDo",
        "outputId": "aebd343e-12bf-4b6b-bfdd-a0b477d18188"
      },
      "execution_count": 2,
      "outputs": [
        {
          "output_type": "stream",
          "name": "stdout",
          "text": [
            "[114, 160, 60, 27]\n",
            "[74, 97, 73, 14]\n",
            "[119, 157, 112, 23]\n"
          ]
        }
      ]
    },
    {
      "cell_type": "code",
      "source": [
        "def Multiply(A,B):\n",
        "    result=[ [0,0,0],[0,0,0],[0,0,0] ]\n",
        "    #for rows\n",
        "    for i in range(len(A)):\n",
        "        #for columns\n",
        "        for j in range(len(B[0])):\n",
        "            #for rows of matrix B\n",
        "            for k in range(len(B)):\n",
        "                result[i][j] += A[i][k] * B[k][j]\n",
        "\n",
        "    for p in result:\n",
        "        print(p)\n",
        "    return 0\n",
        "\n",
        "A = [ [1, 2, 3],[6, 7, 4], [8, 10, 11] ]\n",
        "B = [[1, 5, 3],[2, 6, 5], [7, 4, 9] ]\n",
        "\n",
        "print(\"Result: \")\n",
        "Multiply(A,B)"
      ],
      "metadata": {
        "colab": {
          "base_uri": "https://localhost:8080/"
        },
        "id": "FtbWCAltZrRE",
        "outputId": "f5f33d7e-1969-4d99-d91e-b9f3aaf8f9d0"
      },
      "execution_count": 3,
      "outputs": [
        {
          "output_type": "stream",
          "name": "stdout",
          "text": [
            "Result: \n",
            "[26, 29, 40]\n",
            "[48, 88, 89]\n",
            "[105, 144, 173]\n"
          ]
        },
        {
          "output_type": "execute_result",
          "data": {
            "text/plain": [
              "0"
            ]
          },
          "metadata": {},
          "execution_count": 3
        }
      ]
    },
    {
      "cell_type": "code",
      "source": [
        "# importing numpy as np\n",
        "import numpy as np\n",
        "\n",
        "\n",
        "# creating first matrix\n",
        "A = np.array([[1, 2], [3, 4]])\n",
        "\n",
        "# creating second matrix\n",
        "B = np.array([[4, 5], [6, 7]])\n",
        "\n",
        "print(\"Printing elements of first matrix\")\n",
        "print(A)\n",
        "print(\"Printing elements of second matrix\")\n",
        "print(B)\n",
        "\n",
        "# adding two matrix\n",
        "print(\"Addition of two matrix\")\n",
        "print(np.add(A, B))\n"
      ],
      "metadata": {
        "colab": {
          "base_uri": "https://localhost:8080/"
        },
        "id": "EQ1a_zqEZ8k3",
        "outputId": "b1f75acf-9116-432f-be5b-9b30cb638d2e"
      },
      "execution_count": 4,
      "outputs": [
        {
          "output_type": "stream",
          "name": "stdout",
          "text": [
            "Printing elements of first matrix\n",
            "[[1 2]\n",
            " [3 4]]\n",
            "Printing elements of second matrix\n",
            "[[4 5]\n",
            " [6 7]]\n",
            "Addition of two matrix\n",
            "[[ 5  7]\n",
            " [ 9 11]]\n"
          ]
        }
      ]
    },
    {
      "cell_type": "code",
      "source": [
        "m = [[1,2],[3,4],[5,6]]\n",
        "for row in m :\n",
        "\tprint(row)\n",
        "rez = [[m[j][i] for j in range(len(m))] for i in range(len(m[0]))]\n",
        "print(\"\\n\")\n",
        "for row in rez:\n",
        "\tprint(row)\n"
      ],
      "metadata": {
        "colab": {
          "base_uri": "https://localhost:8080/"
        },
        "id": "PoJoPPm8aS-D",
        "outputId": "bfe5f93a-32cf-4cd3-ae32-ddfba52724b5"
      },
      "execution_count": 5,
      "outputs": [
        {
          "output_type": "stream",
          "name": "stdout",
          "text": [
            "[1, 2]\n",
            "[3, 4]\n",
            "[5, 6]\n",
            "\n",
            "\n",
            "[1, 3, 5]\n",
            "[2, 4, 6]\n"
          ]
        }
      ]
    },
    {
      "cell_type": "code",
      "source": [
        "# Python3 code to demonstrate matrix creation of n * n using list comprehension\n",
        "\n",
        "# initializing N\n",
        "N = 4\n",
        "\n",
        "# printing dimension\n",
        "print(\"The dimension : \" + str(N))\n",
        "\n",
        "# using list comprehension matrix creation of n * n\n",
        "res = [list(range(1 + N * i, 1 + N * (i + 1)))\n",
        "\t\t\t\t\t\t\tfor i in range(N)]\n",
        "\n",
        "# print result\n",
        "print(\"The created matrix of N * N: \" + str(res))\n"
      ],
      "metadata": {
        "colab": {
          "base_uri": "https://localhost:8080/"
        },
        "id": "p0b86kPkaen1",
        "outputId": "4753b00e-b835-4f1b-ca58-7e0d86d15e2b"
      },
      "execution_count": 6,
      "outputs": [
        {
          "output_type": "stream",
          "name": "stdout",
          "text": [
            "The dimension : 4\n",
            "The created matrix of N * N: [[1, 2, 3, 4], [5, 6, 7, 8], [9, 10, 11, 12], [13, 14, 15, 16]]\n"
          ]
        }
      ]
    },
    {
      "cell_type": "code",
      "source": [
        "# Python3 code to demonstrate working of Get Kth Column of Matrix using list comprehension\n",
        "\n",
        "# initialize list\n",
        "test_list = [[4, 5, 6], [8, 1, 10], [7, 12, 5]]\n",
        "\n",
        "# printing original list\n",
        "print(\"The original list is : \" + str(test_list))\n",
        "\n",
        "# initialize K\n",
        "K = 2\n",
        "\n",
        "# Get Kth Column of Matrix using list comprehension\n",
        "res = [sub[K] for sub in test_list]\n",
        "\n",
        "# printing result\n",
        "print(\"The Kth column of matrix is : \" + str(res))\n"
      ],
      "metadata": {
        "colab": {
          "base_uri": "https://localhost:8080/"
        },
        "id": "UhGkINihaugL",
        "outputId": "a6e7ea19-685e-4bb3-aa69-4b5c61933f2e"
      },
      "execution_count": 7,
      "outputs": [
        {
          "output_type": "stream",
          "name": "stdout",
          "text": [
            "The original list is : [[4, 5, 6], [8, 1, 10], [7, 12, 5]]\n",
            "The Kth column of matrix is : [6, 10, 5]\n"
          ]
        }
      ]
    },
    {
      "cell_type": "code",
      "source": [
        "# Python3 code to demonstrate working of Vertical Concatenation in Matrix Using loop\n",
        "\n",
        "# initializing lists\n",
        "test_list = [[\"Gfg\", \"good\"], [\"is\", \"for\"], [\"Best\"]]\n",
        "\n",
        "# printing original list\n",
        "print(\"The original list : \" + str(test_list))\n",
        "\n",
        "# using loop for iteration\n",
        "res = []\n",
        "N = 0\n",
        "while N != len(test_list):\n",
        "\ttemp = ''\n",
        "\tfor idx in test_list:\n",
        "\t\t\n",
        "\t\t# checking for valid index / column\n",
        "\t\ttry: temp = temp + idx[N]\n",
        "\t\texcept IndexError: pass\n",
        "\tres.append(temp)\n",
        "\tN = N + 1\n",
        "\n",
        "res = [ele for ele in res if ele]\n",
        "\n",
        "# printing result\n",
        "print(\"List after column Concatenation : \" + str(res))\n"
      ],
      "metadata": {
        "colab": {
          "base_uri": "https://localhost:8080/"
        },
        "id": "gqo50fLXa89T",
        "outputId": "c6aa0653-227d-4749-f134-f3ca5ab76a90"
      },
      "execution_count": 8,
      "outputs": [
        {
          "output_type": "stream",
          "name": "stdout",
          "text": [
            "The original list : [['Gfg', 'good'], ['is', 'for'], ['Best']]\n",
            "List after column Concatenation : ['GfgisBest', 'goodfor']\n"
          ]
        }
      ]
    },
    {
      "cell_type": "code",
      "source": [
        "# function which return reverse of a string\n",
        "\n",
        "def isPalindrome(s):\n",
        "\treturn s == s[::-1]\n",
        "\n",
        "\n",
        "# Driver code\n",
        "s = \"malayalam\"\n",
        "ans = isPalindrome(s)\n",
        "\n",
        "if ans:\n",
        "\tprint(\"Yes\")\n",
        "else:\n",
        "\tprint(\"No\")\n"
      ],
      "metadata": {
        "colab": {
          "base_uri": "https://localhost:8080/"
        },
        "id": "Nl-RziYXbJt8",
        "outputId": "74e7c2cc-a62d-448e-b8b4-d44ca7a1b647"
      },
      "execution_count": 9,
      "outputs": [
        {
          "output_type": "stream",
          "name": "stdout",
          "text": [
            "Yes\n"
          ]
        }
      ]
    },
    {
      "cell_type": "code",
      "source": [
        "# Python program to demonstrate\n",
        "# symmetry and palindrome of the\n",
        "# string\n",
        "\n",
        "\n",
        "# Function to check whether the\n",
        "# string is palindrome or not\n",
        "def palindrome(a):\n",
        "\n",
        "\t# finding the mid, start\n",
        "\t# and last index of the string\n",
        "\tmid = (len(a)-1)//2\t #you can remove the -1 or you add <= sign in line 21\n",
        "\tstart = 0\t\t\t #so that you can compare the middle elements also.\n",
        "\tlast = len(a)-1\n",
        "\tflag = 0\n",
        "\n",
        "\t# A loop till the mid of the\n",
        "\t# string\n",
        "\twhile(start <= mid):\n",
        "\n",
        "\t\t# comparing letters from right\n",
        "\t\t# from the letters from left\n",
        "\t\tif (a[start]== a[last]):\n",
        "\t\t\t\n",
        "\t\t\tstart += 1\n",
        "\t\t\tlast -= 1\n",
        "\t\t\t\n",
        "\t\telse:\n",
        "\t\t\tflag = 1\n",
        "\t\t\tbreak;\n",
        "\t\t\t\n",
        "\t# Checking the flag variable to check if the string is palindrome or not\n",
        "\tif flag == 0:\n",
        "\t\tprint(\"The entered string is palindrome\")\n",
        "\telse:\n",
        "\t\tprint(\"The entered string is not palindrome\")\n",
        "\t\t\n",
        "# Function to check whether the string is symmetrical or not\t\n",
        "def symmetry(a):\n",
        "\t\n",
        "\tn = len(a)\n",
        "\tflag = 0\n",
        "\t\n",
        "\t# Check if the string's length is odd or even\n",
        "\tif n%2:\n",
        "\t\tmid = n//2 +1\n",
        "\telse:\n",
        "\t\tmid = n//2\n",
        "\t\t\n",
        "\tstart1 = 0\n",
        "\tstart2 = mid\n",
        "\t\n",
        "\twhile(start1 < mid and start2 < n):\n",
        "\t\t\n",
        "\t\tif (a[start1]== a[start2]):\n",
        "\t\t\tstart1 = start1 + 1\n",
        "\t\t\tstart2 = start2 + 1\n",
        "\t\telse:\n",
        "\t\t\tflag = 1\n",
        "\t\t\tbreak\n",
        "\t\n",
        "\t# Checking the flag variable to check if the string is symmetrical or not\n",
        "\tif flag == 0:\n",
        "\t\tprint(\"The entered string is symmetrical\")\n",
        "\telse:\n",
        "\t\tprint(\"The entered string is not symmetrical\")\n",
        "\t\t\n",
        "# Driver code\n",
        "string = 'amaama'\n",
        "palindrome(string)\n",
        "symmetry(string)\n"
      ],
      "metadata": {
        "colab": {
          "base_uri": "https://localhost:8080/"
        },
        "id": "CuSZdHXrbUyg",
        "outputId": "6f5f1973-3aae-4169-b494-70de464a1ca0"
      },
      "execution_count": 10,
      "outputs": [
        {
          "output_type": "stream",
          "name": "stdout",
          "text": [
            "The entered string is palindrome\n",
            "The entered string is symmetrical\n"
          ]
        }
      ]
    },
    {
      "cell_type": "code",
      "source": [
        ""
      ],
      "metadata": {
        "id": "H4cO9hkWbwHJ"
      },
      "execution_count": null,
      "outputs": []
    }
  ]
}