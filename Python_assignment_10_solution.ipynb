{
  "nbformat": 4,
  "nbformat_minor": 0,
  "metadata": {
    "colab": {
      "name": "Python assignment 10 solution.ipynb",
      "provenance": [],
      "authorship_tag": "ABX9TyOHFfGlvJO5QFh0UCUnbOcI",
      "include_colab_link": true
    },
    "kernelspec": {
      "name": "python3",
      "display_name": "Python 3"
    },
    "language_info": {
      "name": "python"
    }
  },
  "cells": [
    {
      "cell_type": "markdown",
      "metadata": {
        "id": "view-in-github",
        "colab_type": "text"
      },
      "source": [
        "<a href=\"https://colab.research.google.com/github/Rumantu/1st-Assignment/blob/main/Python_assignment_10_solution.ipynb\" target=\"_parent\"><img src=\"https://colab.research.google.com/assets/colab-badge.svg\" alt=\"Open In Colab\"/></a>"
      ]
    },
    {
      "cell_type": "code",
      "source": [
        "# Python code to demonstrate\n",
        "# removal of dict. pair\n",
        "# using pop()\n",
        "\n",
        "# Initializing dictionary\n",
        "test_dict = {\"Arushi\" : 22, \"Anuradha\" : 21, \"Mani\" : 21, \"Haritha\" : 21}\n",
        "\n",
        "# Printing dictionary before removal\n",
        "print (\"The dictionary before performing remove is : \" + str(test_dict))\n",
        "\n",
        "# Using pop() to remove a dict. pair\n",
        "# removes Mani\n",
        "removed_value = test_dict.pop('Mani')\n",
        "\n",
        "# Printing dictionary after removal\n",
        "print (\"The dictionary after remove is : \" + str(test_dict))\n",
        "print (\"The removed key's value is : \" + str(removed_value))\n",
        "\n",
        "print ('\\r')\n",
        "\n",
        "# Using pop() to remove a dict. pair\n",
        "# doesn't raise exception\n",
        "# assigns 'No Key found' to removed_value\n",
        "removed_value = test_dict.pop('Manjeet', 'No Key found')\n",
        "\n",
        "# Printing dictionary after removal\n",
        "print (\"The dictionary after remove is : \" + str(test_dict))\n",
        "print (\"The removed key's value is : \" + str(removed_value))\n"
      ],
      "metadata": {
        "colab": {
          "base_uri": "https://localhost:8080/"
        },
        "id": "qWvl2mIyzvOU",
        "outputId": "ed427eb9-b357-45a0-a4dc-b09fa2346f72"
      },
      "execution_count": 1,
      "outputs": [
        {
          "output_type": "stream",
          "name": "stdout",
          "text": [
            "The dictionary before performing remove is : {'Arushi': 22, 'Anuradha': 21, 'Mani': 21, 'Haritha': 21}\n",
            "The dictionary after remove is : {'Arushi': 22, 'Anuradha': 21, 'Haritha': 21}\n",
            "The removed key's value is : 21\n",
            "\r\n",
            "The dictionary after remove is : {'Arushi': 22, 'Anuradha': 21, 'Haritha': 21}\n",
            "The removed key's value is : No Key found\n"
          ]
        }
      ]
    },
    {
      "cell_type": "code",
      "source": [
        "from operator import itemgetter\n",
        "\n",
        "my_list = [{ \"name\" : \"Will\", \"age\" : 56},\n",
        "          { \"name\" : \"Rob\", \"age\" : 20 },\n",
        "          { \"name\" : \"Mark\" , \"age\" : 34 },\n",
        "          { \"name\" : \"John\" , \"age\" : 24 }]\n",
        "\n",
        "print(\"The list sorted by age is : \")\n",
        "print(sorted(my_list, key=itemgetter('age')))\n",
        "\n",
        "print(\"The list sorted by age and name is : \")\n",
        "print(sorted(my_list, key=itemgetter('age', 'name')))\n",
        "\n",
        "print(\"The list sorted by age in descending order is : \")\n",
        "print(sorted(my_list, key=itemgetter('age'),reverse = True))"
      ],
      "metadata": {
        "colab": {
          "base_uri": "https://localhost:8080/"
        },
        "id": "WZ2a5iTn0mGC",
        "outputId": "766ebb88-3ea8-4359-9491-8ab97618264e"
      },
      "execution_count": 2,
      "outputs": [
        {
          "output_type": "stream",
          "name": "stdout",
          "text": [
            "The list sorted by age is : \n",
            "[{'name': 'Rob', 'age': 20}, {'name': 'John', 'age': 24}, {'name': 'Mark', 'age': 34}, {'name': 'Will', 'age': 56}]\n",
            "The list sorted by age and name is : \n",
            "[{'name': 'Rob', 'age': 20}, {'name': 'John', 'age': 24}, {'name': 'Mark', 'age': 34}, {'name': 'Will', 'age': 56}]\n",
            "The list sorted by age in descending order is : \n",
            "[{'name': 'Will', 'age': 56}, {'name': 'Mark', 'age': 34}, {'name': 'John', 'age': 24}, {'name': 'Rob', 'age': 20}]\n"
          ]
        }
      ]
    },
    {
      "cell_type": "code",
      "source": [
        "# Python code demonstrate the working of\n",
        "# sorted() with lambda\n",
        "\n",
        "# Initializing list of dictionaries\n",
        "lis = [{ \"name\" : \"Nandini\", \"age\" : 20},\n",
        "{ \"name\" : \"Manjeet\", \"age\" : 20 },\n",
        "{ \"name\" : \"Nikhil\" , \"age\" : 19 }]\n",
        "\n",
        "# using sorted and lambda to print list sorted\n",
        "# by age\n",
        "print (\"The list printed sorting by age: \")\n",
        "print (sorted(lis, key = lambda i: i['age']))\n",
        "\n",
        "print (\"\\r\")\n",
        "\n",
        "# using sorted and lambda to print list sorted\n",
        "# by both age and name. Notice that \"Manjeet\"\n",
        "# now comes before \"Nandini\"\n",
        "print (\"The list printed sorting by age and name: \")\n",
        "print (sorted(lis, key = lambda i: (i['age'], i['name'])))\n",
        "\n",
        "print (\"\\r\")\n",
        "\n",
        "# using sorted and lambda to print list sorted\n",
        "# by age in descending order\n",
        "print (\"The list printed sorting by age in descending order: \")\n",
        "print (sorted(lis, key = lambda i: i['age'],reverse=True))\n"
      ],
      "metadata": {
        "colab": {
          "base_uri": "https://localhost:8080/"
        },
        "id": "Fzk1AXckz0Zy",
        "outputId": "8e47ef21-d885-4cb6-b7c3-957e6d002468"
      },
      "execution_count": 3,
      "outputs": [
        {
          "output_type": "stream",
          "name": "stdout",
          "text": [
            "The list printed sorting by age: \n",
            "[{'name': 'Nikhil', 'age': 19}, {'name': 'Nandini', 'age': 20}, {'name': 'Manjeet', 'age': 20}]\n",
            "\r\n",
            "The list printed sorting by age and name: \n",
            "[{'name': 'Nikhil', 'age': 19}, {'name': 'Manjeet', 'age': 20}, {'name': 'Nandini', 'age': 20}]\n",
            "\r\n",
            "The list printed sorting by age in descending order: \n",
            "[{'name': 'Nandini', 'age': 20}, {'name': 'Manjeet', 'age': 20}, {'name': 'Nikhil', 'age': 19}]\n"
          ]
        }
      ]
    },
    {
      "cell_type": "code",
      "source": [
        "# Python code to merge dict using update() method\n",
        "def Merge(dict1, dict2):\n",
        "\treturn(dict2.update(dict1))\n",
        "\t\n",
        "# Driver code\n",
        "dict1 = {'a': 10, 'b': 8}\n",
        "dict2 = {'d': 6, 'c': 4}\n",
        "\n",
        "# This return None\n",
        "print(Merge(dict1, dict2))\n",
        "\n",
        "# changes made in dict2\n",
        "print(dict2)\n"
      ],
      "metadata": {
        "colab": {
          "base_uri": "https://localhost:8080/"
        },
        "id": "qbXWQoYo04T0",
        "outputId": "a7b1f8d6-c587-4d02-9950-bd9720868343"
      },
      "execution_count": 4,
      "outputs": [
        {
          "output_type": "stream",
          "name": "stdout",
          "text": [
            "None\n",
            "{'d': 6, 'c': 4, 'a': 10, 'b': 8}\n"
          ]
        }
      ]
    },
    {
      "cell_type": "code",
      "source": [
        "# Python3 code to demonstrate working of\n",
        "# Convert key-values list to flat dictionary\n",
        "# Using dict() + zip()\n",
        "from itertools import product\n",
        "\n",
        "# initializing dictionary\n",
        "test_dict = {'month' : [1, 2, 3],\n",
        "\t\t\t'name' : ['Jan', 'Feb', 'March']}\n",
        "\n",
        "# printing original dictionary\n",
        "print(\"The original dictionary is : \" + str(test_dict))\n",
        "\n",
        "# Convert key-values list to flat dictionary\n",
        "# Using dict() + zip()\n",
        "res = dict(zip(test_dict['month'], test_dict['name']))\n",
        "\n",
        "# printing result\n",
        "print(\"Flattened dictionary : \" + str(res))\n"
      ],
      "metadata": {
        "colab": {
          "base_uri": "https://localhost:8080/"
        },
        "id": "0SnaUHWn1CJ1",
        "outputId": "5aafd14d-edb9-4821-e36c-c14d8f53cc13"
      },
      "execution_count": 5,
      "outputs": [
        {
          "output_type": "stream",
          "name": "stdout",
          "text": [
            "The original dictionary is : {'month': [1, 2, 3], 'name': ['Jan', 'Feb', 'March']}\n",
            "Flattened dictionary : {1: 'Jan', 2: 'Feb', 3: 'March'}\n"
          ]
        }
      ]
    },
    {
      "cell_type": "code",
      "source": [
        "# Python code to demonstrate\n",
        "# insertion of items in beginning of ordered dict\n",
        "from collections import OrderedDict\n",
        "\n",
        "# initialising ordered_dict\n",
        "iniordered_dict = OrderedDict([('akshat', '1'), ('nikhil', '2')])\n",
        "\n",
        "# inserting items in starting of dict\n",
        "iniordered_dict.update({'manjeet':'3'})\n",
        "iniordered_dict.move_to_end('manjeet', last = False)\n",
        "\n",
        "# print result\n",
        "print (\"Resultant Dictionary : \"+str(iniordered_dict))\n"
      ],
      "metadata": {
        "colab": {
          "base_uri": "https://localhost:8080/"
        },
        "id": "C2OBZ99E1QFH",
        "outputId": "5a2fda65-c6d6-41c1-c192-73c86c608b02"
      },
      "execution_count": 6,
      "outputs": [
        {
          "output_type": "stream",
          "name": "stdout",
          "text": [
            "Resultant Dictionary : OrderedDict([('manjeet', '3'), ('akshat', '1'), ('nikhil', '2')])\n"
          ]
        }
      ]
    },
    {
      "cell_type": "code",
      "source": [
        "# Function to check if string follows order of\n",
        "# characters defined by a pattern\n",
        "from collections import OrderedDict\n",
        "\n",
        "def checkOrder(input, pattern):\n",
        "\t\n",
        "\t# create empty OrderedDict\n",
        "\t# output will be like {'a': None,'b': None, 'c': None}\n",
        "\tdict = OrderedDict.fromkeys(input)\n",
        "\n",
        "\t# traverse generated OrderedDict parallel with\n",
        "\t# pattern string to check if order of characters\n",
        "\t# are same or not\n",
        "\tptrlen = 0\n",
        "\tfor key,value in dict.items():\n",
        "\t\tif (key == pattern[ptrlen]):\n",
        "\t\t\tptrlen = ptrlen + 1\n",
        "\t\t\n",
        "\t\t# check if we have traverse complete\n",
        "\t\t# pattern string\n",
        "\t\tif (ptrlen == (len(pattern))):\n",
        "\t\t\treturn 'true'\n",
        "\n",
        "\t# if we come out from for loop that means\n",
        "\t# order was mismatched\n",
        "\treturn 'false'\n",
        "\n",
        "# Driver program\n",
        "if __name__ == \"__main__\":\n",
        "\tinput = 'engineers rock'\n",
        "\tpattern = 'egr'\n",
        "\tprint (checkOrder(input,pattern))\n"
      ],
      "metadata": {
        "colab": {
          "base_uri": "https://localhost:8080/"
        },
        "id": "KyxLZKbu1Y48",
        "outputId": "b34e52b8-4d38-4b08-d21d-84101a395e4d"
      },
      "execution_count": 7,
      "outputs": [
        {
          "output_type": "stream",
          "name": "stdout",
          "text": [
            "true\n"
          ]
        }
      ]
    },
    {
      "cell_type": "code",
      "source": [
        "# Function to find winner of an election where votes\n",
        "# are represented as candidate names\n",
        "from collections import Counter\n",
        "\n",
        "def winner(input):\n",
        "\n",
        "\t# convert list of candidates into dictionary\n",
        "\t# output will be likes candidates = {'A':2, 'B':4}\n",
        "\tvotes = Counter(input)\n",
        "\t\n",
        "\t# create another dictionary and it's key will\n",
        "\t# be count of votes values will be name of\n",
        "\t# candidates\n",
        "\tdict = {}\n",
        "\n",
        "\tfor value in votes.values():\n",
        "\n",
        "\t\t# initialize empty list to each key to\n",
        "\t\t# insert candidate names having same\n",
        "\t\t# number of votes\n",
        "\t\tdict[value] = []\n",
        "\n",
        "\tfor (key,value) in votes.items():\n",
        "\t\tdict[value].append(key)\n",
        "\n",
        "\t# sort keys in descending order to get maximum\n",
        "\t# value of votes\n",
        "\tmaxVote = sorted(dict.keys(),reverse=True)[0]\n",
        "\n",
        "\t# check if more than 1 candidates have same\n",
        "\t# number of votes. If yes, then sort the list\n",
        "\t# first and print first element\n",
        "\tif len(dict[maxVote])>1:\n",
        "\t\tprint (sorted(dict[maxVote])[0])\n",
        "\telse:\n",
        "\t\tprint (dict[maxVote][0])\n",
        "\n",
        "# Driver program\n",
        "if __name__ == \"__main__\":\n",
        "\tinput =['john','johnny','jackie','johnny',\n",
        "\t\t\t'john','jackie','jamie','jamie',\n",
        "\t\t\t'john','johnny','jamie','johnny',\n",
        "\t\t\t'john']\n",
        "\twinner(input)\n"
      ],
      "metadata": {
        "colab": {
          "base_uri": "https://localhost:8080/"
        },
        "id": "_Nr01upg1jUi",
        "outputId": "7d893bce-4193-4516-afbd-e15020aff8d6"
      },
      "execution_count": 8,
      "outputs": [
        {
          "output_type": "stream",
          "name": "stdout",
          "text": [
            "john\n"
          ]
        }
      ]
    },
    {
      "cell_type": "code",
      "source": [
        "# Python3 code to demonstrate working of\n",
        "# Append Dictionary Keys and Values ( In order ) in dictionary\n",
        "# Using values() + keys() + list()\n",
        "\n",
        "# initializing dictionary\n",
        "test_dict = {\"Gfg\" : 1, \"is\" : 3, \"Best\" : 2}\n",
        "\n",
        "# printing original dictionary\n",
        "print(\"The original dictionary is : \" + str(test_dict))\n",
        "\n",
        "# + operator is used to perform adding keys and values\n",
        "res = list(test_dict.keys()) + list(test_dict.values())\n",
        "\n",
        "# printing result\n",
        "print(\"The ordered keys and values : \" + str(res))\n"
      ],
      "metadata": {
        "colab": {
          "base_uri": "https://localhost:8080/"
        },
        "id": "K1YQ8QeQ1tiF",
        "outputId": "baa35ee2-8825-4025-982f-c0b4e460bf51"
      },
      "execution_count": 9,
      "outputs": [
        {
          "output_type": "stream",
          "name": "stdout",
          "text": [
            "The original dictionary is : {'Gfg': 1, 'is': 3, 'Best': 2}\n",
            "The ordered keys and values : ['Gfg', 'is', 'Best', 1, 3, 2]\n"
          ]
        }
      ]
    },
    {
      "cell_type": "code",
      "source": [
        "key_value={}\n",
        "\n",
        "key_value[5] = 10      \n",
        "key_value[3] = 8\n",
        "key_value[6] = 77\n",
        "key_value[4] = 23\n",
        "key_value[2] = 9     \n",
        "key_value[1] = 43\n",
        " \n",
        "print(\"sorting on the basis of keys\")\n",
        "\n",
        "for i in sorted(key_value) :\n",
        "    print ((i, key_value[i]), end =\" \")"
      ],
      "metadata": {
        "colab": {
          "base_uri": "https://localhost:8080/"
        },
        "id": "lqMkEvOI2pyy",
        "outputId": "54f64d2f-90bc-4a6d-b1b9-ddde1bcca00c"
      },
      "execution_count": 10,
      "outputs": [
        {
          "output_type": "stream",
          "name": "stdout",
          "text": [
            "sorting on the basis of keys\n",
            "(1, 43) (2, 9) (3, 8) (4, 23) (5, 10) (6, 77) "
          ]
        }
      ]
    },
    {
      "cell_type": "code",
      "source": [
        ""
      ],
      "metadata": {
        "id": "YvhLmxim22uf"
      },
      "execution_count": null,
      "outputs": []
    },
    {
      "cell_type": "code",
      "source": [
        ""
      ],
      "metadata": {
        "id": "EsoB04LI2p10"
      },
      "execution_count": 10,
      "outputs": []
    }
  ]
}