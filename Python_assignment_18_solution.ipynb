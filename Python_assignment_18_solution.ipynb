{
  "nbformat": 4,
  "nbformat_minor": 0,
  "metadata": {
    "colab": {
      "name": "Python assignment 18 solution.ipynb",
      "provenance": [],
      "authorship_tag": "ABX9TyMkZCK7tnYj5m6cs6Zwfb+h",
      "include_colab_link": true
    },
    "kernelspec": {
      "name": "python3",
      "display_name": "Python 3"
    },
    "language_info": {
      "name": "python"
    }
  },
  "cells": [
    {
      "cell_type": "markdown",
      "metadata": {
        "id": "view-in-github",
        "colab_type": "text"
      },
      "source": [
        "<a href=\"https://colab.research.google.com/github/Rumantu/1st-Assignment/blob/main/Python_assignment_18_solution.ipynb\" target=\"_parent\"><img src=\"https://colab.research.google.com/assets/colab-badge.svg\" alt=\"Open In Colab\"/></a>"
      ]
    },
    {
      "cell_type": "code",
      "execution_count": 1,
      "metadata": {
        "colab": {
          "base_uri": "https://localhost:8080/"
        },
        "id": "wfkqeEOryjSr",
        "outputId": "1180caf5-c5f1-431c-f915-b590fb4f44bb"
      },
      "outputs": [
        {
          "output_type": "stream",
          "name": "stdout",
          "text": [
            "Valid\n",
            "Valid\n",
            "Invalid\n"
          ]
        }
      ],
      "source": [
        "# Python program to check if a string starts\n",
        "# and ends with the same character\n",
        "\n",
        "# import re module as it provides\n",
        "# support for regular expressions\n",
        "import re\n",
        "\n",
        "# the regular expression\n",
        "regex = r'^[a-z]$|^([a-z]).*\\1$'\n",
        "\n",
        "# function for checking the string\n",
        "def check(string):\n",
        "\n",
        "\t# pass the regular expression\n",
        "\t# and the string in the search() method\n",
        "\tif(re.search(regex, string)):\n",
        "\t\tprint(\"Valid\")\n",
        "\telse:\n",
        "\t\tprint(\"Invalid\")\n",
        "\n",
        "if __name__ == '__main__' :\n",
        "\n",
        "\tsample1 = \"abba\"\n",
        "\tsample2 = \"a\"\n",
        "\tsample3 = \"abcd\"\n",
        "\n",
        "\tcheck(sample1)\n",
        "\tcheck(sample2)\n",
        "\tcheck(sample3)\n"
      ]
    },
    {
      "cell_type": "code",
      "source": [
        "# Python3 code to find sequences of one upper\n",
        "# case letter followed by lower case letters\n",
        "import re\n",
        "\n",
        "# Function to match the string\n",
        "def match(text):\n",
        "\t\t\n",
        "\t\t# regex\n",
        "\t\tpattern = '[A-Z]+[a-z]+$'\n",
        "\t\t\n",
        "\t\t# searching pattern\n",
        "\t\tif re.search(pattern, text):\n",
        "\t\t\t\treturn('Yes')\n",
        "\t\telse:\n",
        "\t\t\t\treturn('No')\n",
        "\n",
        "# Driver Function\n",
        "print(match(\"Geeks\"))\n",
        "print(match(\"geeksforGeeks\"))\n",
        "print(match(\"geeks\"))\n"
      ],
      "metadata": {
        "colab": {
          "base_uri": "https://localhost:8080/"
        },
        "id": "IFjs-22UDIyo",
        "outputId": "75d4fc5e-cff6-4743-ec9a-f2b4f026db48"
      },
      "execution_count": 2,
      "outputs": [
        {
          "output_type": "stream",
          "name": "stdout",
          "text": [
            "Yes\n",
            "Yes\n",
            "No\n"
          ]
        }
      ]
    },
    {
      "cell_type": "code",
      "source": [
        "from collections import Counter\n",
        "\n",
        "def remov_duplicates(input):\n",
        "\n",
        "\t# split input string separated by space\n",
        "\tinput = input.split(\" \")\n",
        "\n",
        "\t# now create dictionary using counter method\n",
        "\t# which will have strings as key and their\n",
        "\t# frequencies as value\n",
        "\tUniqW = Counter(input)\n",
        "\n",
        "\t# joins two adjacent elements in iterable way\n",
        "\ts = \" \".join(UniqW.keys())\n",
        "\tprint (s)\n",
        "\n",
        "# Driver program\n",
        "if __name__ == \"__main__\":\n",
        "\tinput = 'Python is great and Java is also great'\n",
        "\tremov_duplicates(input)\n"
      ],
      "metadata": {
        "colab": {
          "base_uri": "https://localhost:8080/"
        },
        "id": "tD8D4KRyDbGv",
        "outputId": "e6afc40f-4ef7-44ae-df44-13d22194ad2e"
      },
      "execution_count": 3,
      "outputs": [
        {
          "output_type": "stream",
          "name": "stdout",
          "text": [
            "Python is great and Java also\n"
          ]
        }
      ]
    },
    {
      "cell_type": "code",
      "source": [
        "# Python code to demonstrate\n",
        "# to remove all the characters\n",
        "# except numbers and alphabets\n",
        "\n",
        "import re\n",
        "\n",
        "# initialising string\n",
        "ini_string = \"123abcjw:, .@! eiw\"\n",
        "\n",
        "# printing initial string\n",
        "print (\"initial string : \", ini_string)\n",
        "\n",
        "# function to demonstrate removal of characters\n",
        "# which are not numbers and alphabets using re\n",
        "\n",
        "result = re.sub('[\\W_]+', '', ini_string)\n",
        "\n",
        "# printing final string\n",
        "print (\"final string\", result)\n"
      ],
      "metadata": {
        "colab": {
          "base_uri": "https://localhost:8080/"
        },
        "id": "yCix6uVuDqyJ",
        "outputId": "ebf7c29c-05c3-4015-d1cf-51babc6a97d6"
      },
      "execution_count": 4,
      "outputs": [
        {
          "output_type": "stream",
          "name": "stdout",
          "text": [
            "initial string :  123abcjw:, .@! eiw\n",
            "final string 123abcjweiw\n"
          ]
        }
      ]
    },
    {
      "cell_type": "code",
      "source": [
        "# Python program to accept string ending\n",
        "# with only alphanumeric character.\n",
        "# import re module\n",
        "\n",
        "# re module provides support\n",
        "# for regular expressions\n",
        "import re\n",
        "\n",
        "# Make a regular expression to accept string\n",
        "# ending with alphanumeric character\n",
        "regex = '[a-zA-z0-9]$'\n",
        "\t\n",
        "# Define a function for accepting string\n",
        "# ending with alphanumeric character\n",
        "def check(string):\n",
        "\n",
        "\t# pass the regular expression\n",
        "\t# and the string in search() method\n",
        "\tif(re.search(regex, string)):\n",
        "\t\tprint(\"Accept\")\n",
        "\t\t\n",
        "\telse:\n",
        "\t\tprint(\"Discard\")\n",
        "\t\n",
        "\n",
        "# Driver Code\n",
        "if __name__ == '__main__' :\n",
        "\t\n",
        "\t# Enter the string\n",
        "\tstring = \"ankirai@\"\n",
        "\t\n",
        "\t# calling run function\n",
        "\tcheck(string)\n",
        "\n",
        "\tstring = \"ankitrai326\"\n",
        "\tcheck(string)\n",
        "\n",
        "\tstring = \"ankit.\"\n",
        "\tcheck(string)\n",
        "\n",
        "\tstring = \"geeksforgeeks\"\n",
        "\tcheck(string)\n"
      ],
      "metadata": {
        "colab": {
          "base_uri": "https://localhost:8080/"
        },
        "id": "iQpDXq_sD2iA",
        "outputId": "80b94f36-2b67-480a-b1e8-f7d50d32e4c1"
      },
      "execution_count": 5,
      "outputs": [
        {
          "output_type": "stream",
          "name": "stdout",
          "text": [
            "Discard\n",
            "Accept\n",
            "Discard\n",
            "Accept\n"
          ]
        }
      ]
    },
    {
      "cell_type": "code",
      "source": [
        "# Python program to accept string starting with a vowel\n",
        "\n",
        "# import re module\n",
        "\n",
        "# re module provides support\n",
        "# for regular expressions\n",
        "import re\n",
        "\n",
        "# Make a regular expression\n",
        "# to accept string starting with vowel\n",
        "regex = '^[aeiouAEIOU][A-Za-z0-9_]*'\n",
        "\t\n",
        "# Define a function for\n",
        "# accepting string start with vowel\n",
        "def check(string):\n",
        "\n",
        "\t# pass the regular expression\n",
        "\t# and the string in search() method\n",
        "\tif(re.search(regex, string)):\n",
        "\t\tprint(\"Valid\")\n",
        "\t\t\n",
        "\telse:\n",
        "\t\tprint(\"Invalid\")\n",
        "\t\n",
        "\n",
        "# Driver Code\n",
        "if __name__ == '__main__' :\n",
        "\t\n",
        "\t# Enter the string\n",
        "\tstring = \"ankit\"\n",
        "\t\n",
        "\t# calling run function\n",
        "\tcheck(string)\n",
        "\n",
        "\tstring = \"geeks\"\n",
        "\tcheck(string)\n",
        "\n",
        "\tstring = \"sandeep\"\n",
        "\tcheck(string)\n"
      ],
      "metadata": {
        "colab": {
          "base_uri": "https://localhost:8080/"
        },
        "id": "b3g1oi6eEBi2",
        "outputId": "f7f98562-ace2-4362-88cc-621351a3f4f2"
      },
      "execution_count": 6,
      "outputs": [
        {
          "output_type": "stream",
          "name": "stdout",
          "text": [
            "Valid\n",
            "Invalid\n",
            "Invalid\n"
          ]
        }
      ]
    },
    {
      "cell_type": "code",
      "source": [
        "# Python program to check if a string starts\n",
        "# and ends with the same character\n",
        "\n",
        "# import re module as it provides\n",
        "# support for regular expressions\n",
        "import re\n",
        "\n",
        "# the regular expression\n",
        "regex = r'^[a-z]$|^([a-z]).*\\1$'\n",
        "\n",
        "# function for checking the string\n",
        "def check(string):\n",
        "\n",
        "\t# pass the regular expression\n",
        "\t# and the string in the search() method\n",
        "\tif(re.search(regex, string)):\n",
        "\t\tprint(\"Valid\")\n",
        "\telse:\n",
        "\t\tprint(\"Invalid\")\n",
        "\n",
        "if __name__ == '__main__' :\n",
        "\n",
        "\tsample1 = \"abba\"\n",
        "\tsample2 = \"a\"\n",
        "\tsample3 = \"abcd\"\n",
        "\n",
        "\tcheck(sample1)\n",
        "\tcheck(sample2)\n",
        "\tcheck(sample3)\n"
      ],
      "metadata": {
        "colab": {
          "base_uri": "https://localhost:8080/"
        },
        "id": "Uqh5R57PENtF",
        "outputId": "ce0b0870-7e44-44e1-d0ae-cb8afefa88be"
      },
      "execution_count": 7,
      "outputs": [
        {
          "output_type": "stream",
          "name": "stdout",
          "text": [
            "Valid\n",
            "Valid\n",
            "Invalid\n"
          ]
        }
      ]
    },
    {
      "cell_type": "code",
      "source": [
        "# Python3 program to check\n",
        "# URL is valid or not\n",
        "# using regular expression\n",
        "import re\n",
        "\n",
        "# Function to validate URL\n",
        "# using regular expression\n",
        "def isValidURL(str):\n",
        "\n",
        "\t# Regex to check valid URL\n",
        "\tregex = (\"((http|https)://)(www.)?\" +\n",
        "\t\t\t\"[a-zA-Z0-9@:%._\\\\+~#?&//=]\" +\n",
        "\t\t\t\"{2,256}\\\\.[a-z]\" +\n",
        "\t\t\t\"{2,6}\\\\b([-a-zA-Z0-9@:%\" +\n",
        "\t\t\t\"._\\\\+~#?&//=]*)\")\n",
        "\t\n",
        "\t# Compile the ReGex\n",
        "\tp = re.compile(regex)\n",
        "\n",
        "\t# If the string is empty\n",
        "\t# return false\n",
        "\tif (str == None):\n",
        "\t\treturn False\n",
        "\n",
        "\t# Return if the string\n",
        "\t# matched the ReGex\n",
        "\tif(re.search(p, str)):\n",
        "\t\treturn True\n",
        "\telse:\n",
        "\t\treturn False\n",
        "\n",
        "# Driver code\n",
        "\n",
        "# Test Case 1:\n",
        "url = \"https://www.geeksforgeeks.org\"\n",
        "\n",
        "if(isValidURL(url) == True):\n",
        "\tprint(\"Yes\")\n",
        "else:\n",
        "\tprint(\"No\")"
      ],
      "metadata": {
        "colab": {
          "base_uri": "https://localhost:8080/"
        },
        "id": "aXbQgJjvEgzK",
        "outputId": "9979cdcf-58dd-4b9c-edc2-0c151e24038d"
      },
      "execution_count": 8,
      "outputs": [
        {
          "output_type": "stream",
          "name": "stdout",
          "text": [
            "Yes\n"
          ]
        }
      ]
    },
    {
      "cell_type": "code",
      "source": [
        "# import library\n",
        "import re\n",
        "\n",
        "# url link\n",
        "s = 'https://www.geeksforgeeks.org/'\n",
        "\n",
        "# finding the protocol\n",
        "obj1 = re.findall('(\\w+)://',\n",
        "\t\t\t\ts)\n",
        "print(obj1)\n",
        "\n",
        "# finding the hostname which may\n",
        "# contain dash or dots\n",
        "obj2 = re.findall('://www.([\\w\\-\\.]+)',\n",
        "\t\t\t\ts)\n",
        "print(obj2)\n"
      ],
      "metadata": {
        "colab": {
          "base_uri": "https://localhost:8080/"
        },
        "id": "DinjKoYsEwuo",
        "outputId": "bbcf9253-218d-4ccb-9f0b-f005ea92fdd3"
      },
      "execution_count": 9,
      "outputs": [
        {
          "output_type": "stream",
          "name": "stdout",
          "text": [
            "['https']\n",
            "['geeksforgeeks.org']\n"
          ]
        }
      ]
    },
    {
      "cell_type": "code",
      "source": [
        "# Python program to validate an Ip address\n",
        "\n",
        "# re module provides support\n",
        "# for regular expressions\n",
        "import re\n",
        "\n",
        "# Make a regular expression\n",
        "# for validating an Ip-address\n",
        "regex = \"^((25[0-5]|2[0-4][0-9]|1[0-9][0-9]|[1-9]?[0-9])\\.){3}(25[0-5]|2[0-4][0-9]|1[0-9][0-9]|[1-9]?[0-9])$\"\n",
        "\n",
        "\n",
        "\t\n",
        "# Define a function for\n",
        "# validate an Ip address\n",
        "def check(Ip):\n",
        "\n",
        "\t# pass the regular expression\n",
        "\t# and the string in search() method\n",
        "\tif(re.search(regex, Ip)):\n",
        "\t\tprint(\"Valid Ip address\")\n",
        "\t\t\n",
        "\telse:\n",
        "\t\tprint(\"Invalid Ip address\")\n",
        "\t\n",
        "\n",
        "# Driver Code\n",
        "if __name__ == '__main__' :\n",
        "\t\n",
        "\t# Enter the Ip address\n",
        "\tIp = \"192.168.0.1\"\n",
        "\t\n",
        "\t# calling run function\n",
        "\tcheck(Ip)\n",
        "\n",
        "\tIp = \"110.234.52.124\"\n",
        "\tcheck(Ip)\n",
        "\n",
        "\tIp = \"366.1.2.2\"\n",
        "\tcheck(Ip)\n"
      ],
      "metadata": {
        "colab": {
          "base_uri": "https://localhost:8080/"
        },
        "id": "YWkqDZ80E9xu",
        "outputId": "7920b876-7ffd-4d70-f061-a2b7c48a45c0"
      },
      "execution_count": 10,
      "outputs": [
        {
          "output_type": "stream",
          "name": "stdout",
          "text": [
            "Valid Ip address\n",
            "Valid Ip address\n",
            "Invalid Ip address\n"
          ]
        }
      ]
    },
    {
      "cell_type": "code",
      "source": [
        ""
      ],
      "metadata": {
        "id": "_073XtqFFRji"
      },
      "execution_count": 10,
      "outputs": []
    }
  ]
}