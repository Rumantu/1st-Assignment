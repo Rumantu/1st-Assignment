{
  "nbformat": 4,
  "nbformat_minor": 0,
  "metadata": {
    "colab": {
      "name": "Python assignment 15 solution.ipynb",
      "provenance": [],
      "authorship_tag": "ABX9TyMkdeGRvvoY9Yjay7l/ybr3",
      "include_colab_link": true
    },
    "kernelspec": {
      "name": "python3",
      "display_name": "Python 3"
    },
    "language_info": {
      "name": "python"
    }
  },
  "cells": [
    {
      "cell_type": "markdown",
      "metadata": {
        "id": "view-in-github",
        "colab_type": "text"
      },
      "source": [
        "<a href=\"https://colab.research.google.com/github/Rumantu/1st-Assignment/blob/main/Python_assignment_15_solution.ipynb\" target=\"_parent\"><img src=\"https://colab.research.google.com/assets/colab-badge.svg\" alt=\"Open In Colab\"/></a>"
      ]
    },
    {
      "cell_type": "code",
      "execution_count": 1,
      "metadata": {
        "colab": {
          "base_uri": "https://localhost:8080/"
        },
        "id": "tfbPt2x6dn11",
        "outputId": "72d5dbad-b3fe-41ce-d187-8271bc1e359b"
      },
      "outputs": [
        {
          "output_type": "stream",
          "name": "stdout",
          "text": [
            "['c', 'd', 'e', 'b', 'a']\n"
          ]
        }
      ],
      "source": [
        "# License https://bit.ly/2InTS3W\n",
        "#     a\n",
        "#    / \\\n",
        "#   b  c\n",
        "#  / \\\n",
        "# d  e\n",
        "edges = {'a': ['c', 'b'], 'b': ['d', 'e'], 'c': [], 'd': [], 'e': []}\n",
        "vertices = ['a', 'b', 'c', 'd', 'e']\n",
        "def topological_sort(start, visited, sort):\n",
        "    \"\"\"Perform topolical sort on a directed acyclic graph.\"\"\"\n",
        "    current = start\n",
        "    # add current to visited\n",
        "    visited.append(current)\n",
        "    neighbors = edges[current]\n",
        "    for neighbor in neighbors:\n",
        "        # if neighbor not in visited, visit\n",
        "        if neighbor not in visited:\n",
        "            sort = topological_sort(neighbor, visited, sort)\n",
        "    # if all neighbors visited add current to sort\n",
        "    sort.append(current)\n",
        "    # if all vertices haven't been visited select a new one to visit\n",
        "    if len(visited) != len(vertices):\n",
        "        for vertice in vertices:\n",
        "            if vertice not in visited:\n",
        "                sort = topological_sort(vertice, visited, sort)\n",
        "    # return sort\n",
        "    return sort\n",
        "\n",
        "sort = topological_sort('a', [], [])\n",
        "print(sort)"
      ]
    },
    {
      "cell_type": "code",
      "source": [
        "# Python program for implementation of Radix Sort\n",
        "\n",
        "# A function to do counting sort of arr[] according to\n",
        "# the digit represented by exp.\n",
        "def countingSort(arr, exp1):\n",
        "\n",
        "\tn = len(arr)\n",
        "\n",
        "\t# The output array elements that will have sorted arr\n",
        "\toutput = [0] * (n)\n",
        "\n",
        "\t# initialize count array as 0\n",
        "\tcount = [0] * (10)\n",
        "\n",
        "\t# Store count of occurrences in count[]\n",
        "\tfor i in range(0, n):\n",
        "\t\tindex = (arr[i]/exp1)\n",
        "\t\tcount[int((index)%10)] += 1\n",
        "\n",
        "\t# Change count[i] so that count[i] now contains actual\n",
        "\t# position of this digit in output array\n",
        "\tfor i in range(1,10):\n",
        "\t\tcount[i] += count[i-1]\n",
        "\n",
        "\t# Build the output array\n",
        "\ti = n-1\n",
        "\twhile i>=0:\n",
        "\t\tindex = (arr[i]/exp1)\n",
        "\t\toutput[ count[ int((index)%10) ] - 1] = arr[i]\n",
        "\t\tcount[int((index)%10)] -= 1\n",
        "\t\ti -= 1\n",
        "\n",
        "\t# Copying the output array to arr[],\n",
        "\t# so that arr now contains sorted numbers\n",
        "\ti = 0\n",
        "\tfor i in range(0,len(arr)):\n",
        "\t\tarr[i] = output[i]\n",
        "\n",
        "# Method to do Radix Sort\n",
        "def radixSort(arr):\n",
        "\n",
        "\t# Find the maximum number to know number of digits\n",
        "\tmax1 = max(arr)\n",
        "\n",
        "\t# Do counting sort for every digit. Note that instead\n",
        "\t# of passing digit number, exp is passed. exp is 10^i\n",
        "\t# where i is current digit number\n",
        "\texp = 1\n",
        "\twhile max1/exp > 0:\n",
        "\t\tcountingSort(arr,exp)\n",
        "\t\texp *= 10\n",
        "\n",
        "# Driver code to test above\n",
        "arr = [ 170, 45, 75, 90, 802, 24, 2, 66]\n",
        "radixSort(arr)\n",
        "\n",
        "for i in range(len(arr)):\n",
        "\tprint(arr[i],end=\" \")\n"
      ],
      "metadata": {
        "colab": {
          "base_uri": "https://localhost:8080/"
        },
        "id": "c7-UBRgaeiAa",
        "outputId": "6af7f90b-606a-4f93-ccaa-2a884b083656"
      },
      "execution_count": 2,
      "outputs": [
        {
          "output_type": "stream",
          "name": "stdout",
          "text": [
            "2 24 45 66 75 90 170 802 "
          ]
        }
      ]
    },
    {
      "cell_type": "code",
      "source": [
        "# sort\n",
        "def insertion_sort(arr):\n",
        "   for i in range(1, len(arr)):\n",
        "      temp = arr[i]\n",
        "      pos = binary_search(arr, temp, 0, i) + 1\n",
        "      for k in range(i, pos, -1):\n",
        "         arr[k] = arr[k - 1]\n",
        "      arr[pos] = temp\n",
        "def binary_search(arr, key, start, end):\n",
        "   #key\n",
        "   if end - start <= 1:\n",
        "      if key < arr[start]:\n",
        "         return start - 1\n",
        "      else:\n",
        "         return start\n",
        "   mid = (start + end)//2\n",
        "   if arr[mid] < key:\n",
        "      return binary_search(arr, key, mid, end)\n",
        "   elif arr[mid] > key:\n",
        "      return binary_search(arr, key, start, mid)\n",
        "   else:\n",
        "      return mid\n",
        "# main\n",
        "arr = [1,5,3,4,8,6,3,4]\n",
        "n = len(arr)\n",
        "insertion_sort(arr)\n",
        "print(\"Sorted array is:\")\n",
        "for i in range(n):\n",
        "   print(arr[i],end=\" \")"
      ],
      "metadata": {
        "colab": {
          "base_uri": "https://localhost:8080/"
        },
        "id": "8eTciQ-9etUN",
        "outputId": "0546a3d7-693d-48e1-b688-f6bf11b7ed7b"
      },
      "execution_count": 3,
      "outputs": [
        {
          "output_type": "stream",
          "name": "stdout",
          "text": [
            "Sorted array is:\n",
            "1 3 3 4 4 5 6 8 "
          ]
        }
      ]
    },
    {
      "cell_type": "code",
      "source": [
        "def c_swap(a, b, c, d):\n",
        "    if (d == 1 and a[b] > a[c]) or (d == 0 and a[b] < a[c]):\n",
        "        a[b], a[c] = a[c], a[b]\n",
        "\n",
        "def merge(a, b, cnt, d):\n",
        "    if cnt > 1:\n",
        "        k = int(cnt / 2)\n",
        "        for i in range(b, b + k):\n",
        "            c_swap(a, i, i + k, d)\n",
        "        merge(a, b, k, d)\n",
        "        merge(a, b + k, k, d)\n",
        " \n",
        "def bitonic_sort(a, b, cnt, d):\n",
        "    if cnt > 1:\n",
        "        k = int(cnt / 2)\n",
        "        bitonic_sort(a, b, k, 1)\n",
        "        bitonic_sort(a, b + k, k, 0)\n",
        "        merge(a, b, cnt, d)\n",
        "  \n",
        "def sort(a, B, u):\n",
        "    bitonic_sort(a, 0, B, u)\n",
        "\n",
        "# driver code   \n",
        "a = [2, 10, 20, 5, 3, 4]\n",
        "n=len(a)\n",
        "print(\"The original array is:\", a)    \n",
        "u = 1\n",
        "  \n",
        "sort(a, n, u)\n",
        "print(\"Sorted array is\", a)\n"
      ],
      "metadata": {
        "colab": {
          "base_uri": "https://localhost:8080/"
        },
        "id": "1ftELuSHfUYF",
        "outputId": "d1447f36-dfd1-480a-cfec-20f097e1acbf"
      },
      "execution_count": 4,
      "outputs": [
        {
          "output_type": "stream",
          "name": "stdout",
          "text": [
            "The original array is: [2, 10, 20, 5, 3, 4]\n",
            "Sorted array is [2, 3, 4, 5, 10, 20]\n"
          ]
        }
      ]
    },
    {
      "cell_type": "code",
      "source": [
        "def comb_sort(number):\n",
        "    dist = len(number)\n",
        "    swap = True\n",
        "    while dist > 1 or swap:\n",
        "        dist = max(1, int(dist / 1.25)) \n",
        "        swap = False\n",
        "        for a in range(len(number) - dist):\n",
        "            b = a+dist\n",
        "            if number[a] > number[b]:\n",
        "                number[a], number[b] = number[b], number[a]\n",
        "                swap = True\n",
        " \n",
        "array = [3, 1, 2, 5, 4]\n",
        "print(\"The original array is: \", array)\n",
        "comb_sort(array)\n",
        "print(\"The sorted array is:  \", array)"
      ],
      "metadata": {
        "colab": {
          "base_uri": "https://localhost:8080/"
        },
        "id": "0BEi30T2fmcb",
        "outputId": "f58d7e3d-a626-423c-d4cd-7b75c0a3a062"
      },
      "execution_count": 5,
      "outputs": [
        {
          "output_type": "stream",
          "name": "stdout",
          "text": [
            "The original array is:  [3, 1, 2, 5, 4]\n",
            "The sorted array is:   [1, 2, 3, 4, 5]\n"
          ]
        }
      ]
    },
    {
      "cell_type": "code",
      "source": [
        "def pigeonhole_sort(a):\n",
        "    minimum = min(a)\n",
        "    maximum = max(a)\n",
        "    s = maximum - minimum + 1\n",
        "    h = [0] * s #holes\n",
        "    for x in a:\n",
        "        assert type(x) is int, \"integers only please\"\n",
        "        h[x - minimum] += 1\n",
        "    i = 0\n",
        "    for c in range(s):\n",
        "        while h[c] > 0:\n",
        "            h[c] -= 1\n",
        "            a[i] = c + minimum\n",
        "            i += 1\n",
        " \n",
        "# driver code\n",
        "array = [9, 7, 2, 3, 4, 8, 6]\n",
        "print(\"The original array is: \", array)\n",
        "print(\"The Sorted order is : \", end = ' ')\n",
        "pigeonhole_sort(array)      \n",
        "for i in range(0, len(array)):\n",
        "    print(array[i], end = ' ')"
      ],
      "metadata": {
        "colab": {
          "base_uri": "https://localhost:8080/"
        },
        "id": "G-0ePSy9f3dq",
        "outputId": "5b1008f3-303e-4b8d-8342-735f6ae45b75"
      },
      "execution_count": 6,
      "outputs": [
        {
          "output_type": "stream",
          "name": "stdout",
          "text": [
            "The original array is:  [9, 7, 2, 3, 4, 8, 6]\n",
            "The Sorted order is :  2 3 4 6 7 8 9 "
          ]
        }
      ]
    },
    {
      "cell_type": "code",
      "source": [
        "# function\n",
        "def cocktailSort(a):\n",
        "   n = len(a)\n",
        "   flag = True\n",
        "   start = 0\n",
        "   end = n-1\n",
        "   while (flag==True):\n",
        "      # to ignore the result of the previous iteration\n",
        "      flag = False\n",
        "      # left to right traversal\n",
        "      for i in range (start, end):\n",
        "         if (a[i] > a[i+1]) :\n",
        "            a[i], a[i+1]= a[i+1], a[i]\n",
        "            flag=True\n",
        "      # if no swap takes place array remains sorted\n",
        "      if (flag==False):\n",
        "         break\n",
        "      # otherwise, reset the flag\n",
        "      flag = False\n",
        "      # last item is aldready sorted\n",
        "      end = end-1\n",
        "      # iteration from right to left\n",
        "      for i in range(end-1, start-1,-1):\n",
        "         if (a[i] > a[i+1]):\n",
        "            a[i], a[i+1] = a[i+1], a[i]\n",
        "            flag = True\n",
        "      # first element is already sorted\n",
        "      start = start+1\n",
        "# main\n",
        "a = [2,5,4,3,8,3,4,6]\n",
        "cocktailSort(a)\n",
        "print(\"Sorted array is:\")\n",
        "for i in range(len(a)):\n",
        "   print (a[i],end=\" \")"
      ],
      "metadata": {
        "colab": {
          "base_uri": "https://localhost:8080/"
        },
        "id": "jfuAMgn_gGoC",
        "outputId": "8061df3f-b6ff-4e98-b8e1-bedd5faf84df"
      },
      "execution_count": 7,
      "outputs": [
        {
          "output_type": "stream",
          "name": "stdout",
          "text": [
            "Sorted array is:\n",
            "2 3 3 4 4 5 6 8 "
          ]
        }
      ]
    },
    {
      "cell_type": "code",
      "source": [
        "def gnomeSort( arr, n):\n",
        "   index = 0\n",
        "   while index < n:\n",
        "      if index == 0:\n",
        "         index = index + 1\n",
        "      if arr[index] >= arr[index - 1]:\n",
        "         index = index + 1\n",
        "      else:\n",
        "         arr[index], arr[index-1] = arr[index-1], arr[index]\n",
        "         index = index - 1\n",
        "   return arr\n",
        "# main\n",
        "arr = [1,4,2,3,6,5,8,7]\n",
        "n = len(arr)\n",
        "arr = gnomeSort(arr, n)\n",
        "print (\"Sorted sequence is:\")\n",
        "for i in arr:\n",
        "   print (i,end=\" \")"
      ],
      "metadata": {
        "colab": {
          "base_uri": "https://localhost:8080/"
        },
        "id": "ojGYERtxgoHD",
        "outputId": "75c26213-1947-4a17-a290-18f41e55574e"
      },
      "execution_count": 8,
      "outputs": [
        {
          "output_type": "stream",
          "name": "stdout",
          "text": [
            "Sorted sequence is:\n",
            "1 2 3 4 5 6 7 8 "
          ]
        }
      ]
    },
    {
      "cell_type": "code",
      "source": [
        "# Python Program to implement\n",
        "# Odd-Even / Brick Sort\n",
        "\n",
        "def oddEvenSort(arr, n):\n",
        "\t# Initially array is unsorted\n",
        "\tisSorted = 0\n",
        "\twhile isSorted == 0:\n",
        "\t\tisSorted = 1\n",
        "\t\ttemp = 0\n",
        "\t\tfor i in range(1, n-1, 2):\n",
        "\t\t\tif arr[i] > arr[i+1]:\n",
        "\t\t\t\tarr[i], arr[i+1] = arr[i+1], arr[i]\n",
        "\t\t\t\tisSorted = 0\n",
        "\t\t\t\t\n",
        "\t\tfor i in range(0, n-1, 2):\n",
        "\t\t\tif arr[i] > arr[i+1]:\n",
        "\t\t\t\tarr[i], arr[i+1] = arr[i+1], arr[i]\n",
        "\t\t\t\tisSorted = 0\n",
        "\t\n",
        "\treturn\n",
        "\n",
        "\n",
        "arr = [34, 2, 10, -9]\n",
        "n = len(arr)\n",
        "\n",
        "oddEvenSort(arr, n);\n",
        "for i in range(0, n):\n",
        "\tprint(arr[i], end =\" \")"
      ],
      "metadata": {
        "colab": {
          "base_uri": "https://localhost:8080/"
        },
        "id": "yjtj55Yzg38H",
        "outputId": "eb7e8d10-8560-49e1-dbcc-126008189d11"
      },
      "execution_count": 9,
      "outputs": [
        {
          "output_type": "stream",
          "name": "stdout",
          "text": [
            "-9 2 10 34 "
          ]
        }
      ]
    },
    {
      "cell_type": "code",
      "source": [
        "# random module\n",
        "import random\n",
        "# Sort\n",
        "def bogoSort(a):\n",
        "   n = len(a)\n",
        "   while (is_sorted(a)== False):\n",
        "      shuffle(a)\n",
        "# check\n",
        "def is_sorted(a):\n",
        "   n = len(a)\n",
        "   for i in range(0, n-1):\n",
        "      if (a[i] > a[i+1] ):\n",
        "         return False\n",
        "   return True\n",
        "# permutation\n",
        "def shuffle(a):\n",
        "   n = len(a)\n",
        "   for i in range (0,n):\n",
        "      r = random.randint(0,n-1)\n",
        "      a[i], a[r] = a[r], a[i]\n",
        "# main\n",
        "a = [1,5,3,4,8,6,3,4,5]\n",
        "bogoSort(a)\n",
        "print(\"Sorted array :\")\n",
        "for i in range(len(a)):\n",
        "   print (a[i],end=\" \")"
      ],
      "metadata": {
        "colab": {
          "base_uri": "https://localhost:8080/"
        },
        "id": "Mg7Aoo4ghf2v",
        "outputId": "aeb33aef-ad45-4265-bddd-f09b6b6212d7"
      },
      "execution_count": 10,
      "outputs": [
        {
          "output_type": "stream",
          "name": "stdout",
          "text": [
            "Sorted array :\n",
            "1 3 3 4 4 5 5 6 8 "
          ]
        }
      ]
    },
    {
      "cell_type": "code",
      "source": [
        ""
      ],
      "metadata": {
        "id": "68Ot91kdhzhu"
      },
      "execution_count": 10,
      "outputs": []
    }
  ]
}