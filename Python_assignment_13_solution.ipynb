{
  "nbformat": 4,
  "nbformat_minor": 0,
  "metadata": {
    "colab": {
      "name": "Python assignment 13 solution.ipynb",
      "provenance": [],
      "authorship_tag": "ABX9TyOfhHb0wuwRzqbmc3OIP9QU",
      "include_colab_link": true
    },
    "kernelspec": {
      "name": "python3",
      "display_name": "Python 3"
    },
    "language_info": {
      "name": "python"
    }
  },
  "cells": [
    {
      "cell_type": "markdown",
      "metadata": {
        "id": "view-in-github",
        "colab_type": "text"
      },
      "source": [
        "<a href=\"https://colab.research.google.com/github/Rumantu/1st-Assignment/blob/main/Python_assignment_13_solution.ipynb\" target=\"_parent\"><img src=\"https://colab.research.google.com/assets/colab-badge.svg\" alt=\"Open In Colab\"/></a>"
      ]
    },
    {
      "cell_type": "code",
      "execution_count": 1,
      "metadata": {
        "colab": {
          "base_uri": "https://localhost:8080/"
        },
        "id": "uzXpdoZezh_V",
        "outputId": "3662e45c-a3e6-4652-9f99-55faaaa1b362"
      },
      "outputs": [
        {
          "output_type": "stream",
          "name": "stdout",
          "text": [
            "The original list is : [(5, 6), (5, 7), (6, 8), (6, 10), (7, 13)]\n",
            "The extracted elements : [(5, 6, 7), (6, 8, 10), (7, 13)]\n"
          ]
        }
      ],
      "source": [
        "# Python3 code to demonstrate working of\n",
        "# Join Tuples if similar initial element\n",
        "# Using loop\n",
        "\n",
        "# initializing list\n",
        "test_list = [(5, 6), (5, 7), (6, 8), (6, 10), (7, 13)]\n",
        "\n",
        "# printing original list\n",
        "print(\"The original list is : \" + str(test_list))\n",
        "\n",
        "# Join Tuples if similar initial element\n",
        "# Using loop\n",
        "res = []\n",
        "for sub in test_list:\t\t\t\t\t\t\t\t\t\t\n",
        "\tif res and res[-1][0] == sub[0]:\t\t\t\n",
        "\t\tres[-1].extend(sub[1:])\t\t\t\t\t\t\n",
        "\telse:\n",
        "\t\tres.append([ele for ele in sub])\t\n",
        "res = list(map(tuple, res))\n",
        "\n",
        "# printing result\n",
        "print(\"The extracted elements : \" + str(res))\n"
      ]
    },
    {
      "cell_type": "code",
      "source": [
        "# Python3 code to demonstrate working of\n",
        "# Extract digits from Tuple list\n",
        "# Using map() + chain.from_iterable() + set() + loop\n",
        "from itertools import chain\n",
        "\n",
        "# initializing list\n",
        "test_list = [(15, 3), (3, 9), (1, 10), (99, 2)]\n",
        "\n",
        "# printing original list\n",
        "print(\"The original list is : \" + str(test_list))\n",
        "\n",
        "# Extract digits from Tuple list\n",
        "# Using map() + chain.from_iterable() + set() + loop\n",
        "temp = map(lambda ele: str(ele), chain.from_iterable(test_list))\n",
        "res = set()\n",
        "for sub in temp:\n",
        "\tfor ele in sub:\n",
        "\t\tres.add(ele)\n",
        "\n",
        "# printing result\n",
        "print(\"The extracted digits : \" + str(res))\n"
      ],
      "metadata": {
        "colab": {
          "base_uri": "https://localhost:8080/"
        },
        "id": "KkgGbjYOWdfD",
        "outputId": "db1cca7e-e7ea-4b04-85fb-d3449a7811c6"
      },
      "execution_count": 2,
      "outputs": [
        {
          "output_type": "stream",
          "name": "stdout",
          "text": [
            "The original list is : [(15, 3), (3, 9), (1, 10), (99, 2)]\n",
            "The extracted digits : {'3', '2', '0', '9', '1', '5'}\n"
          ]
        }
      ]
    },
    {
      "cell_type": "code",
      "source": [
        "# Python3 code to demonstrate working of\n",
        "# All pair combinations of 2 tuples\n",
        "# Using list comprehension\n",
        "\n",
        "# initializing tuples\n",
        "test_tuple1 = (4, 5)\n",
        "test_tuple2 = (7, 8)\n",
        "\n",
        "# printing original tuples\n",
        "print(\"The original tuple 1 : \" + str(test_tuple1))\n",
        "print(\"The original tuple 2 : \" + str(test_tuple2))\n",
        "\n",
        "# All pair combinations of 2 tuples\n",
        "# Using list comprehension\n",
        "res = [(a, b) for a in test_tuple1 for b in test_tuple2]\n",
        "res = res + [(a, b) for a in test_tuple2 for b in test_tuple1]\n",
        "\n",
        "# printing result\n",
        "print(\"The filtered tuple : \" + str(res))\n"
      ],
      "metadata": {
        "colab": {
          "base_uri": "https://localhost:8080/"
        },
        "id": "xUilb6HJWvJr",
        "outputId": "25df3489-3077-42cc-da81-dd91a974a5d8"
      },
      "execution_count": 3,
      "outputs": [
        {
          "output_type": "stream",
          "name": "stdout",
          "text": [
            "The original tuple 1 : (4, 5)\n",
            "The original tuple 2 : (7, 8)\n",
            "The filtered tuple : [(4, 7), (4, 8), (5, 7), (5, 8), (7, 4), (7, 5), (8, 4), (8, 5)]\n"
          ]
        }
      ]
    },
    {
      "cell_type": "code",
      "source": [
        "# Python3 code to demonstrate working of\n",
        "# Remove Tuples of Length K\n",
        "# Using list comprehension\n",
        "\n",
        "# initializing list\n",
        "test_list = [(4, 5), (4, ), (8, 6, 7), (1, ), (3, 4, 6, 7)]\n",
        "\n",
        "# printing original list\n",
        "print(\"The original list : \" + str(test_list))\n",
        "\n",
        "# initializing K\n",
        "K = 1\n",
        "\n",
        "# 1 liner to perform task\n",
        "# filter just lengths other than K\n",
        "# len() used to compute length\n",
        "res = [ele for ele in test_list if len(ele) != K]\n",
        "\n",
        "# printing result\n",
        "print(\"Filtered list : \" + str(res))\n"
      ],
      "metadata": {
        "colab": {
          "base_uri": "https://localhost:8080/"
        },
        "id": "YhGBre20XAqe",
        "outputId": "52e33f5e-9f0e-4e22-d3c3-6c0e3e9f5ab3"
      },
      "execution_count": 4,
      "outputs": [
        {
          "output_type": "stream",
          "name": "stdout",
          "text": [
            "The original list : [(4, 5), (4,), (8, 6, 7), (1,), (3, 4, 6, 7)]\n",
            "Filtered list : [(4, 5), (8, 6, 7), (3, 4, 6, 7)]\n"
          ]
        }
      ]
    },
    {
      "cell_type": "code",
      "source": [
        "# Python program to sort a list of tuples by the second Item\n",
        "\n",
        "# Function to sort the list of tuples by its second item\n",
        "def Sort_Tuple(tup):\n",
        "\t\n",
        "\t# getting length of list of tuples\n",
        "\tlst = len(tup)\n",
        "\tfor i in range(0, lst):\n",
        "\t\t\n",
        "\t\tfor j in range(0, lst-i-1):\n",
        "\t\t\tif (tup[j][1] > tup[j + 1][1]):\n",
        "\t\t\t\ttemp = tup[j]\n",
        "\t\t\t\ttup[j]= tup[j + 1]\n",
        "\t\t\t\ttup[j + 1]= temp\n",
        "\treturn tup\n",
        "\n",
        "# Driver Code\n",
        "tup =[('for', 24), ('is', 10), ('Geeks', 28),\n",
        "\t('Geeksforgeeks', 5), ('portal', 20), ('a', 15)]\n",
        "\t\t\n",
        "print(Sort_Tuple(tup))\n"
      ],
      "metadata": {
        "colab": {
          "base_uri": "https://localhost:8080/"
        },
        "id": "pyyO6sxTXQLW",
        "outputId": "8f25a4be-b3db-4b16-f2a5-84b4eb48c6a3"
      },
      "execution_count": 5,
      "outputs": [
        {
          "output_type": "stream",
          "name": "stdout",
          "text": [
            "[('Geeksforgeeks', 5), ('is', 10), ('a', 15), ('portal', 20), ('for', 24), ('Geeks', 28)]\n"
          ]
        }
      ]
    },
    {
      "cell_type": "code",
      "source": [
        "my_list = [('Mark', 34), ('Will', 91), ('Rob', 23)]\n",
        "\n",
        "print(\"The list of tuple is : \")\n",
        "print(my_list)\n",
        "\n",
        "ordered_list = ['Will', 'Mark', 'Rob']\n",
        "print(\"The ordered list is :\")\n",
        "print(ordered_list)\n",
        "temp = dict(my_list)\n",
        "my_result = [(key, temp[key]) for key in ordered_list]\n",
        "print(\"The ordered tuple list is : \")\n",
        "print(my_result)"
      ],
      "metadata": {
        "colab": {
          "base_uri": "https://localhost:8080/"
        },
        "id": "8BAiVQ4JXdOY",
        "outputId": "602705d0-9aab-4468-e93e-55f2ba6cee2e"
      },
      "execution_count": 6,
      "outputs": [
        {
          "output_type": "stream",
          "name": "stdout",
          "text": [
            "The list of tuple is : \n",
            "[('Mark', 34), ('Will', 91), ('Rob', 23)]\n",
            "The ordered list is :\n",
            "['Will', 'Mark', 'Rob']\n",
            "The ordered tuple list is : \n",
            "[('Will', 91), ('Mark', 34), ('Rob', 23)]\n"
          ]
        }
      ]
    },
    {
      "cell_type": "code",
      "source": [
        "# Python3 code to demonstrate working of\n",
        "# Flatten tuple of List to tuple\n",
        "# Using sum() + tuple()\n",
        "\n",
        "# initializing tuple\n",
        "test_tuple = ([5, 6], [6, 7, 8, 9], [3])\n",
        "\n",
        "# printing original tuple\n",
        "print(\"The original tuple : \" + str(test_tuple))\n",
        "\n",
        "# Flatten tuple of List to tuple\n",
        "# Using sum() + tuple()\n",
        "res = tuple(sum(test_tuple, []))\n",
        "\n",
        "# printing result\n",
        "print(\"The flattened tuple : \" + str(res))\n"
      ],
      "metadata": {
        "colab": {
          "base_uri": "https://localhost:8080/"
        },
        "id": "gva2PmlOXvNW",
        "outputId": "5fccc4a1-ccd4-4f02-b911-21a015ddb8f2"
      },
      "execution_count": 7,
      "outputs": [
        {
          "output_type": "stream",
          "name": "stdout",
          "text": [
            "The original tuple : ([5, 6], [6, 7, 8, 9], [3])\n",
            "The flattened tuple : (5, 6, 6, 7, 8, 9, 3)\n"
          ]
        }
      ]
    },
    {
      "cell_type": "code",
      "source": [
        "# Python3 code to demonstrate working of\n",
        "# Convert Nested Tuple to Custom Key Dictionary\n",
        "# Using list comprehension + dictionary comprehension\n",
        "\n",
        "# initializing tuple\n",
        "test_tuple = ((4, 'Gfg', 10), (3, 'is', 8), (6, 'Best', 10))\n",
        "\n",
        "# printing original tuple\n",
        "print(\"The original tuple : \" + str(test_tuple))\n",
        "\n",
        "# Convert Nested Tuple to Custom Key Dictionary\n",
        "# Using list comprehension + dictionary comprehension\n",
        "res = [{'key': sub[0], 'value': sub[1], 'id': sub[2]}\n",
        "\t\t\t\t\t\t\tfor sub in test_tuple]\n",
        "\n",
        "# printing result\n",
        "print(\"The converted dictionary : \" + str(res))\n"
      ],
      "metadata": {
        "colab": {
          "base_uri": "https://localhost:8080/"
        },
        "id": "g0i0D06oYIBR",
        "outputId": "f79282fe-c875-49d8-fa39-40281f6dcd46"
      },
      "execution_count": 8,
      "outputs": [
        {
          "output_type": "stream",
          "name": "stdout",
          "text": [
            "The original tuple : ((4, 'Gfg', 10), (3, 'is', 8), (6, 'Best', 10))\n",
            "The converted dictionary : [{'key': 4, 'value': 'Gfg', 'id': 10}, {'key': 3, 'value': 'is', 'id': 8}, {'key': 6, 'value': 'Best', 'id': 10}]\n"
          ]
        }
      ]
    },
    {
      "cell_type": "code",
      "source": [
        "#Recursive :\n",
        "# Python 3 program for recursive binary search.\n",
        "# Modifications needed for the older Python 2 are found in comments.\n",
        "\n",
        "# Returns index of x in arr if present, else -1\n",
        "def binary_search(arr, low, high, x):\n",
        "\n",
        "\t# Check base case\n",
        "\tif high >= low:\n",
        "\n",
        "\t\tmid = (high + low) // 2\n",
        "\n",
        "\t\t# If element is present at the middle itself\n",
        "\t\tif arr[mid] == x:\n",
        "\t\t\treturn mid\n",
        "\n",
        "\t\t# If element is smaller than mid, then it can only\n",
        "\t\t# be present in left subarray\n",
        "\t\telif arr[mid] > x:\n",
        "\t\t\treturn binary_search(arr, low, mid - 1, x)\n",
        "\n",
        "\t\t# Else the element can only be present in right subarray\n",
        "\t\telse:\n",
        "\t\t\treturn binary_search(arr, mid + 1, high, x)\n",
        "\n",
        "\telse:\n",
        "\t\t# Element is not present in the array\n",
        "\t\treturn -1\n",
        "\n",
        "# Test array\n",
        "arr = [ 2, 3, 4, 10, 40 ]\n",
        "x = 10\n",
        "\n",
        "# Function call\n",
        "result = binary_search(arr, 0, len(arr)-1, x)\n",
        "\n",
        "if result != -1:\n",
        "\tprint(\"Element is present at index\", str(result))\n",
        "else:\n",
        "\tprint(\"Element is not present in array\")\n",
        "\n",
        "\n",
        "#Iterative\n",
        "# Iterative Binary Search Function\n",
        "# It returns index of x in given array arr if present,\n",
        "# else returns -1\n",
        "def binary_search(arr, x):\n",
        "\tlow = 0\n",
        "\thigh = len(arr) - 1\n",
        "\tmid = 0\n",
        "\n",
        "\twhile low <= high:\n",
        "\n",
        "\t\tmid = (high + low) // 2\n",
        "\n",
        "\t\t# If x is greater, ignore left half\n",
        "\t\tif arr[mid] < x:\n",
        "\t\t\tlow = mid + 1\n",
        "\n",
        "\t\t# If x is smaller, ignore right half\n",
        "\t\telif arr[mid] > x:\n",
        "\t\t\thigh = mid - 1\n",
        "\n",
        "\t\t# means x is present at mid\n",
        "\t\telse:\n",
        "\t\t\treturn mid\n",
        "\n",
        "\t# If we reach here, then the element was not present\n",
        "\treturn -1\n",
        "\n",
        "\n",
        "# Test array\n",
        "arr = [ 2, 3, 4, 10, 40 ]\n",
        "x = 10\n",
        "\n",
        "# Function call\n",
        "result = binary_search(arr, x)\n",
        "\n",
        "if result != -1:\n",
        "\tprint(\"Element is present at index\", str(result))\n",
        "else:\n",
        "\tprint(\"Element is not present in array\")\n"
      ],
      "metadata": {
        "colab": {
          "base_uri": "https://localhost:8080/"
        },
        "id": "pP-aK-HhYWoj",
        "outputId": "1b2c1208-2115-42bb-b192-e43f37bac70c"
      },
      "execution_count": 9,
      "outputs": [
        {
          "output_type": "stream",
          "name": "stdout",
          "text": [
            "Element is present at index 3\n",
            "Element is present at index 3\n"
          ]
        }
      ]
    },
    {
      "cell_type": "code",
      "source": [
        "# Searching an element in a list/array in python\n",
        "# can be simply done using \\'in\\' operator\n",
        "# Example:\n",
        "# if x in arr:\n",
        "# print arr.index(x)\n",
        "\n",
        "# If you want to implement Linear Search in python\n",
        "\n",
        "# Linearly search x in arr[]\n",
        "# If x is present then return its location\n",
        "# else return -1\n",
        "\n",
        "def search(arr, x):\n",
        "\n",
        "\tfor i in range(len(arr)):\n",
        "\n",
        "\t\tif arr[i] == x:\n",
        "\t\t\treturn i\n",
        "\n",
        "\treturn -1\n"
      ],
      "metadata": {
        "id": "qigO7QWQZJgp"
      },
      "execution_count": 10,
      "outputs": []
    },
    {
      "cell_type": "code",
      "source": [
        "# Python program for implementation of Insertion Sort\n",
        "\n",
        "# Function to do insertion sort\n",
        "def insertionSort(arr):\n",
        "\n",
        "\t# Traverse through 1 to len(arr)\n",
        "\tfor i in range(1, len(arr)):\n",
        "\n",
        "\t\tkey = arr[i]\n",
        "\n",
        "\t\t# Move elements of arr[0..i-1], that are\n",
        "\t\t# greater than key, to one position ahead\n",
        "\t\t# of their current position\n",
        "\t\tj = i-1\n",
        "\t\twhile j >=0 and key < arr[j] :\n",
        "\t\t\t\tarr[j+1] = arr[j]\n",
        "\t\t\t\tj -= 1\n",
        "\t\tarr[j+1] = key\n",
        "\n",
        "\n",
        "# Driver code to test above\n",
        "arr = [12, 11, 13, 5, 6]\n",
        "insertionSort(arr)\n",
        "print (\"Sorted array is:\")\n",
        "for i in range(len(arr)):\n",
        "\tprint (\"%d\" %arr[i])\n"
      ],
      "metadata": {
        "colab": {
          "base_uri": "https://localhost:8080/"
        },
        "id": "oJe-lV0YZXES",
        "outputId": "8100737f-6077-4a5b-93d4-e0880a8f50be"
      },
      "execution_count": 11,
      "outputs": [
        {
          "output_type": "stream",
          "name": "stdout",
          "text": [
            "Sorted array is:\n",
            "5\n",
            "6\n",
            "11\n",
            "12\n",
            "13\n"
          ]
        }
      ]
    },
    {
      "cell_type": "code",
      "source": [
        ""
      ],
      "metadata": {
        "id": "KFn-m7dpZiK3"
      },
      "execution_count": null,
      "outputs": []
    }
  ]
}