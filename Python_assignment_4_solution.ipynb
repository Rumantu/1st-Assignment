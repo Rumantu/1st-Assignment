{
  "nbformat": 4,
  "nbformat_minor": 0,
  "metadata": {
    "colab": {
      "name": "Python assignment 4 solution.ipynb",
      "provenance": [],
      "collapsed_sections": [],
      "authorship_tag": "ABX9TyOVfaxIT812ycUURJcWzYX9",
      "include_colab_link": true
    },
    "kernelspec": {
      "name": "python3",
      "display_name": "Python 3"
    },
    "language_info": {
      "name": "python"
    }
  },
  "cells": [
    {
      "cell_type": "markdown",
      "metadata": {
        "id": "view-in-github",
        "colab_type": "text"
      },
      "source": [
        "<a href=\"https://colab.research.google.com/github/Rumantu/1st-Assignment/blob/main/Python_assignment_4_solution.ipynb\" target=\"_parent\"><img src=\"https://colab.research.google.com/assets/colab-badge.svg\" alt=\"Open In Colab\"/></a>"
      ]
    },
    {
      "cell_type": "code",
      "execution_count": 1,
      "metadata": {
        "colab": {
          "base_uri": "https://localhost:8080/"
        },
        "id": "l-iIsNfIkVVw",
        "outputId": "5b37d243-9d91-4da6-c894-3012594078cb"
      },
      "outputs": [
        {
          "output_type": "stream",
          "name": "stdout",
          "text": [
            "Smallest element is: 4\n"
          ]
        }
      ],
      "source": [
        "# Python program to find smallest\n",
        "# list of numbers\n",
        "\n",
        "list1 = [10, 20, 4, 45, 99]\n",
        "\n",
        "# sorting the list\n",
        "list1.sort()\n",
        "\n",
        "# printing the first element\n",
        "print(\"Smallest element is:\", *list1[:1])\n"
      ]
    },
    {
      "cell_type": "code",
      "source": [
        "# Python program to find largest\n",
        "# list of numbers\n",
        "\n",
        "list1 = [10, 20, 4, 45, 99]\n",
        "\n",
        "# sorting the list\n",
        "list1.sort()\n",
        "\n",
        "# printing the last element\n",
        "print(\"Largest element is:\", list1[-1])\n"
      ],
      "metadata": {
        "colab": {
          "base_uri": "https://localhost:8080/"
        },
        "id": "dHqYa2h_OGh6",
        "outputId": "55507c89-71a8-4757-8e48-4fe68f882d88"
      },
      "execution_count": 2,
      "outputs": [
        {
          "output_type": "stream",
          "name": "stdout",
          "text": [
            "Largest element is: 99\n"
          ]
        }
      ]
    },
    {
      "cell_type": "code",
      "source": [
        "# Python program to find second largest number in a list\n",
        "\n",
        "list1 = [10, 20, 4, 45, 99]\n",
        "\n",
        "mx=max(list1[0],list1[1])\n",
        "secondmax=min(list1[0],list1[1])\n",
        "n =len(list1)\n",
        "for i in range(2,n):\n",
        "\tif list1[i]>mx:\n",
        "\t\tsecondmax=mx\n",
        "\t\tmx=list1[i]\n",
        "\telif list1[i]>secondmax and \\\n",
        "\t\tmx != list1[i]:\n",
        "\t\tsecondmax=list1[i]\n",
        "\n",
        "print(\"Second highest number is : \",\\\n",
        "\tstr(secondmax))\n"
      ],
      "metadata": {
        "colab": {
          "base_uri": "https://localhost:8080/"
        },
        "id": "7Q_UQ2nyOYyd",
        "outputId": "a8d2a9fa-1663-472e-c659-76b69163e1bc"
      },
      "execution_count": 3,
      "outputs": [
        {
          "output_type": "stream",
          "name": "stdout",
          "text": [
            "Second highest number is :  45\n"
          ]
        }
      ]
    },
    {
      "cell_type": "code",
      "source": [
        "# Python program to find N largest element from given list of integers\n",
        "\n",
        "# Function returns N largest elements\n",
        "def Nmaxelements(list1, N):\n",
        "\tfinal_list = []\n",
        "\n",
        "\tfor i in range(0, N):\n",
        "\t\tmax1 = 0\n",
        "\t\t\n",
        "\t\tfor j in range(len(list1)):\t\n",
        "\t\t\tif list1[j] > max1:\n",
        "\t\t\t\tmax1 = list1[j];\n",
        "\t\t\t\t\n",
        "\t\tlist1.remove(max1);\n",
        "\t\tfinal_list.append(max1)\n",
        "\t\t\n",
        "\tprint(final_list)\n",
        "\n",
        "# Driver code\n",
        "list1 = [2, 6, 41, 85, 0, 3, 7, 6, 10]\n",
        "N = 2\n",
        "\n",
        "# Calling the function\n",
        "Nmaxelements(list1, N)\n"
      ],
      "metadata": {
        "colab": {
          "base_uri": "https://localhost:8080/"
        },
        "id": "XixYAIa0OzYX",
        "outputId": "78989436-ad48-4a96-eabc-eeed902fae16"
      },
      "execution_count": 4,
      "outputs": [
        {
          "output_type": "stream",
          "name": "stdout",
          "text": [
            "[85, 41]\n"
          ]
        }
      ]
    },
    {
      "cell_type": "code",
      "source": [
        "# Python program to print Even Numbers in a List\n",
        "\n",
        "# list of numbers\n",
        "list1 = [10, 21, 4, 45, 66, 93]\n",
        "\n",
        "# iterating each number in list\n",
        "for num in list1:\n",
        "\n",
        "\t# checking condition\n",
        "\tif num % 2 == 0:\n",
        "\t\tprint(num, end=\" \")\n"
      ],
      "metadata": {
        "colab": {
          "base_uri": "https://localhost:8080/"
        },
        "id": "MKGpNG9cPHmW",
        "outputId": "f7012270-7c5e-4714-80c6-bcf04c704b94"
      },
      "execution_count": 5,
      "outputs": [
        {
          "output_type": "stream",
          "name": "stdout",
          "text": [
            "10 4 66 "
          ]
        }
      ]
    },
    {
      "cell_type": "code",
      "source": [
        "# Python program to print odd Numbers in a List\n",
        "\n",
        "# list of numbers\n",
        "list1 = [10, 21, 4, 45, 66, 93]\n",
        "\n",
        "# iterating each number in list\n",
        "for num in list1:\n",
        "\t\n",
        "\t# checking condition\n",
        "\tif num % 2 != 0:\n",
        "\t  print(num, end = \" \")\n"
      ],
      "metadata": {
        "colab": {
          "base_uri": "https://localhost:8080/"
        },
        "id": "Z3LR8-olPTNa",
        "outputId": "3f0ce878-5464-4a44-b64a-f0470b0206a9"
      },
      "execution_count": 6,
      "outputs": [
        {
          "output_type": "stream",
          "name": "stdout",
          "text": [
            "21 45 93 "
          ]
        }
      ]
    },
    {
      "cell_type": "code",
      "source": [
        "# Python program to print Even Numbers in given range\n",
        "\n",
        "start, end = 4, 19\n",
        "\n",
        "# iterating each number in list\n",
        "for num in range(start, end + 1):\n",
        "\t\n",
        "\t# checking condition\n",
        "\tif num % 2 == 0:\n",
        "\t\tprint(num, end = \" \")\n"
      ],
      "metadata": {
        "colab": {
          "base_uri": "https://localhost:8080/"
        },
        "id": "65cAP7rIPoyQ",
        "outputId": "338e51b8-bafb-4d6c-afa3-ad84612e4a7d"
      },
      "execution_count": 7,
      "outputs": [
        {
          "output_type": "stream",
          "name": "stdout",
          "text": [
            "4 6 8 10 12 14 16 18 "
          ]
        }
      ]
    },
    {
      "cell_type": "code",
      "source": [
        "# Python program to print odd Numbers in given range\n",
        "\n",
        "start, end = 4, 19\n",
        "\n",
        "# iterating each number in list\n",
        "for num in range(start, end + 1):\n",
        "\t\n",
        "\t# checking condition\n",
        "\tif num % 2 != 0:\n",
        "\t\tprint(num, end = \" \")\n"
      ],
      "metadata": {
        "colab": {
          "base_uri": "https://localhost:8080/"
        },
        "id": "JyaXtXR6P1w3",
        "outputId": "9ea86324-45ee-4f14-f0f9-a21c749c5a6c"
      },
      "execution_count": 8,
      "outputs": [
        {
          "output_type": "stream",
          "name": "stdout",
          "text": [
            "5 7 9 11 13 15 17 19 "
          ]
        }
      ]
    },
    {
      "cell_type": "code",
      "source": [
        "# Python program to print positive Numbers in a List\n",
        "\n",
        "# list of numbers\n",
        "list1 = [11, -21, 0, 45, 66, -93]\n",
        "\n",
        "# iterating each number in list\n",
        "for num in list1:\n",
        "\t\n",
        "\t# checking condition\n",
        "\tif num >= 0:\n",
        "\t   print(num, end = \" \")\n"
      ],
      "metadata": {
        "colab": {
          "base_uri": "https://localhost:8080/"
        },
        "id": "kDfIi3SFQKwc",
        "outputId": "a4bb5239-7e01-4027-d97f-ae14b40c8bae"
      },
      "execution_count": 9,
      "outputs": [
        {
          "output_type": "stream",
          "name": "stdout",
          "text": [
            "11 0 45 66 "
          ]
        }
      ]
    },
    {
      "cell_type": "code",
      "source": [
        "# Python program to print negative Numbers in a List\n",
        "\n",
        "# list of numbers\n",
        "list1 = [11, -21, 0, 45, 66, -93]\n",
        "\n",
        "# iterating each number in list\n",
        "for num in list1:\n",
        "\t\n",
        "\t# checking condition\n",
        "\tif num < 0:\n",
        "\t  print(num, end = \" \")\n"
      ],
      "metadata": {
        "colab": {
          "base_uri": "https://localhost:8080/"
        },
        "id": "47CHn5mzQbKc",
        "outputId": "4d16498b-d017-4f6f-de43-1553e3434c17"
      },
      "execution_count": 10,
      "outputs": [
        {
          "output_type": "stream",
          "name": "stdout",
          "text": [
            "-21 -93 "
          ]
        }
      ]
    },
    {
      "cell_type": "code",
      "source": [
        "# Python program to print positive Numbers in given range\n",
        "\n",
        "start, end = -4, 19\n",
        "\n",
        "# iterating each number in list\n",
        "for num in range(start, end + 1):\n",
        "\t\n",
        "\t# checking condition\n",
        "\tif num >= 0:\n",
        "\t\tprint(num, end = \" \")\n"
      ],
      "metadata": {
        "colab": {
          "base_uri": "https://localhost:8080/"
        },
        "id": "5KajmLCaQqCS",
        "outputId": "f4705d44-4fa7-4b5a-e2f5-0a2b9bb9d852"
      },
      "execution_count": 11,
      "outputs": [
        {
          "output_type": "stream",
          "name": "stdout",
          "text": [
            "0 1 2 3 4 5 6 7 8 9 10 11 12 13 14 15 16 17 18 19 "
          ]
        }
      ]
    },
    {
      "cell_type": "code",
      "source": [
        ""
      ],
      "metadata": {
        "id": "IbVjJJmLUeGH"
      },
      "execution_count": null,
      "outputs": []
    }
  ]
}