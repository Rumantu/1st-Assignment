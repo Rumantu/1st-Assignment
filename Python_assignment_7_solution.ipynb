{
  "nbformat": 4,
  "nbformat_minor": 0,
  "metadata": {
    "colab": {
      "name": "Python assignment 7 solution.ipynb",
      "provenance": [],
      "authorship_tag": "ABX9TyPIF8cRbvrFeXhx75v+Tjl/",
      "include_colab_link": true
    },
    "kernelspec": {
      "name": "python3",
      "display_name": "Python 3"
    },
    "language_info": {
      "name": "python"
    }
  },
  "cells": [
    {
      "cell_type": "markdown",
      "metadata": {
        "id": "view-in-github",
        "colab_type": "text"
      },
      "source": [
        "<a href=\"https://colab.research.google.com/github/Rumantu/1st-Assignment/blob/main/Python_assignment_7_solution.ipynb\" target=\"_parent\"><img src=\"https://colab.research.google.com/assets/colab-badge.svg\" alt=\"Open In Colab\"/></a>"
      ]
    },
    {
      "cell_type": "code",
      "execution_count": 1,
      "metadata": {
        "colab": {
          "base_uri": "https://localhost:8080/"
        },
        "id": "FZ5PMr_McyB6",
        "outputId": "5307c1a7-61f7-4df2-f0ee-531c0e7af2c1"
      },
      "outputs": [
        {
          "output_type": "stream",
          "name": "stdout",
          "text": [
            "code practice quiz geeks\n"
          ]
        }
      ],
      "source": [
        "# Function to reverse words of string\n",
        "\n",
        "def rev_sentence(sentence):\n",
        "\n",
        "\t# first split the string into words\n",
        "\twords = sentence.split(' ')\n",
        "\n",
        "\t# then reverse the split string list and join using space\n",
        "\treverse_sentence = ' '.join(reversed(words))\n",
        "\n",
        "\t# finally return the joined string\n",
        "\treturn reverse_sentence\n",
        "\n",
        "if __name__ == \"__main__\":\n",
        "\tinput = 'geeks quiz practice code'\n",
        "\tprint (rev_sentence(input))\n"
      ]
    },
    {
      "cell_type": "code",
      "source": [
        "# Python code to demonstrate method to remove i'th character Naive Method\n",
        "\n",
        "# Initializing String\n",
        "test_str = \"GeeksForGeeks\"\n",
        "\n",
        "# Printing original string\n",
        "print (\"The original string is : \" + test_str)\n",
        "\n",
        "# Removing char at pos 3\n",
        "# using loop\n",
        "new_str = \"\"\n",
        "\n",
        "for i in range(len(test_str)):\n",
        "\tif i != 2:\n",
        "\t\tnew_str = new_str + test_str[i]\n",
        "\n",
        "# Printing string after removal\n",
        "print (\"The string after removal of i'th character : \" + new_str)\n"
      ],
      "metadata": {
        "colab": {
          "base_uri": "https://localhost:8080/"
        },
        "id": "f6tD2V5KdCkb",
        "outputId": "76390aff-0c24-47a8-d129-d863c88b6512"
      },
      "execution_count": 2,
      "outputs": [
        {
          "output_type": "stream",
          "name": "stdout",
          "text": [
            "The original string is : GeeksForGeeks\n",
            "The string after removal of i'th character : GeksForGeeks\n"
          ]
        }
      ]
    },
    {
      "cell_type": "code",
      "source": [
        "# function to check if small string is there in big string\n",
        "def check(string, sub_str):\n",
        "\tif (string.find(sub_str) == -1):\n",
        "\t\tprint(\"NO\")\n",
        "\telse:\n",
        "\t\tprint(\"YES\")\n",
        "\t\t\t\n",
        "# driver code\n",
        "string = \"geeks for geeks\"\n",
        "sub_str =\"geek\"\n",
        "check(string, sub_str)\n"
      ],
      "metadata": {
        "colab": {
          "base_uri": "https://localhost:8080/"
        },
        "id": "Fvmd8CfZdY3z",
        "outputId": "6b8c3b54-eedc-4bcb-d00e-306d70fd4c44"
      },
      "execution_count": 3,
      "outputs": [
        {
          "output_type": "stream",
          "name": "stdout",
          "text": [
            "YES\n"
          ]
        }
      ]
    },
    {
      "cell_type": "code",
      "source": [
        "# Python3 code to demonstrate working of\n",
        "# Words Frequency in String Shorthands\n",
        "# Using dictionary comprehension + count() + split()\n",
        "\n",
        "# initializing string\n",
        "test_str = 'Gfg is best . Geeks are good and Geeks like Gfg'\n",
        "\n",
        "# printing original string\n",
        "print(\"The original string is : \" + str(test_str))\n",
        "\n",
        "# Words Frequency in String Shorthands\n",
        "# Using dictionary comprehension + count() + split()\n",
        "res = {key: test_str.count(key) for key in test_str.split()}\n",
        "\n",
        "# printing result\n",
        "print(\"The words frequency : \" + str(res))\n"
      ],
      "metadata": {
        "colab": {
          "base_uri": "https://localhost:8080/"
        },
        "id": "psTWGxzWdssc",
        "outputId": "34983fe6-206e-42bd-b2fe-3690aff9189c"
      },
      "execution_count": 4,
      "outputs": [
        {
          "output_type": "stream",
          "name": "stdout",
          "text": [
            "The original string is : Gfg is best . Geeks are good and Geeks like Gfg\n",
            "The words frequency : {'Gfg': 2, 'is': 1, 'best': 1, '.': 1, 'Geeks': 2, 'are': 1, 'good': 1, 'and': 1, 'like': 1}\n"
          ]
        }
      ]
    },
    {
      "cell_type": "code",
      "source": [
        "# Python3 code to demonstrate working of\n",
        "# Convert Snake case to Pascal case\n",
        "# Using title() + replace()\n",
        "\n",
        "# initializing string\n",
        "test_str = 'geeksforgeeks_is_best'\n",
        "\n",
        "# printing original string\n",
        "print(\"The original string is : \" + test_str)\n",
        "\n",
        "# Convert Snake case to Pascal case\n",
        "# Using title() + replace()\n",
        "res = test_str.replace(\"_\", \" \").title().replace(\" \", \"\")\n",
        "\n",
        "# printing result\n",
        "print(\"The String after changing case : \" + str(res))\n"
      ],
      "metadata": {
        "colab": {
          "base_uri": "https://localhost:8080/"
        },
        "id": "1wIfrC12eCVI",
        "outputId": "6965bcf4-fb90-4e7d-d027-e524f90ff3fc"
      },
      "execution_count": 5,
      "outputs": [
        {
          "output_type": "stream",
          "name": "stdout",
          "text": [
            "The original string is : geeksforgeeks_is_best\n",
            "The String after changing case : GeeksforgeeksIsBest\n"
          ]
        }
      ]
    },
    {
      "cell_type": "code",
      "source": [
        "# Python code to demonstrate string length\n",
        "# using len\n",
        "\n",
        "str = \"geeks\"\n",
        "print(len(str))\n",
        "\n",
        "# Python code to demonstrate string length\n",
        "# using for loop\n",
        "\n",
        "# Returns length of string\n",
        "def findLen(str):\n",
        "\tcounter = 0\t\n",
        "\tfor i in str:\n",
        "\t\tcounter += 1\n",
        "\treturn counter\n",
        "\n",
        "\n",
        "str = \"geeks\"\n",
        "print(findLen(str))\n",
        "\n",
        "# Python code to demonstrate string length\n",
        "# using while loop.\n",
        "\n",
        "# Returns length of string\n",
        "def findLen(str):\n",
        "\tcounter = 0\n",
        "\twhile str[counter:]:\n",
        "\t\tcounter += 1\n",
        "\treturn counter\n",
        "\n",
        "str = \"geeks\"\n",
        "print(findLen(str))\n",
        "\n",
        "# Python code to demonstrate string length\n",
        "# using join and count\n",
        "\n",
        "# Returns length of string\n",
        "def findLen(str):\n",
        "\tif not str:\n",
        "\t\treturn 0\n",
        "\telse:\n",
        "\t\tsome_random_str = 'py'\n",
        "\t\treturn ((some_random_str).join(str)).count(some_random_str) + 1\n",
        "\n",
        "str = \"geeks\"\n",
        "print(findLen(str))\n"
      ],
      "metadata": {
        "colab": {
          "base_uri": "https://localhost:8080/"
        },
        "id": "pd5eTnPneam0",
        "outputId": "d460b0d3-2188-4db4-ca7c-0e81190bad89"
      },
      "execution_count": 6,
      "outputs": [
        {
          "output_type": "stream",
          "name": "stdout",
          "text": [
            "5\n",
            "5\n",
            "5\n",
            "5\n"
          ]
        }
      ]
    },
    {
      "cell_type": "code",
      "source": [
        "# Python3 program to print even length words in a string\n",
        "\n",
        "def printWords(s):\n",
        "\t\n",
        "\t# split the string\n",
        "\ts = s.split(' ')\n",
        "\t\n",
        "\t# iterate in words of string\n",
        "\tfor word in s:\n",
        "\t\t\n",
        "\t\t# if length is even\n",
        "\t\tif len(word)%2==0:\n",
        "\t\t\tprint(word)\n",
        "\n",
        "\n",
        "# Driver Code\n",
        "s = \"i am muskan\"\n",
        "printWords(s)\n"
      ],
      "metadata": {
        "colab": {
          "base_uri": "https://localhost:8080/"
        },
        "id": "HLuGNK1Te7QV",
        "outputId": "3414e238-c7a7-416b-d598-5ac7e6f76a39"
      },
      "execution_count": 7,
      "outputs": [
        {
          "output_type": "stream",
          "name": "stdout",
          "text": [
            "am\n",
            "muskan\n"
          ]
        }
      ]
    },
    {
      "cell_type": "code",
      "source": [
        "# Python program to accept the strings\n",
        "# which contains all the vowels\n",
        "\n",
        "# Function for check if string\n",
        "# is accepted or not\n",
        "def check(string) :\n",
        "\n",
        "\tstring = string.lower()\n",
        "\n",
        "\t# set() function convert \"aeiou\"\n",
        "\t# string into set of characters\n",
        "\t# i.e.vowels = {'a', 'e', 'i', 'o', 'u'}\n",
        "\tvowels = set(\"aeiou\")\n",
        "\n",
        "\t# set() function convert empty\n",
        "\t# dictionary into empty set\n",
        "\ts = set({})\n",
        "\n",
        "\t# looping through each\n",
        "\t# character of the string\n",
        "\tfor char in string :\n",
        "\n",
        "\t\t# Check for the character is present inside\n",
        "\t\t# the vowels set or not. If present, then\n",
        "\t\t# add into the set s by using add method\n",
        "\t\tif char in vowels :\n",
        "\t\t\ts.add(char)\n",
        "\t\telse:\n",
        "\t\t\tpass\n",
        "\t\t\t\n",
        "\t# check the length of set s equal to length\n",
        "\t# of vowels set or not. If equal, string is\n",
        "\t# accepted otherwise not\n",
        "\tif len(s) == len(vowels) :\n",
        "\t\tprint(\"Accepted\")\n",
        "\telse :\n",
        "\t\tprint(\"Not Accepted\")\n",
        "\n",
        "\n",
        "# Driver code\n",
        "if __name__ == \"__main__\" :\n",
        "\t\n",
        "\tstring = \"SEEquoiaL\"\n",
        "\n",
        "\t# calling function\n",
        "\tcheck(string)\n"
      ],
      "metadata": {
        "colab": {
          "base_uri": "https://localhost:8080/"
        },
        "id": "rmIupp5ejB0x",
        "outputId": "5e572bf9-ca02-45a8-82fa-02a764c17a9a"
      },
      "execution_count": 8,
      "outputs": [
        {
          "output_type": "stream",
          "name": "stdout",
          "text": [
            "Accepted\n"
          ]
        }
      ]
    },
    {
      "cell_type": "code",
      "source": [
        "# Python code to count number of matching\n",
        "# characters in a pair of strings\n",
        "\n",
        "# count function\n",
        "def count(str1, str2):\n",
        "\tc, j = 0, 0\n",
        "\t\n",
        "\t# loop executes till length of str1 and\n",
        "\t# stores value of str1 character by character\n",
        "\t# and stores in i at each iteration.\n",
        "\tfor i in str1:\t\n",
        "\t\t\n",
        "\t\t# this will check if character extracted from\n",
        "\t\t# str1 is present in str2 or not(str2.find(i)\n",
        "\t\t# return -1 if not found otherwise return the\n",
        "\t\t# starting occurrence index of that character\n",
        "\t\t# in str2) and j == str1.find(i) is used to\n",
        "\t\t# avoid the counting of the duplicate characters\n",
        "\t\t# present in str1 found in str2\n",
        "\t\tif str2.find(i)>= 0 and j == str1.find(i):\n",
        "\t\t\tc += 1\n",
        "\t\tj += 1\n",
        "\tprint ('No. of matching characters are : ', c)\n",
        "\n",
        "# Main function\n",
        "def main():\n",
        "\tstr1 ='aabcddekll12@' # first string\n",
        "\tstr2 ='bb2211@55k' # second string\n",
        "\tcount(str1, str2) # calling count function\n",
        "\n",
        "# Driver Code\n",
        "if __name__==\"__main__\":\n",
        "\tmain()\n"
      ],
      "metadata": {
        "colab": {
          "base_uri": "https://localhost:8080/"
        },
        "id": "g0ypGSlHjNJN",
        "outputId": "c0caf4ee-36a1-48e6-b8cf-8301d206cd9e"
      },
      "execution_count": 9,
      "outputs": [
        {
          "output_type": "stream",
          "name": "stdout",
          "text": [
            "No. of matching characters are :  5\n"
          ]
        }
      ]
    },
    {
      "cell_type": "code",
      "source": [
        "from collections import OrderedDict\n",
        "\n",
        "# Function to remove all duplicates from string\n",
        "# and order does not matter\n",
        "def removeDupWithoutOrder(str):\n",
        "\n",
        "\t# set() --> A Set is an unordered collection\n",
        "\t#\t\t data type that is iterable, mutable,\n",
        "\t#\t\t and has no duplicate elements.\n",
        "\t# \"\".join() --> It joins two adjacent elements in\n",
        "\t#\t\t\t iterable with any symbol defined in\n",
        "\t#\t\t\t \"\" ( double quotes ) and returns a\n",
        "\t#\t\t\t single string\n",
        "\treturn \"\".join(set(str))\n",
        "\n",
        "# Function to remove all duplicates from string\n",
        "# and keep the order of characters same\n",
        "def removeDupWithOrder(str):\n",
        "\treturn \"\".join(OrderedDict.fromkeys(str))\n",
        "\n",
        "# Driver program\n",
        "if __name__ == \"__main__\":\n",
        "\tstr = \"geeksforgeeks\"\n",
        "\tprint (\"Without Order = \",removeDupWithoutOrder(str))\n",
        "\tprint (\"With Order = \",removeDupWithOrder(str))\n"
      ],
      "metadata": {
        "colab": {
          "base_uri": "https://localhost:8080/"
        },
        "id": "ungGxB3TlIsy",
        "outputId": "1faa858a-dec7-4e02-91ef-7267c63f973a"
      },
      "execution_count": 10,
      "outputs": [
        {
          "output_type": "stream",
          "name": "stdout",
          "text": [
            "Without Order =  kgsrfeo\n",
            "With Order =  geksfor\n"
          ]
        }
      ]
    },
    {
      "cell_type": "code",
      "source": [
        ""
      ],
      "metadata": {
        "id": "-5ohSG_llZIg"
      },
      "execution_count": null,
      "outputs": []
    }
  ]
}