{
  "nbformat": 4,
  "nbformat_minor": 0,
  "metadata": {
    "colab": {
      "name": "Python assignment 5 solution.ipynb",
      "provenance": [],
      "authorship_tag": "ABX9TyN78aX0wdLbyMkGVjVWiPNW",
      "include_colab_link": true
    },
    "kernelspec": {
      "name": "python3",
      "display_name": "Python 3"
    },
    "language_info": {
      "name": "python"
    }
  },
  "cells": [
    {
      "cell_type": "markdown",
      "metadata": {
        "id": "view-in-github",
        "colab_type": "text"
      },
      "source": [
        "<a href=\"https://colab.research.google.com/github/Rumantu/1st-Assignment/blob/main/Python_assignment_5_solution.ipynb\" target=\"_parent\"><img src=\"https://colab.research.google.com/assets/colab-badge.svg\" alt=\"Open In Colab\"/></a>"
      ]
    },
    {
      "cell_type": "code",
      "execution_count": 1,
      "metadata": {
        "colab": {
          "base_uri": "https://localhost:8080/"
        },
        "id": "jsg-wmqLU6p_",
        "outputId": "8d03935d-d87e-4b1b-c450-ae2485b3d691"
      },
      "outputs": [
        {
          "output_type": "stream",
          "name": "stdout",
          "text": [
            "-4 -3 -2 -1 "
          ]
        }
      ],
      "source": [
        "# Python program to print negative Numbers in given range\n",
        "\n",
        "start, end = -4, 19\n",
        "\n",
        "# iterating each number in list\n",
        "for num in range(start, end + 1):\n",
        "\t\n",
        "\t# checking condition\n",
        "\tif num < 0:\n",
        "\t\tprint(num, end = \" \")\n"
      ]
    },
    {
      "cell_type": "code",
      "source": [
        "# Python program to remove multiple elements from a list\n",
        "\n",
        "# creating a list\n",
        "list1 = [11, 5, 17, 18, 23, 50]\n",
        "\n",
        "# Iterate each element in list\n",
        "# and add them in variable total\n",
        "for ele in list1:\n",
        "\tif ele % 2 == 0:\n",
        "\t\tlist1.remove(ele)\n",
        "\n",
        "# printing modified list\n",
        "print(\"New list after removing all even numbers: \", list1)\n"
      ],
      "metadata": {
        "colab": {
          "base_uri": "https://localhost:8080/"
        },
        "id": "rcNT-spsVHlN",
        "outputId": "3ad2fae5-65af-4dac-f8c9-167a89baca1c"
      },
      "execution_count": 2,
      "outputs": [
        {
          "output_type": "stream",
          "name": "stdout",
          "text": [
            "New list after removing all even numbers:  [11, 5, 17, 23]\n"
          ]
        }
      ]
    },
    {
      "cell_type": "code",
      "source": [
        "# Initializing list\n",
        "test_list = [5, 6, [], 3, [], [], 9]\n",
        "\n",
        "# printing original list\n",
        "print(\"The original list is : \" + str(test_list))\n",
        "\n",
        "# Remove empty List from List using list comprehension\n",
        "res = [ele for ele in test_list if ele != []]\n",
        "\n",
        "# printing result\n",
        "print (\"List after empty list removal : \" + str(res))\n"
      ],
      "metadata": {
        "colab": {
          "base_uri": "https://localhost:8080/"
        },
        "id": "iYPTbhEiVbD9",
        "outputId": "d15c8dbd-7db9-44ac-be98-3d8fe020fcf4"
      },
      "execution_count": 3,
      "outputs": [
        {
          "output_type": "stream",
          "name": "stdout",
          "text": [
            "The original list is : [5, 6, [], 3, [], [], 9]\n",
            "List after empty list removal : [5, 6, 3, 9]\n"
          ]
        }
      ]
    },
    {
      "cell_type": "code",
      "source": [
        "# Python program to copy or clone a list Using the Slice Operator\n",
        "def Cloning(li1):\n",
        "\tli_copy = li1[:]\n",
        "\treturn li_copy\n",
        "\n",
        "# Driver Code\n",
        "li1 = [4, 8, 2, 10, 15, 18]\n",
        "li2 = Cloning(li1)\n",
        "print(\"Original List:\", li1)\n",
        "print(\"After Cloning:\", li2)\n"
      ],
      "metadata": {
        "colab": {
          "base_uri": "https://localhost:8080/"
        },
        "id": "FUKe7Iz2WBGf",
        "outputId": "fceff87a-0882-4167-a0bd-58e9c5f767c4"
      },
      "execution_count": 4,
      "outputs": [
        {
          "output_type": "stream",
          "name": "stdout",
          "text": [
            "Original List: [4, 8, 2, 10, 15, 18]\n",
            "After Cloning: [4, 8, 2, 10, 15, 18]\n"
          ]
        }
      ]
    },
    {
      "cell_type": "code",
      "source": [
        "# Python code to count the number of occurrences\n",
        "def countX(lst, x):\n",
        "\tcount = 0\n",
        "\tfor ele in lst:\n",
        "\t\tif (ele == x):\n",
        "\t\t\tcount = count + 1\n",
        "\treturn count\n",
        "\n",
        "# Driver Code\n",
        "lst = [8, 6, 8, 10, 8, 20, 10, 8, 8]\n",
        "x = 8\n",
        "print('{} has occurred {} times'.format(x, countX(lst, x)))\n"
      ],
      "metadata": {
        "colab": {
          "base_uri": "https://localhost:8080/"
        },
        "id": "Lyyu7RDPWT1u",
        "outputId": "aed5aa26-8db5-460e-f262-6064e32f2667"
      },
      "execution_count": 5,
      "outputs": [
        {
          "output_type": "stream",
          "name": "stdout",
          "text": [
            "8 has occurred 5 times\n"
          ]
        }
      ]
    },
    {
      "cell_type": "code",
      "source": [
        "# Python program to remove empty tuples from a list of tuples function to remove empty tuples using list comprehension\n",
        "def Remove(tuples):\n",
        "\ttuples = [t for t in tuples if t]\n",
        "\treturn tuples\n",
        "\n",
        "# Driver Code\n",
        "tuples = [(), ('ram','15','8'), (), ('laxman', 'sita'),\n",
        "\t\t('krishna', 'akbar', '45'), ('',''),()]\n",
        "print(Remove(tuples))\n"
      ],
      "metadata": {
        "colab": {
          "base_uri": "https://localhost:8080/"
        },
        "id": "v2WffmadWlmI",
        "outputId": "578f13a0-92b3-4bca-f1c1-69a6f77aaa6c"
      },
      "execution_count": 6,
      "outputs": [
        {
          "output_type": "stream",
          "name": "stdout",
          "text": [
            "[('ram', '15', '8'), ('laxman', 'sita'), ('krishna', 'akbar', '45'), ('', '')]\n"
          ]
        }
      ]
    },
    {
      "cell_type": "code",
      "source": [
        "# Python program to print duplicates from a list of integers\n",
        "def Repeat(x):\n",
        "\t_size = len(x)\n",
        "\trepeated = []\n",
        "\tfor i in range(_size):\n",
        "\t\tk = i + 1\n",
        "\t\tfor j in range(k, _size):\n",
        "\t\t\tif x[i] == x[j] and x[i] not in repeated:\n",
        "\t\t\t\trepeated.append(x[i])\n",
        "\treturn repeated\n",
        "\n",
        "# Driver Code\n",
        "list1 = [10, 20, 30, 20, 20, 30, 40,\n",
        "\t\t50, -20, 60, 60, -20, -20]\n",
        "print (Repeat(list1))"
      ],
      "metadata": {
        "colab": {
          "base_uri": "https://localhost:8080/"
        },
        "id": "R2-biv7UXE7S",
        "outputId": "519b03a6-8e89-4e1f-e7ce-c999dec2e455"
      },
      "execution_count": 7,
      "outputs": [
        {
          "output_type": "stream",
          "name": "stdout",
          "text": [
            "[20, 30, -20, 60]\n"
          ]
        }
      ]
    },
    {
      "cell_type": "code",
      "source": [
        "# Python code to get the Cumulative sum of a list\n",
        "def Cumulative(lists):\n",
        "\tcu_list = []\n",
        "\tlength = len(lists)\n",
        "\tcu_list = [sum(lists[0:x:1]) for x in range(0, length+1)]\n",
        "\treturn cu_list[1:]\n",
        "\n",
        "# Driver Code\n",
        "lists = [10, 20, 30, 40, 50]\n",
        "print (Cumulative(lists))\n"
      ],
      "metadata": {
        "colab": {
          "base_uri": "https://localhost:8080/"
        },
        "id": "EyJ9ODJeXZXL",
        "outputId": "ce219fa9-356b-42c5-d004-127c4b829d91"
      },
      "execution_count": 8,
      "outputs": [
        {
          "output_type": "stream",
          "name": "stdout",
          "text": [
            "[10, 30, 60, 100, 150]\n"
          ]
        }
      ]
    },
    {
      "cell_type": "code",
      "source": [
        "# Python3 code to demonstrate Sum of number digits in List using loop + str()\n",
        "\n",
        "# Initializing list\n",
        "test_list = [12, 67, 98, 34]\n",
        "\n",
        "# printing original list\n",
        "print(\"The original list is : \" + str(test_list))\n",
        "\n",
        "# Sum of number digits in List\n",
        "# using loop + str()\n",
        "res = []\n",
        "for ele in test_list:\n",
        "\tsum = 0\n",
        "\tfor digit in str(ele):\n",
        "\t\tsum += int(digit)\n",
        "\tres.append(sum)\n",
        "\t\n",
        "# printing result\n",
        "print (\"List Integer Summation : \" + str(res))\n"
      ],
      "metadata": {
        "colab": {
          "base_uri": "https://localhost:8080/"
        },
        "id": "QHWuxpEwXkja",
        "outputId": "23ad5cb7-b167-48b7-872c-23d288f5f642"
      },
      "execution_count": 9,
      "outputs": [
        {
          "output_type": "stream",
          "name": "stdout",
          "text": [
            "The original list is : [12, 67, 98, 34]\n",
            "List Integer Summation : [3, 13, 17, 7]\n"
          ]
        }
      ]
    },
    {
      "cell_type": "code",
      "source": [
        "my_list = ['geeks', 'for', 'geeks', 'like',\n",
        "\t\t'geeky','nerdy', 'geek', 'love',\n",
        "\t\t\t'questions','words', 'life']\n",
        "\n",
        "# Yield successive n-sized chunks from list.\n",
        "def divide_chunks(l, n):\n",
        "\t\n",
        "\t# looping till length l\n",
        "\tfor i in range(0, len(l), n):\n",
        "\t\tyield l[i:i + n]\n",
        "\n",
        "# How many elements each\n",
        "# list should have\n",
        "n = 5\n",
        "\n",
        "x = list(divide_chunks(my_list, n))\n",
        "print (x)\n"
      ],
      "metadata": {
        "colab": {
          "base_uri": "https://localhost:8080/"
        },
        "id": "nIaxRUnXX8Il",
        "outputId": "9cc8e596-5946-46ed-c68a-5518f5264f3a"
      },
      "execution_count": 10,
      "outputs": [
        {
          "output_type": "stream",
          "name": "stdout",
          "text": [
            "[['geeks', 'for', 'geeks', 'like', 'geeky'], ['nerdy', 'geek', 'love', 'questions', 'words'], ['life']]\n"
          ]
        }
      ]
    },
    {
      "cell_type": "code",
      "source": [
        "# Python program to sort one list using the other list\n",
        "\n",
        "def sort_list(list1, list2):\n",
        "\n",
        "\tzipped_pairs = zip(list2, list1)\n",
        "\n",
        "\tz = [x for _, x in sorted(zipped_pairs)]\n",
        "\t\n",
        "\treturn z\n",
        "\t\n",
        "\n",
        "# driver code\n",
        "x = [\"a\", \"b\", \"c\", \"d\", \"e\", \"f\", \"g\", \"h\", \"i\"]\n",
        "y = [ 0, 1, 1, 0, 1, 2, 2, 0, 1]\n",
        "\n",
        "print(sort_list(x, y))\n",
        "\n",
        "x = [\"g\", \"e\", \"e\", \"k\", \"s\", \"f\", \"o\", \"r\", \"g\", \"e\", \"e\", \"k\", \"s\"]\n",
        "y = [ 0, 1, 1, 0, 1, 2, 2, 0, 1]\n",
        "\n",
        "print(sort_list(x, y))\n"
      ],
      "metadata": {
        "colab": {
          "base_uri": "https://localhost:8080/"
        },
        "id": "7joKkytOYUeg",
        "outputId": "b67ab23c-683d-4784-9d58-056bcd06c7e3"
      },
      "execution_count": 11,
      "outputs": [
        {
          "output_type": "stream",
          "name": "stdout",
          "text": [
            "['a', 'd', 'h', 'b', 'c', 'e', 'i', 'f', 'g']\n",
            "['g', 'k', 'r', 'e', 'e', 'g', 's', 'f', 'o']\n"
          ]
        }
      ]
    },
    {
      "cell_type": "code",
      "source": [
        ""
      ],
      "metadata": {
        "id": "mhcxjZy2YoLM"
      },
      "execution_count": null,
      "outputs": []
    }
  ]
}