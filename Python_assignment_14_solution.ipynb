{
  "nbformat": 4,
  "nbformat_minor": 0,
  "metadata": {
    "colab": {
      "name": "Python assignment 14 solution.ipynb",
      "provenance": [],
      "authorship_tag": "ABX9TyO0GinivtIBGZ2Yaf/9smzS",
      "include_colab_link": true
    },
    "kernelspec": {
      "name": "python3",
      "display_name": "Python 3"
    },
    "language_info": {
      "name": "python"
    }
  },
  "cells": [
    {
      "cell_type": "markdown",
      "metadata": {
        "id": "view-in-github",
        "colab_type": "text"
      },
      "source": [
        "<a href=\"https://colab.research.google.com/github/Rumantu/1st-Assignment/blob/main/Python_assignment_14_solution.ipynb\" target=\"_parent\"><img src=\"https://colab.research.google.com/assets/colab-badge.svg\" alt=\"Open In Colab\"/></a>"
      ]
    },
    {
      "cell_type": "code",
      "execution_count": 1,
      "metadata": {
        "colab": {
          "base_uri": "https://localhost:8080/"
        },
        "id": "rJYRWW4QZ22T",
        "outputId": "4df15efd-a9e9-4178-9bc0-b726f1db8c64"
      },
      "outputs": [
        {
          "output_type": "stream",
          "name": "stdout",
          "text": [
            "5 6 11 12 13 "
          ]
        }
      ],
      "source": [
        "# Recursive Python program for insertion sort\n",
        "# Recursive function to sort an array using insertion sort\n",
        "\n",
        "def insertionSortRecursive(arr,n):\n",
        "\t# base case\n",
        "\tif n<=1:\n",
        "\t\treturn\n",
        "\t\n",
        "\t# Sort first n-1 elements\n",
        "\tinsertionSortRecursive(arr,n-1)\n",
        "\t'''Insert last element at its correct position\n",
        "\t\tin sorted array.'''\n",
        "\tlast = arr[n-1]\n",
        "\tj = n-2\n",
        "\t\n",
        "\t# Move elements of arr[0..i-1], that are\n",
        "\t# greater than key, to one position ahead\n",
        "\t# of their current position\n",
        "\twhile (j>=0 and arr[j]>last):\n",
        "\t\tarr[j+1] = arr[j]\n",
        "\t\tj = j-1\n",
        "\n",
        "\tarr[j+1]=last\n",
        "\t\n",
        "# A utility function to print an array of size n\n",
        "def printArray(arr,n):\n",
        "\tfor i in range(n):\n",
        "\t\tprint(arr[i],end=\" \")\n",
        "\n",
        "# Driver program to test insertion sort\n",
        "arr = [12,11,13,5,6]\n",
        "n = len(arr)\n",
        "insertionSortRecursive(arr, n)\n",
        "printArray(arr, n)"
      ]
    },
    {
      "cell_type": "code",
      "source": [
        "# Python program for implementation of Quicksort Sort\n",
        "\n",
        "def partition(arr, low, high):\n",
        "\ti = (low-1)\t\t # index of smaller element\n",
        "\tpivot = arr[high]\t # pivot\n",
        "\n",
        "\tfor j in range(low, high):\n",
        "\n",
        "\t\t# If current element is smaller than or\n",
        "\t\t# equal to pivot\n",
        "\t\tif arr[j] <= pivot:\n",
        "\n",
        "\t\t\t# increment index of smaller element\n",
        "\t\t\ti = i+1\n",
        "\t\t\tarr[i], arr[j] = arr[j], arr[i]\n",
        "\n",
        "\tarr[i+1], arr[high] = arr[high], arr[i+1]\n",
        "\treturn (i+1)\n",
        "\n",
        "# The main function that implements QuickSort\n",
        "# arr[] --> Array to be sorted,\n",
        "# low --> Starting index,\n",
        "# high --> Ending index\n",
        "\n",
        "# Function to do Quick sort\n",
        "\n",
        "\n",
        "def quickSort(arr, low, high):\n",
        "\tif len(arr) == 1:\n",
        "\t\treturn arr\n",
        "\tif low < high:\n",
        "\n",
        "\t\t# pi is partitioning index, arr[p] is now\n",
        "\t\t# at right place\n",
        "\t\tpi = partition(arr, low, high)\n",
        "\n",
        "\t\t# Separately sort elements before\n",
        "\t\t# partition and after partition\n",
        "\t\tquickSort(arr, low, pi-1)\n",
        "\t\tquickSort(arr, pi+1, high)\n",
        "\n",
        "\n",
        "# Driver code to test above\n",
        "arr = [10, 7, 8, 9, 1, 5]\n",
        "n = len(arr)\n",
        "quickSort(arr, 0, n-1)\n",
        "print(\"Sorted array is:\")\n",
        "for i in range(n):\n",
        "\tprint(\"%d\" % arr[i])\n"
      ],
      "metadata": {
        "colab": {
          "base_uri": "https://localhost:8080/"
        },
        "id": "t2tN3Cy6aaX2",
        "outputId": "283d7c77-9c9d-434b-abb2-4682164c7839"
      },
      "execution_count": 2,
      "outputs": [
        {
          "output_type": "stream",
          "name": "stdout",
          "text": [
            "Sorted array is:\n",
            "1\n",
            "5\n",
            "7\n",
            "8\n",
            "9\n",
            "10\n"
          ]
        }
      ]
    },
    {
      "cell_type": "code",
      "source": [
        "# A typical recursive Python\n",
        "# implementation of QuickSort\n",
        "\n",
        "# Function takes last element as pivot,\n",
        "# places the pivot element at its correct\n",
        "# position in sorted array, and places all\n",
        "# smaller (smaller than pivot) to left of\n",
        "# pivot and all greater elements to right\n",
        "# of pivot\n",
        "def partition(arr, low, high):\n",
        "\ti = (low - 1)\t\t # index of smaller element\n",
        "\tpivot = arr[high]\t # pivot\n",
        "\n",
        "\tfor j in range(low, high):\n",
        "\n",
        "\t\t# If current element is smaller\n",
        "\t\t# than or equal to pivot\n",
        "\t\tif arr[j] <= pivot:\n",
        "\t\t\n",
        "\t\t\t# increment index of\n",
        "\t\t\t# smaller element\n",
        "\t\t\ti += 1\n",
        "\t\t\tarr[i], arr[j] = arr[j], arr[i]\n",
        "\n",
        "\tarr[i + 1], arr[high] = arr[high], arr[i + 1]\n",
        "\treturn (i + 1)\n",
        "\n",
        "# The main function that implements QuickSort\n",
        "# arr[] --> Array to be sorted,\n",
        "# low --> Starting index,\n",
        "# high --> Ending index\n",
        "\n",
        "# Function to do Quick sort\n",
        "def quickSort(arr, low, high):\n",
        "\tif low < high:\n",
        "\n",
        "\t\t# pi is partitioning index, arr[p] is now\n",
        "\t\t# at right place\n",
        "\t\tpi = partition(arr, low, high)\n",
        "\n",
        "\t\t# Separately sort elements before\n",
        "\t\t# partition and after partition\n",
        "\t\tquickSort(arr, low, pi-1)\n",
        "\t\tquickSort(arr, pi + 1, high)\n",
        "\n",
        "# Driver Code\n",
        "if __name__ == '__main__' :\n",
        "\t\n",
        "\tarr = [4, 2, 6, 9, 2]\n",
        "\tn = len(arr)\n",
        "\t\n",
        "\t# Calling quickSort function\n",
        "\tquickSort(arr, 0, n - 1)\n",
        "\t\n",
        "\tfor i in range(n):\n",
        "\t\tprint(arr[i], end = \" \")\n"
      ],
      "metadata": {
        "colab": {
          "base_uri": "https://localhost:8080/"
        },
        "id": "7epEIB4HasWb",
        "outputId": "6b3c76a3-554f-4a1b-a496-5f1f35fb35de"
      },
      "execution_count": 3,
      "outputs": [
        {
          "output_type": "stream",
          "name": "stdout",
          "text": [
            "2 2 4 6 9 "
          ]
        }
      ]
    },
    {
      "cell_type": "code",
      "source": [
        "# Python program for implementation of Selection\n",
        "# Sort\n",
        "import sys\n",
        "A = [64, 25, 12, 22, 11]\n",
        "\n",
        "# Traverse through all array elements\n",
        "for i in range(len(A)):\n",
        "\t\n",
        "\t# Find the minimum element in remaining\n",
        "\t# unsorted array\n",
        "\tmin_idx = i\n",
        "\tfor j in range(i+1, len(A)):\n",
        "\t\tif A[min_idx] > A[j]:\n",
        "\t\t\tmin_idx = j\n",
        "\t\t\t\n",
        "\t# Swap the found minimum element with\n",
        "\t# the first element\t\t\n",
        "\tA[i], A[min_idx] = A[min_idx], A[i]\n",
        "\n",
        "# Driver code to test above\n",
        "print (\"Sorted array\")\n",
        "for i in range(len(A)):\n",
        "\tprint(\"%d\" %A[i]),\n"
      ],
      "metadata": {
        "colab": {
          "base_uri": "https://localhost:8080/"
        },
        "id": "ulp1Sodha4vm",
        "outputId": "ab43691b-f230-4df4-cce2-dd5539a1f757"
      },
      "execution_count": 4,
      "outputs": [
        {
          "output_type": "stream",
          "name": "stdout",
          "text": [
            "Sorted array\n",
            "11\n",
            "12\n",
            "22\n",
            "25\n",
            "64\n"
          ]
        }
      ]
    },
    {
      "cell_type": "code",
      "source": [
        "# Python program for implementation of Bubble Sort\n",
        "\n",
        "def bubbleSort(arr):\n",
        "\tn = len(arr)\n",
        "\n",
        "\t# Traverse through all array elements\n",
        "\tfor i in range(n-1):\n",
        "\t# range(n) also work but outer loop will\n",
        "\t# repeat one time more than needed.\n",
        "\n",
        "\t\t# Last i elements are already in place\n",
        "\t\tfor j in range(0, n-i-1):\n",
        "\n",
        "\t\t\t# traverse the array from 0 to n-i-1\n",
        "\t\t\t# Swap if the element found is greater\n",
        "\t\t\t# than the next element\n",
        "\t\t\tif arr[j] > arr[j + 1] :\n",
        "\t\t\t\tarr[j], arr[j + 1] = arr[j + 1], arr[j]\n",
        "\n",
        "# Driver code to test above\n",
        "arr = [64, 34, 25, 12, 22, 11, 90]\n",
        "\n",
        "bubbleSort(arr)\n",
        "\n",
        "print (\"Sorted array is:\")\n",
        "for i in range(len(arr)):\n",
        "\tprint (\"% d\" % arr[i],end=\" \")\n"
      ],
      "metadata": {
        "colab": {
          "base_uri": "https://localhost:8080/"
        },
        "id": "a0o0klJNbBny",
        "outputId": "df60dde2-a3e0-40e9-defd-c968e05add8d"
      },
      "execution_count": 5,
      "outputs": [
        {
          "output_type": "stream",
          "name": "stdout",
          "text": [
            "Sorted array is:\n",
            " 11  12  22  25  34  64  90 "
          ]
        }
      ]
    },
    {
      "cell_type": "code",
      "source": [
        "# Python program for implementation of Bubble Sort\n",
        "\n",
        "def bubbleSort(arr):\n",
        "\tn = len(arr)\n",
        "\n",
        "\t# Traverse through all array elements\n",
        "\tfor i in range(n-1):\n",
        "\t# range(n) also work but outer loop will\n",
        "\t# repeat one time more than needed.\n",
        "\n",
        "\t\t# Last i elements are already in place\n",
        "\t\tfor j in range(0, n-i-1):\n",
        "\n",
        "\t\t\t# traverse the array from 0 to n-i-1\n",
        "\t\t\t# Swap if the element found is greater\n",
        "\t\t\t# than the next element\n",
        "\t\t\tif arr[j] > arr[j + 1] :\n",
        "\t\t\t\tarr[j], arr[j + 1] = arr[j + 1], arr[j]\n",
        "\n",
        "# Driver code to test above\n",
        "arr = [64, 34, 25, 12, 22, 11, 90]\n",
        "\n",
        "bubbleSort(arr)\n",
        "\n",
        "print (\"Sorted array is:\")\n",
        "for i in range(len(arr)):\n",
        "\tprint (\"% d\" % arr[i],end=\" \")\n"
      ],
      "metadata": {
        "colab": {
          "base_uri": "https://localhost:8080/"
        },
        "id": "xpP0_JcHbK8Q",
        "outputId": "8f1c2071-e54c-4ec4-bb76-bdbd7a66e41f"
      },
      "execution_count": 6,
      "outputs": [
        {
          "output_type": "stream",
          "name": "stdout",
          "text": [
            "Sorted array is:\n",
            " 11  12  22  25  34  64  90 "
          ]
        }
      ]
    },
    {
      "cell_type": "code",
      "source": [
        "# Iterative Merge sort (Bottom Up)\n",
        "\n",
        "# Iterative mergesort function to\n",
        "# sort arr[0...n-1]\n",
        "\n",
        "# perform bottom up merge\n",
        "def mergeSort(a):\n",
        "\t# start with least partition size of 2^0 = 1\n",
        "\twidth = 1\n",
        "\tn = len(a)\t\t\t\t\t\t\t\t\t\t\n",
        "\t# subarray size grows by powers of 2\n",
        "\t# since growth of loop condition is exponential,\n",
        "\t# time consumed is logarithmic (log2n)\n",
        "\twhile (width < n):\n",
        "\t\t# always start from leftmost\n",
        "\t\tl=0;\n",
        "\t\twhile (l < n):\n",
        "\t\t\tr = min(l+(width*2-1), n-1)\t\t\n",
        "\t\t\tm = min(l+width-1,n-1)\n",
        "\t\t\t# final merge should consider\n",
        "\t\t\t# unmerged sublist if input arr\n",
        "\t\t\t# size is not power of 2\t\t\t\n",
        "\t\t\tmerge(a, l, m, r)\n",
        "\t\t\tl += width*2\n",
        "\t\t# Increasing sub array size by powers of 2\n",
        "\t\twidth *= 2\n",
        "\treturn a\n",
        "\n",
        "# Merge Function\n",
        "def merge(a, l, m, r):\n",
        "\tn1 = m - l + 1\n",
        "\tn2 = r - m\n",
        "\tL = [0] * n1\n",
        "\tR = [0] * n2\n",
        "\tfor i in range(0, n1):\n",
        "\t\tL[i] = a[l + i]\n",
        "\tfor i in range(0, n2):\n",
        "\t\tR[i] = a[m + i + 1]\n",
        "\n",
        "\ti, j, k = 0, 0, l\n",
        "\twhile i < n1 and j < n2:\n",
        "\t\tif L[i] <= R[j]:\n",
        "\t\t\ta[k] = L[i]\n",
        "\t\t\ti += 1\n",
        "\t\telse:\n",
        "\t\t\ta[k] = R[j]\n",
        "\t\t\tj += 1\n",
        "\t\tk += 1\n",
        "\n",
        "\twhile i < n1:\n",
        "\t\ta[k] = L[i]\n",
        "\t\ti += 1\n",
        "\t\tk += 1\n",
        "\n",
        "\twhile j < n2:\n",
        "\t\ta[k] = R[j]\n",
        "\t\tj += 1\n",
        "\t\tk += 1\n",
        "\n",
        "\n",
        "# Driver code\n",
        "a = [-74,48,-20,2,10,-84,-5,-9,11,-24,-91,2,-71,64,63,80,28,-30,-58,-11,-44,-87,-22,54,-74,-10,-55,-28,-46,29,10,50,-72,34,26,25,8,51,13,30,35,-8,50,65,-6,16,-2,21,-78,35,-13,14,23,-3,26,-90,86,25,-56,91,-13,92,-25,37,57,-20,-69,98,95,45,47,29,86,-28,73,-44,-46,65,-84,-96,-24,-12,72,-68,93,57,92,52,-45,-2,85,-63,56,55,12,-85,77,-39]\n",
        "print(\"Given array is \")\n",
        "print(a)\n",
        "mergeSort(a)\n",
        "\n",
        "print(\"Sorted array is \")\n",
        "print(a)\n"
      ],
      "metadata": {
        "colab": {
          "base_uri": "https://localhost:8080/"
        },
        "id": "0O1G44-qb0A9",
        "outputId": "c73a7beb-68a3-44df-a79a-f7d9dc05efcb"
      },
      "execution_count": 7,
      "outputs": [
        {
          "output_type": "stream",
          "name": "stdout",
          "text": [
            "Given array is \n",
            "[-74, 48, -20, 2, 10, -84, -5, -9, 11, -24, -91, 2, -71, 64, 63, 80, 28, -30, -58, -11, -44, -87, -22, 54, -74, -10, -55, -28, -46, 29, 10, 50, -72, 34, 26, 25, 8, 51, 13, 30, 35, -8, 50, 65, -6, 16, -2, 21, -78, 35, -13, 14, 23, -3, 26, -90, 86, 25, -56, 91, -13, 92, -25, 37, 57, -20, -69, 98, 95, 45, 47, 29, 86, -28, 73, -44, -46, 65, -84, -96, -24, -12, 72, -68, 93, 57, 92, 52, -45, -2, 85, -63, 56, 55, 12, -85, 77, -39]\n",
            "Sorted array is \n",
            "[-96, -91, -90, -87, -85, -84, -84, -78, -74, -74, -72, -71, -69, -68, -63, -58, -56, -55, -46, -46, -45, -44, -44, -39, -30, -28, -28, -25, -24, -24, -22, -20, -20, -13, -13, -12, -11, -10, -9, -8, -6, -5, -3, -2, -2, 2, 2, 8, 10, 10, 11, 12, 13, 14, 16, 21, 23, 25, 25, 26, 26, 28, 29, 29, 30, 34, 35, 35, 37, 45, 47, 48, 50, 50, 51, 52, 54, 55, 56, 57, 57, 63, 64, 65, 65, 72, 73, 77, 80, 85, 86, 86, 91, 92, 92, 93, 95, 98]\n"
          ]
        }
      ]
    },
    {
      "cell_type": "code",
      "source": [
        "# Python program for implementation of heap Sort\n",
        "\n",
        "# To heapify subtree rooted at index i.\n",
        "# n is size of heap\n",
        "def heapify(arr, n, i):\n",
        "\tlargest = i # Initialize largest as root\n",
        "\tl = 2 * i + 1\t # left = 2*i + 1\n",
        "\tr = 2 * i + 2\t # right = 2*i + 2\n",
        "\n",
        "\t# See if left child of root exists and is\n",
        "\t# greater than root\n",
        "\tif l < n and arr[i] < arr[l]:\n",
        "\t\tlargest = l\n",
        "\n",
        "\t# See if right child of root exists and is\n",
        "\t# greater than root\n",
        "\tif r < n and arr[largest] < arr[r]:\n",
        "\t\tlargest = r\n",
        "\n",
        "\t# Change root, if needed\n",
        "\tif largest != i:\n",
        "\t\tarr[i],arr[largest] = arr[largest],arr[i] # swap\n",
        "\n",
        "\t\t# Heapify the root.\n",
        "\t\theapify(arr, n, largest)\n",
        "\n",
        "# The main function to sort an array of given size\n",
        "def heapSort(arr):\n",
        "\tn = len(arr)\n",
        "\n",
        "\t# Build a maxheap.\n",
        "\t# Since last parent will be at ((n//2)-1) we can start at that location.\n",
        "\tfor i in range(n // 2 - 1, -1, -1):\n",
        "\t\theapify(arr, n, i)\n",
        "\n",
        "\t# One by one extract elements\n",
        "\tfor i in range(n-1, 0, -1):\n",
        "\t\tarr[i], arr[0] = arr[0], arr[i] # swap\n",
        "\t\theapify(arr, i, 0)\n",
        "\n",
        "# Driver code to test above\n",
        "arr = [ 12, 11, 13, 5, 6, 7]\n",
        "heapSort(arr)\n",
        "n = len(arr)\n",
        "print (\"Sorted array is\")\n",
        "for i in range(n):\n",
        "\tprint (\"%d\" %arr[i])"
      ],
      "metadata": {
        "colab": {
          "base_uri": "https://localhost:8080/"
        },
        "id": "E9ery3XQcJOR",
        "outputId": "ccab8111-cbf9-4839-faf5-0471723e8c50"
      },
      "execution_count": 8,
      "outputs": [
        {
          "output_type": "stream",
          "name": "stdout",
          "text": [
            "Sorted array is\n",
            "5\n",
            "6\n",
            "7\n",
            "11\n",
            "12\n",
            "13\n"
          ]
        }
      ]
    },
    {
      "cell_type": "code",
      "source": [
        "# Python program for counting sort\n",
        "\n",
        "# The main function that sort the given string arr[] in\n",
        "# alphabetical order\n",
        "def countSort(arr):\n",
        "\n",
        "\t# The output character array that will have sorted arr\n",
        "\toutput = [0 for i in range(256)]\n",
        "\n",
        "\t# Create a count array to store count of individual\n",
        "\t# characters and initialize count array as 0\n",
        "\tcount = [0 for i in range(256)]\n",
        "\n",
        "\t# For storing the resulting answer since the\n",
        "\t# string is immutable\n",
        "\tans = [\"\" for _ in arr]\n",
        "\n",
        "\t# Store count of each character\n",
        "\tfor i in arr:\n",
        "\t\tcount[ord(i)] += 1\n",
        "\n",
        "\t# Change count[i] so that count[i] now contains actual\n",
        "\t# position of this character in output array\n",
        "\tfor i in range(256):\n",
        "\t\tcount[i] += count[i-1]\n",
        "\n",
        "\t# Build the output character array\n",
        "\tfor i in range(len(arr)):\n",
        "\t\toutput[count[ord(arr[i])]-1] = arr[i]\n",
        "\t\tcount[ord(arr[i])] -= 1\n",
        "\n",
        "\t# Copy the output array to arr, so that arr now\n",
        "\t# contains sorted characters\n",
        "\tfor i in range(len(arr)):\n",
        "\t\tans[i] = output[i]\n",
        "\treturn ans\n",
        "\n",
        "# Driver program to test above function\n",
        "arr = \"geeksforgeeks\"\n",
        "ans = countSort(arr)\n",
        "print (\"Sorted character array is %s\" %(\"\".join(ans)))"
      ],
      "metadata": {
        "colab": {
          "base_uri": "https://localhost:8080/"
        },
        "id": "UWHp1mGHchKF",
        "outputId": "ee546646-6199-4393-a67c-382a23199470"
      },
      "execution_count": 9,
      "outputs": [
        {
          "output_type": "stream",
          "name": "stdout",
          "text": [
            "Sorted character array is eeeefggkkorss\n"
          ]
        }
      ]
    },
    {
      "cell_type": "code",
      "source": [
        "# Shell sort in python\n",
        "\n",
        "\n",
        "def shellSort(array, n):\n",
        "\n",
        "    # Rearrange elements at each n/2, n/4, n/8, ... intervals\n",
        "    interval = n // 2\n",
        "    while interval > 0:\n",
        "        for i in range(interval, n):\n",
        "            temp = array[i]\n",
        "            j = i\n",
        "            while j >= interval and array[j - interval] > temp:\n",
        "                array[j] = array[j - interval]\n",
        "                j -= interval\n",
        "\n",
        "            array[j] = temp\n",
        "        interval //= 2\n",
        "\n",
        "\n",
        "data = [9, 8, 3, 7, 5, 6, 4, 1]\n",
        "size = len(data)\n",
        "shellSort(data, size)\n",
        "print('Sorted Array in Ascending Order:')\n",
        "print(data)"
      ],
      "metadata": {
        "colab": {
          "base_uri": "https://localhost:8080/"
        },
        "id": "hOxRRberctY7",
        "outputId": "e8e43b16-0b02-46f6-d500-750721431a25"
      },
      "execution_count": 10,
      "outputs": [
        {
          "output_type": "stream",
          "name": "stdout",
          "text": [
            "Sorted Array in Ascending Order:\n",
            "[1, 3, 4, 5, 6, 7, 8, 9]\n"
          ]
        }
      ]
    },
    {
      "cell_type": "code",
      "source": [
        ""
      ],
      "metadata": {
        "id": "p4MXJnNUdaYo"
      },
      "execution_count": null,
      "outputs": []
    }
  ]
}