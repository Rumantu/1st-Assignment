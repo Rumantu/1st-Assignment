{
  "nbformat": 4,
  "nbformat_minor": 0,
  "metadata": {
    "colab": {
      "name": "Python assignment 12 solution.ipynb",
      "provenance": [],
      "authorship_tag": "ABX9TyPkxD3oBwHNEGRA4HF2nom8",
      "include_colab_link": true
    },
    "kernelspec": {
      "name": "python3",
      "display_name": "Python 3"
    },
    "language_info": {
      "name": "python"
    }
  },
  "cells": [
    {
      "cell_type": "markdown",
      "metadata": {
        "id": "view-in-github",
        "colab_type": "text"
      },
      "source": [
        "<a href=\"https://colab.research.google.com/github/Rumantu/1st-Assignment/blob/main/Python_assignment_12_solution.ipynb\" target=\"_parent\"><img src=\"https://colab.research.google.com/assets/colab-badge.svg\" alt=\"Open In Colab\"/></a>"
      ]
    },
    {
      "cell_type": "code",
      "execution_count": 1,
      "metadata": {
        "colab": {
          "base_uri": "https://localhost:8080/"
        },
        "id": "xP2Ebx4zw_VL",
        "outputId": "e461720f-1948-44ce-86f3-d4a78e29f8f3"
      },
      "outputs": [
        {
          "output_type": "stream",
          "name": "stdout",
          "text": [
            "{'akash': [10], 'gaurav': [12], 'anand': [14], 'suraj': [20], 'akhil': [25], 'ashish': [30]}\n"
          ]
        }
      ],
      "source": [
        "# Python code to convert into dictionary\n",
        "\n",
        "def Convert(tup, di):\n",
        "\tfor a, b in tup:\n",
        "\t\tdi.setdefault(a, []).append(b)\n",
        "\treturn di\n",
        "\t\n",
        "# Driver Code\t\n",
        "tups = [(\"akash\", 10), (\"gaurav\", 12), (\"anand\", 14),\n",
        "\t(\"suraj\", 20), (\"akhil\", 25), (\"ashish\", 30)]\n",
        "dictionary = {}\n",
        "print (Convert(tups, dictionary))\n"
      ]
    },
    {
      "cell_type": "code",
      "source": [
        "# Python code to find if we can make first string\n",
        "# from second by deleting some characters from\n",
        "# second and rearranging remaining characters.\n",
        "from collections import Counter\n",
        "\n",
        "def makeString(str1,str2):\n",
        "\n",
        "\t# convert both strings into dictionaries\n",
        "\t# output will be like str1=\"aabbcc\",\n",
        "\t# dict1={'a':2,'b':2,'c':2}\n",
        "\t# str2 = 'abbbcc', dict2={'a':1,'b':3,'c':2}\n",
        "\tdict1 = Counter(str1)\n",
        "\tdict2 = Counter(str2)\n",
        "\n",
        "\t# take intersection of two dictionries\n",
        "\t# output will be result = {'a':1,'b':2,'c':2}\n",
        "\tresult = dict1 & dict2\n",
        "\n",
        "\t# compare resultant dictionary with first\n",
        "\t# dictionary comparison first compares keys\n",
        "\t# and then compares their corresponding values\n",
        "\treturn result == dict1\n",
        "\n",
        "# Driver program\n",
        "if __name__ == \"__main__\":\n",
        "\tstr1 = 'ABHISHEKsinGH'\n",
        "\tstr2 = 'gfhfBHkooIHnfndSHEKsiAnG'\n",
        "\tif (makeString(str1,str2)==True):\n",
        "\t\tprint(\"Possible\")\n",
        "\telse:\n",
        "\t\tprint(\"Not Possible\")\n"
      ],
      "metadata": {
        "colab": {
          "base_uri": "https://localhost:8080/"
        },
        "id": "q6_2_ufDxLWb",
        "outputId": "9e097925-1227-4872-9bdb-a1cafb4d1357"
      },
      "execution_count": 2,
      "outputs": [
        {
          "output_type": "stream",
          "name": "stdout",
          "text": [
            "Possible\n"
          ]
        }
      ]
    },
    {
      "cell_type": "code",
      "source": [
        "# Function to Check if frequency of all characters\n",
        "# can become same by one removal\n",
        "from collections import Counter\n",
        "\n",
        "def allSame(input):\n",
        "\t\n",
        "\t# calculate frequency of each character\n",
        "\t# and convert string into dictionary\n",
        "\tdict=Counter(input)\n",
        "\n",
        "\t# now get list of all values and push it\n",
        "\t# in set\n",
        "\tsame = list(set(dict.values()))\n",
        "\n",
        "\tif len(same)>2:\n",
        "\t\tprint('No')\n",
        "\telif len (same)==2 and same[1]-same[0]>1:\n",
        "\t\tprint('No')\n",
        "\telse:\n",
        "\t\tprint('Yes')\n",
        "\n",
        "\t\n",
        "\t# now check if frequency of all characters\n",
        "\t# can become same\n",
        "\t\n",
        "# Driver program\n",
        "if __name__ == \"__main__\":\n",
        "\tinput = 'xxxyyzzt'\n",
        "\tallSame(input)\n"
      ],
      "metadata": {
        "colab": {
          "base_uri": "https://localhost:8080/"
        },
        "id": "kResEXuYxT1l",
        "outputId": "100232b2-7a86-4b98-c4fe-06aa5eef1b17"
      },
      "execution_count": 3,
      "outputs": [
        {
          "output_type": "stream",
          "name": "stdout",
          "text": [
            "No\n"
          ]
        }
      ]
    },
    {
      "cell_type": "code",
      "source": [
        "# Python program to find ordered words\n",
        "import requests\n",
        "\n",
        "# Scrapes the words from the URL below and stores\n",
        "# them in a list\n",
        "def getWords():\n",
        "\n",
        "\t# contains about 2500 words\n",
        "\turl = \"http://www.puzzlers.org/pub/wordlists/unixdict.txt\"\n",
        "\tfetchData = requests.get(url)\n",
        "\n",
        "\t# extracts the content of the webpage\n",
        "\twordList = fetchData.content\n",
        "\n",
        "\t# decodes the UTF-8 encoded text and splits the\n",
        "\t# string to turn it into a list of words\n",
        "\twordList = wordList.decode(\"utf-8\").split()\n",
        "\n",
        "\treturn wordList\n",
        "\n",
        "\n",
        "# function to determine whether a word is ordered or not\n",
        "def isOrdered():\n",
        "\n",
        "\t# fetching the wordList\n",
        "\tcollection = getWords()\n",
        "\n",
        "\t# since the first few of the elements of the\n",
        "\t# dictionary are numbers, getting rid of those\n",
        "\t# numbers by slicing off the first 17 elements\n",
        "\tcollection = collection[16:]\n",
        "\tword = ''\n",
        "\n",
        "\tfor word in collection:\n",
        "\t\tresult = 'Word is ordered'\n",
        "\t\ti = 0\n",
        "\t\tl = len(word) - 1\n",
        "\n",
        "\t\tif (len(word) < 3): # skips the 1 and 2 lettered strings\n",
        "\t\t\tcontinue\n",
        "\n",
        "\t\t# traverses through all characters of the word in pairs\n",
        "\t\twhile i < l:\t\t\n",
        "\t\t\tif (ord(word[i]) > ord(word[i+1])):\n",
        "\t\t\t\tresult = 'Word is not ordered'\n",
        "\t\t\t\tbreak\n",
        "\t\t\telse:\n",
        "\t\t\t\ti += 1\n",
        "\n",
        "\t\t# only printing the ordered words\n",
        "\t\tif (result == 'Word is ordered'):\n",
        "\t\t\tprint(word,': ',result)\n",
        "\n",
        "\n",
        "# execute isOrdered() function\n",
        "if __name__ == '__main__':\n",
        "\tisOrdered()\n"
      ],
      "metadata": {
        "id": "uG5oOURlxgwv"
      },
      "execution_count": 4,
      "outputs": []
    },
    {
      "cell_type": "code",
      "source": [
        "# Function to print words which can be created\n",
        "# using given set of characters\n",
        "\n",
        "\n",
        "\n",
        "def charCount(word):\n",
        "\tdict = {}\n",
        "\tfor i in word:\n",
        "\t\tdict[i] = dict.get(i, 0) + 1\n",
        "\treturn dict\n",
        "\n",
        "\n",
        "def possible_words(lwords, charSet):\n",
        "\tfor word in lwords:\n",
        "\t\tflag = 1\n",
        "\t\tchars = charCount(word)\n",
        "\t\tfor key in chars:\n",
        "\t\t\tif key not in charSet:\n",
        "\t\t\t\tflag = 0\n",
        "\t\t\telse:\n",
        "\t\t\t\tif charSet.count(key) != chars[key]:\n",
        "\t\t\t\t\tflag = 0\n",
        "\t\tif flag == 1:\n",
        "\t\t\tprint(word)\n",
        "\n",
        "if __name__ == \"__main__\":\n",
        "\tinput = ['goo', 'bat', 'me', 'eat', 'goal', 'boy', 'run']\n",
        "\tcharSet = ['e', 'o', 'b', 'a', 'm', 'g', 'l']\n",
        "\tpossible_words(input, charSet)\n"
      ],
      "metadata": {
        "colab": {
          "base_uri": "https://localhost:8080/"
        },
        "id": "BMNKKZ6Jxpqy",
        "outputId": "c27c2a1e-5dc1-436a-fc40-29b47f20c553"
      },
      "execution_count": 5,
      "outputs": [
        {
          "output_type": "stream",
          "name": "stdout",
          "text": [
            "me\n",
            "goal\n"
          ]
        }
      ]
    },
    {
      "cell_type": "code",
      "source": [
        "# Python3 code to demonstrate working of\n",
        "# Value's Key association\n",
        "# Using loop + items()\n",
        "\n",
        "# initializing dictionary\n",
        "test_dict = {'gfg' : [4, 5], 'is' : [8], 'best' : [10, 12]}\n",
        "\n",
        "# printing original dictionary\n",
        "print(\"The original dictionary : \" + str(test_dict))\n",
        "\n",
        "# initializing value list\n",
        "val_list = [5, 10]\n",
        "\n",
        "# Value's Key association\n",
        "# Using loop + items()\n",
        "temp = {}\n",
        "for key, vals in test_dict.items():\n",
        "\tfor val in vals:\n",
        "\t\ttemp[val] = key\n",
        "res = [temp[ele] for ele in val_list]\n",
        "\n",
        "# printing result\n",
        "print(\"The keys mapped to \" + str(val_list) + \" are : \" + str(res))\n"
      ],
      "metadata": {
        "colab": {
          "base_uri": "https://localhost:8080/"
        },
        "id": "zWizHCmCxxxh",
        "outputId": "bc7e38d6-4723-4050-9fbc-e5376ad3489f"
      },
      "execution_count": 6,
      "outputs": [
        {
          "output_type": "stream",
          "name": "stdout",
          "text": [
            "The original dictionary : {'gfg': [4, 5], 'is': [8], 'best': [10, 12]}\n",
            "The keys mapped to [5, 10] are : ['gfg', 'best']\n"
          ]
        }
      ]
    },
    {
      "cell_type": "code",
      "source": [
        "import sys\n",
        "\n",
        "# sample Tuples\n",
        "Tuple1 = (\"A\", 1, \"B\", 2, \"C\", 3)\n",
        "Tuple2 = (\"Geek1\", \"Raju\", \"Geek2\", \"Nikhil\", \"Geek3\", \"Deepanshu\")\n",
        "Tuple3 = ((1, \"Lion\"), ( 2, \"Tiger\"), (3, \"Fox\"), (4, \"Wolf\"))\n",
        "\n",
        "# print the sizes of sample Tuples\n",
        "print(\"Size of Tuple1: \" + str(sys.getsizeof(Tuple1)) + \"bytes\")\n",
        "print(\"Size of Tuple2: \" + str(sys.getsizeof(Tuple2)) + \"bytes\")\n",
        "print(\"Size of Tuple3: \" + str(sys.getsizeof(Tuple3)) + \"bytes\")\n"
      ],
      "metadata": {
        "colab": {
          "base_uri": "https://localhost:8080/"
        },
        "id": "97ZQAdEmyBis",
        "outputId": "0e00ce28-e8ef-401a-f5c2-9a9262414f45"
      },
      "execution_count": 7,
      "outputs": [
        {
          "output_type": "stream",
          "name": "stdout",
          "text": [
            "Size of Tuple1: 104bytes\n",
            "Size of Tuple2: 104bytes\n",
            "Size of Tuple3: 88bytes\n"
          ]
        }
      ]
    },
    {
      "cell_type": "code",
      "source": [
        "# Python3 code to demonstrate working of\n",
        "# Maximum and Minimum K elements in Tuple\n",
        "# Using sorted() + loop\n",
        "\n",
        "# initializing tuple\n",
        "test_tup = (5, 20, 3, 7, 6, 8)\n",
        "\n",
        "# printing original tuple\n",
        "print(\"The original tuple is : \" + str(test_tup))\n",
        "\n",
        "# initializing K\n",
        "K = 2\n",
        "\n",
        "# Maximum and Minimum K elements in Tuple\n",
        "# Using sorted() + loop\n",
        "res = []\n",
        "test_tup = list(sorted(test_tup))\n",
        "\n",
        "for idx, val in enumerate(test_tup):\n",
        "\tif idx < K or idx >= len(test_tup) - K:\n",
        "\t\tres.append(val)\n",
        "res = tuple(res)\n",
        "\n",
        "# printing result\n",
        "print(\"The extracted values : \" + str(res))\n"
      ],
      "metadata": {
        "colab": {
          "base_uri": "https://localhost:8080/"
        },
        "id": "yWQynyO9yJp7",
        "outputId": "a1794409-db7e-49f5-cd8f-ee745863b582"
      },
      "execution_count": 8,
      "outputs": [
        {
          "output_type": "stream",
          "name": "stdout",
          "text": [
            "The original tuple is : (5, 20, 3, 7, 6, 8)\n",
            "The extracted values : (3, 5, 8, 20)\n"
          ]
        }
      ]
    },
    {
      "cell_type": "code",
      "source": [
        "# Python program to create a list of tuples\n",
        "# from given list having number and\n",
        "# its cube in each tuple\n",
        "\n",
        "# creating a list\n",
        "list1 = [1, 2, 5, 6]\n",
        "\n",
        "# using list comprehension to iterate each\n",
        "# values in list and create a tuple as specified\n",
        "res = [(val, pow(val, 3)) for val in list1]\n",
        "\n",
        "# print the result\n",
        "print(res)\n"
      ],
      "metadata": {
        "colab": {
          "base_uri": "https://localhost:8080/"
        },
        "id": "Yr2b9ay_yRzd",
        "outputId": "8c1cc2eb-a176-4777-dda8-b361ff2f0689"
      },
      "execution_count": 9,
      "outputs": [
        {
          "output_type": "stream",
          "name": "stdout",
          "text": [
            "[(1, 1), (2, 8), (5, 125), (6, 216)]\n"
          ]
        }
      ]
    },
    {
      "cell_type": "code",
      "source": [
        "# Python3 code to demonstrate working of\n",
        "# Adding Tuple to List and vice - versa\n",
        "# Using += operator (list + tuple)\n",
        "\n",
        "# initializing list\n",
        "test_list = [5, 6, 7]\n",
        "\n",
        "# printing original list\n",
        "print(\"The original list is : \" + str(test_list))\n",
        "\n",
        "# initializing tuple\n",
        "test_tup = (9, 10)\n",
        "\n",
        "# Adding Tuple to List and vice - versa\n",
        "# Using += operator (list + tuple)\n",
        "test_list += test_tup\n",
        "\n",
        "# printing result\n",
        "print(\"The container after addition : \" + str(test_list))\n"
      ],
      "metadata": {
        "colab": {
          "base_uri": "https://localhost:8080/"
        },
        "id": "kiO1tzhaybjf",
        "outputId": "b9bbbb44-ae6b-4794-c3e1-66ed671cfb2e"
      },
      "execution_count": 10,
      "outputs": [
        {
          "output_type": "stream",
          "name": "stdout",
          "text": [
            "The original list is : [5, 6, 7]\n",
            "The container after addition : [5, 6, 7, 9, 10]\n"
          ]
        }
      ]
    },
    {
      "cell_type": "code",
      "source": [
        "# Python3 code to demonstrate working of\n",
        "# Closest Pair to Kth index element in Tuple\n",
        "# Using enumerate() + loop\n",
        "\n",
        "# initializing list\n",
        "test_list = [(3, 4), (78, 76), (2, 3), (9, 8), (19, 23)]\n",
        "\n",
        "# printing original list\n",
        "print(\"The original list is : \" + str(test_list))\n",
        "\n",
        "# initializing tuple\n",
        "tup = (17, 23)\n",
        "\n",
        "# initializing K\n",
        "K = 1\n",
        "\n",
        "# Closest Pair to Kth index element in Tuple\n",
        "# Using enumerate() + loop\n",
        "min_dif, res = 999999999, None\n",
        "for idx, val in enumerate(test_list):\n",
        "\tdif = abs(tup[K - 1] - val[K - 1])\n",
        "\tif dif < min_dif:\n",
        "\t\tmin_dif, res = dif, idx\n",
        "\n",
        "# printing result\n",
        "print(\"The nearest tuple to Kth index element is : \" + str(test_list[res]))\n"
      ],
      "metadata": {
        "colab": {
          "base_uri": "https://localhost:8080/"
        },
        "id": "_WCDSD60yp_0",
        "outputId": "92e614aa-54fc-4a66-e323-2a63f94b164b"
      },
      "execution_count": 11,
      "outputs": [
        {
          "output_type": "stream",
          "name": "stdout",
          "text": [
            "The original list is : [(3, 4), (78, 76), (2, 3), (9, 8), (19, 23)]\n",
            "The nearest tuple to Kth index element is : (19, 23)\n"
          ]
        }
      ]
    }
  ]
}