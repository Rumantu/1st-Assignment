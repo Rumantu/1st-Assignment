{
  "nbformat": 4,
  "nbformat_minor": 0,
  "metadata": {
    "colab": {
      "name": "Python assignment 11 solution.ipynb",
      "provenance": [],
      "authorship_tag": "ABX9TyM2lMBv8sp6+dhY9x8CCyPl",
      "include_colab_link": true
    },
    "kernelspec": {
      "name": "python3",
      "display_name": "Python 3"
    },
    "language_info": {
      "name": "python"
    }
  },
  "cells": [
    {
      "cell_type": "markdown",
      "metadata": {
        "id": "view-in-github",
        "colab_type": "text"
      },
      "source": [
        "<a href=\"https://colab.research.google.com/github/Rumantu/1st-Assignment/blob/main/Python_assignment_11_solution.ipynb\" target=\"_parent\"><img src=\"https://colab.research.google.com/assets/colab-badge.svg\" alt=\"Open In Colab\"/></a>"
      ]
    },
    {
      "cell_type": "code",
      "execution_count": 1,
      "metadata": {
        "colab": {
          "base_uri": "https://localhost:8080/"
        },
        "id": "tZv3WdV_rcfN",
        "outputId": "234a1dec-e8fa-45d3-eff4-1c2744039ca6"
      },
      "outputs": [
        {
          "output_type": "stream",
          "name": "stdout",
          "text": [
            "The original dictionary is : {'gfg': [7, 6, 3], 'is': [2, 10, 3], 'best': [19, 4]}\n",
            "The sorted dictionary : {'best': [4, 19], 'gfg': [3, 6, 7], 'is': [2, 3, 10]}\n"
          ]
        }
      ],
      "source": [
        "# Python3 code to demonstrate working of\n",
        "# Sort Dictionary key and values List\n",
        "# Using loop + dictionary comprehension\n",
        "\n",
        "# initializing dictionary\n",
        "test_dict = {'gfg': [7, 6, 3],\n",
        "\t\t\t'is': [2, 10, 3],\n",
        "\t\t\t'best': [19, 4]}\n",
        "\n",
        "# printing original dictionary\n",
        "print(\"The original dictionary is : \" + str(test_dict))\n",
        "\n",
        "# Sort Dictionary key and values List\n",
        "# Using loop + dictionary comprehension\n",
        "res = dict()\n",
        "for key in sorted(test_dict):\n",
        "\tres[key] = sorted(test_dict[key])\n",
        "\n",
        "# printing result\n",
        "print(\"The sorted dictionary : \" + str(res))\n"
      ]
    },
    {
      "cell_type": "code",
      "source": [
        "# Python code to demonstrate Dictionary and\n",
        "# missing value error\n",
        "\n",
        "# initializing Dictionary\n",
        "d = { 'a' : 1 , 'b' : 2 }\n",
        "\n",
        "# trying to output value of absent key\n",
        "print (\"The value associated with 'c' is : \")\n",
        "print (d['c'])\n"
      ],
      "metadata": {
        "colab": {
          "base_uri": "https://localhost:8080/",
          "height": 217
        },
        "id": "CvMM25g3rz9A",
        "outputId": "a360e84d-2c49-4e16-e8de-989a35c154b0"
      },
      "execution_count": 2,
      "outputs": [
        {
          "output_type": "stream",
          "name": "stdout",
          "text": [
            "The value associated with 'c' is : \n"
          ]
        },
        {
          "output_type": "error",
          "ename": "KeyError",
          "evalue": "ignored",
          "traceback": [
            "\u001b[0;31m---------------------------------------------------------------------------\u001b[0m",
            "\u001b[0;31mKeyError\u001b[0m                                  Traceback (most recent call last)",
            "\u001b[0;32m<ipython-input-2-7fa48c325f94>\u001b[0m in \u001b[0;36m<module>\u001b[0;34m()\u001b[0m\n\u001b[1;32m      7\u001b[0m \u001b[0;31m# trying to output value of absent key\u001b[0m\u001b[0;34m\u001b[0m\u001b[0;34m\u001b[0m\u001b[0;34m\u001b[0m\u001b[0m\n\u001b[1;32m      8\u001b[0m \u001b[0mprint\u001b[0m \u001b[0;34m(\u001b[0m\u001b[0;34m\"The value associated with 'c' is : \"\u001b[0m\u001b[0;34m)\u001b[0m\u001b[0;34m\u001b[0m\u001b[0;34m\u001b[0m\u001b[0m\n\u001b[0;32m----> 9\u001b[0;31m \u001b[0mprint\u001b[0m \u001b[0;34m(\u001b[0m\u001b[0md\u001b[0m\u001b[0;34m[\u001b[0m\u001b[0;34m'c'\u001b[0m\u001b[0;34m]\u001b[0m\u001b[0;34m)\u001b[0m\u001b[0;34m\u001b[0m\u001b[0;34m\u001b[0m\u001b[0m\n\u001b[0m",
            "\u001b[0;31mKeyError\u001b[0m: 'c'"
          ]
        }
      ]
    },
    {
      "cell_type": "code",
      "source": [
        "# Python code to demonstrate a dictionary\n",
        "# with multiple inputs in a key.\n",
        "import random as rn\n",
        "\n",
        "# creating an empty dictionary\n",
        "dict = {}\n",
        "\n",
        "# Insert first triplet in dictionary\n",
        "x, y, z = 10, 20, 30\n",
        "dict[x, y, z] = x + y - z;\n",
        "\n",
        "# Insert second triplet in dictionary\n",
        "x, y, z = 5, 2, 4\n",
        "dict[x, y, z] = x + y - z;\n",
        "\n",
        "# print the dictionary\n",
        "print(dict)\n"
      ],
      "metadata": {
        "colab": {
          "base_uri": "https://localhost:8080/"
        },
        "id": "t4KotJlostmw",
        "outputId": "67366590-fefd-4b93-8655-befbbb12da29"
      },
      "execution_count": 3,
      "outputs": [
        {
          "output_type": "stream",
          "name": "stdout",
          "text": [
            "{(10, 20, 30): 0, (5, 2, 4): 3}\n"
          ]
        }
      ]
    },
    {
      "cell_type": "code",
      "source": [
        "# Function to return all anagrams together\n",
        "def allAnagram(input):\n",
        "\t\n",
        "\t# empty dictionary which holds subsets\n",
        "\t# of all anagrams together\n",
        "\tdict = {}\n",
        "\n",
        "\t# traverse list of strings\n",
        "\tfor strVal in input:\n",
        "\t\t\n",
        "\t\t# sorted(iterable) method accepts any\n",
        "\t\t# iterable and returns list of items\n",
        "\t\t# in ascending order\n",
        "\t\tkey = ''.join(sorted(strVal))\n",
        "\t\t\n",
        "\t\t# now check if key exist in dictionary\n",
        "\t\t# or not. If yes then simply append the\n",
        "\t\t# strVal into the list of it's corresponding\n",
        "\t\t# key. If not then map empty list onto\n",
        "\t\t# key and then start appending values\n",
        "\t\tif key in dict.keys():\n",
        "\t\t\tdict[key].append(strVal)\n",
        "\t\telse:\n",
        "\t\t\tdict[key] = []\n",
        "\t\t\tdict[key].append(strVal)\n",
        "\n",
        "\t# traverse dictionary and concatenate values\n",
        "\t# of keys together\n",
        "\toutput = \"\"\n",
        "\tfor key,value in dict.items():\n",
        "\t\toutput = output + ' '.join(value) + ' '\n",
        "\n",
        "\treturn output\n",
        "\n",
        "# Driver function\n",
        "if __name__ == \"__main__\":\n",
        "\tinput=['cat', 'dog', 'tac', 'god', 'act']\n",
        "\tprint (allAnagram(input))\n"
      ],
      "metadata": {
        "colab": {
          "base_uri": "https://localhost:8080/"
        },
        "id": "I0cZPajVswsp",
        "outputId": "5c7dc22c-ac6c-4bff-dd95-3c3924c55c88"
      },
      "execution_count": 4,
      "outputs": [
        {
          "output_type": "stream",
          "name": "stdout",
          "text": [
            "cat tac act dog god \n"
          ]
        }
      ]
    },
    {
      "cell_type": "code",
      "source": [
        "# Function to find k'th non repeating character\n",
        "# in string\n",
        "from collections import OrderedDict\n",
        "\n",
        "def kthRepeating(input,k):\n",
        "\n",
        "\t# OrderedDict returns a dictionary data\n",
        "\t\t# structure having characters of input\n",
        "\t# string as keys in the same order they\n",
        "\t\t# were inserted and 0 as their default value\n",
        "\tdict=OrderedDict.fromkeys(input,0)\n",
        "\n",
        "\t# now traverse input string to calculate\n",
        "\t\t# frequency of each character\n",
        "\tfor ch in input:\n",
        "\t\tdict[ch]+=1\n",
        "\n",
        "\t# now extract list of all keys whose value\n",
        "\t\t# is 1 from dict Ordered Dictionary\n",
        "\tnonRepeatDict = [key for (key,value) in dict.items() if value==1]\n",
        "\t\n",
        "\t# now return (k-1)th character from above list\n",
        "\tif len(nonRepeatDict) < k:\n",
        "\t\treturn 'Less than k non-repeating characters in input.'\n",
        "\telse:\n",
        "\t\treturn nonRepeatDict[k-1]\n",
        "\n",
        "# Driver function\n",
        "if __name__ == \"__main__\":\n",
        "\tinput = \"geeksforgeeks\"\n",
        "\tk = 3\n",
        "\tprint (kthRepeating(input, k))\n"
      ],
      "metadata": {
        "colab": {
          "base_uri": "https://localhost:8080/"
        },
        "id": "1VY60Zj5tOsi",
        "outputId": "d1c63877-48d2-4a9c-8942-cea091245f8e"
      },
      "execution_count": 5,
      "outputs": [
        {
          "output_type": "stream",
          "name": "stdout",
          "text": [
            "r\n"
          ]
        }
      ]
    },
    {
      "cell_type": "code",
      "source": [
        "# function to Check if binary representations\n",
        "# of two numbers are anagram\n",
        "from collections import Counter\n",
        "\n",
        "def checkAnagram(num1,num2):\n",
        "\n",
        "\t# convert numbers into in binary\n",
        "\t# and remove first two characters of\n",
        "\t# output string because bin function\n",
        "\t# '0b' as prefix in output string\n",
        "\tbin1 = bin(num1)[2:]\n",
        "\tbin2 = bin(num2)[2:]\n",
        "\n",
        "\t# append zeros in shorter string\n",
        "\tzeros = abs(len(bin1)-len(bin2))\n",
        "\tif (len(bin1)>len(bin2)):\n",
        "\t\tbin2 = zeros * '0' + bin2\n",
        "\telse:\n",
        "\t\tbin1 = zeros * '0' + bin1\n",
        "\n",
        "\t# convert binary representations\n",
        "\t# into dictionary\n",
        "\tdict1 = Counter(bin1)\n",
        "\tdict2 = Counter(bin2)\n",
        "\n",
        "\t# compare both dictionaries\n",
        "\tif dict1 == dict2:\n",
        "\t\tprint('Yes')\n",
        "\telse:\n",
        "\t\tprint('No')\n",
        "\n",
        "# Driver program\n",
        "if __name__ == \"__main__\":\n",
        "\tnum1 = 8\n",
        "\tnum2 = 4\n",
        "\tcheckAnagram(num1,num2)\n",
        "\t\n"
      ],
      "metadata": {
        "colab": {
          "base_uri": "https://localhost:8080/"
        },
        "id": "UU8OFtDpte2S",
        "outputId": "087fea5a-62eb-49fc-a24b-75b39d4248e6"
      },
      "execution_count": 6,
      "outputs": [
        {
          "output_type": "stream",
          "name": "stdout",
          "text": [
            "Yes\n"
          ]
        }
      ]
    },
    {
      "cell_type": "code",
      "source": [
        "# Function to find the size of largest subset\n",
        "# of anagram words\n",
        "from collections import Counter\n",
        "\n",
        "def maxAnagramSize(input):\n",
        "\n",
        "\t# split input string separated by space\n",
        "\tinput = input.split(\" \")\n",
        "\n",
        "\t# sort each string in given list of strings\n",
        "\tfor i in range(0,len(input)):\n",
        "\t\tinput[i]=''.join(sorted(input[i]))\n",
        "\n",
        "\t# now create dictionary using counter method\n",
        "\t# which will have strings as key and their\n",
        "\t# frequencies as value\n",
        "\tfreqDict = Counter(input)\n",
        "\n",
        "\t# get maximum value of frequency\n",
        "\tprint (max(freqDict.values()))\n",
        "\n",
        "# Driver program\n",
        "if __name__ == \"__main__\":\n",
        "\tinput = 'ant magenta magnate tan gnamate'\n",
        "\tmaxAnagramSize(input)\n"
      ],
      "metadata": {
        "colab": {
          "base_uri": "https://localhost:8080/"
        },
        "id": "tX4tu2ootp3l",
        "outputId": "beec6079-d62d-41ef-cf1e-240321fe01bf"
      },
      "execution_count": 7,
      "outputs": [
        {
          "output_type": "stream",
          "name": "stdout",
          "text": [
            "3\n"
          ]
        }
      ]
    },
    {
      "cell_type": "code",
      "source": [
        "from collections import Counter\n",
        "\n",
        "def remov_duplicates(input):\n",
        "\n",
        "\t# split input string separated by space\n",
        "\tinput = input.split(\" \")\n",
        "\n",
        "\t# now create dictionary using counter method\n",
        "\t# which will have strings as key and their\n",
        "\t# frequencies as value\n",
        "\tUniqW = Counter(input)\n",
        "\n",
        "\t# joins two adjacent elements in iterable way\n",
        "\ts = \" \".join(UniqW.keys())\n",
        "\tprint (s)\n",
        "\n",
        "# Driver program\n",
        "if __name__ == \"__main__\":\n",
        "\tinput = 'Python is great and Java is also great'\n",
        "\tremov_duplicates(input)\n"
      ],
      "metadata": {
        "colab": {
          "base_uri": "https://localhost:8080/"
        },
        "id": "eE8b8sJ2t4-n",
        "outputId": "b2d9b016-a738-43ca-9085-6d5564fcc685"
      },
      "execution_count": 8,
      "outputs": [
        {
          "output_type": "stream",
          "name": "stdout",
          "text": [
            "Python is great and Java also\n"
          ]
        }
      ]
    },
    {
      "cell_type": "code",
      "source": [
        "# python code to find the reverse\n",
        "# alphabetical order from a given\n",
        "# position\n",
        "\n",
        "# Function which take the given string and the\n",
        "# position from which the reversing shall be\n",
        "# done and returns the modified string\n",
        "def compute(st, n):\n",
        "\t\n",
        "\t# Creating a string having reversed\n",
        "\t# alphabetical order\n",
        "\treverseAlphabet = \"zyxwvutsrqponmlkjihgfedcba\"\n",
        "\tl = len(st)\n",
        "\t\n",
        "\t# The string up to the point specified in the\n",
        "\t# question, the string remains unchanged and\n",
        "\t# from the point up to the length of the\n",
        "\t# string, we reverse the alphabetical order\n",
        "\tanswer = \"\"\n",
        "\tfor i in range(0, n):\n",
        "\t\tanswer = answer + st[i];\n",
        "\t\t\t\n",
        "\tfor i in range(n, l):\n",
        "\t\tanswer = (answer +\n",
        "\t\treverseAlphabet[ord(st[i]) - ord('a')]);\n",
        "\t\t\n",
        "\treturn answer;\n",
        "\n",
        "# Driver function\n",
        "st = \"pneumonia\"\n",
        "n = 4\n",
        "answer = compute(st, n - 1)\n",
        "print(answer)\n"
      ],
      "metadata": {
        "colab": {
          "base_uri": "https://localhost:8080/"
        },
        "id": "nsZl9xAqvDBC",
        "outputId": "0c3de80c-fa59-42af-b9f9-84f67b3acb51"
      },
      "execution_count": 9,
      "outputs": [
        {
          "output_type": "stream",
          "name": "stdout",
          "text": [
            "pnefnlmrz\n"
          ]
        }
      ]
    },
    {
      "cell_type": "code",
      "source": [
        "# Python program to count the frequency of\n",
        "# elements in a list using a dictionary\n",
        "\n",
        "def CountFrequency(my_list):\n",
        "\n",
        "\t# Creating an empty dictionary\n",
        "\tfreq = {}\n",
        "\tfor item in my_list:\n",
        "\t\tif (item in freq):\n",
        "\t\t\tfreq[item] += 1\n",
        "\t\telse:\n",
        "\t\t\tfreq[item] = 1\n",
        "\n",
        "\tfor key, value in freq.items():\n",
        "\t\tprint (\"% d : % d\"%(key, value))\n",
        "\n",
        "# Driver function\n",
        "if __name__ == \"__main__\":\n",
        "\tmy_list =[1, 1, 1, 5, 5, 3, 1, 3, 3, 1, 4, 4, 4, 2, 2, 2, 2]\n",
        "\n",
        "\tCountFrequency(my_list)\n"
      ],
      "metadata": {
        "colab": {
          "base_uri": "https://localhost:8080/"
        },
        "id": "3aXQ3oXpvzKz",
        "outputId": "7340c69d-d2ca-41e7-ffe7-762a4d63709c"
      },
      "execution_count": 10,
      "outputs": [
        {
          "output_type": "stream",
          "name": "stdout",
          "text": [
            " 1 :  5\n",
            " 5 :  2\n",
            " 3 :  3\n",
            " 4 :  3\n",
            " 2 :  4\n"
          ]
        }
      ]
    }
  ]
}