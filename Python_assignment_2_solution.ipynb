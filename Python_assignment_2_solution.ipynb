{
  "nbformat": 4,
  "nbformat_minor": 0,
  "metadata": {
    "colab": {
      "name": "Python assignment 2 solution.ipynb",
      "provenance": [],
      "collapsed_sections": [],
      "authorship_tag": "ABX9TyNHmVEVON5DoQfd6Ni+jeS1",
      "include_colab_link": true
    },
    "kernelspec": {
      "name": "python3",
      "display_name": "Python 3"
    },
    "language_info": {
      "name": "python"
    }
  },
  "cells": [
    {
      "cell_type": "markdown",
      "metadata": {
        "id": "view-in-github",
        "colab_type": "text"
      },
      "source": [
        "<a href=\"https://colab.research.google.com/github/Rumantu/1st-Assignment/blob/main/Python_assignment_2_solution.ipynb\" target=\"_parent\"><img src=\"https://colab.research.google.com/assets/colab-badge.svg\" alt=\"Open In Colab\"/></a>"
      ]
    },
    {
      "cell_type": "code",
      "execution_count": 1,
      "metadata": {
        "colab": {
          "base_uri": "https://localhost:8080/"
        },
        "id": "EM1dHKLgUejc",
        "outputId": "ea7e6371-c909-4deb-ff26-1ece6f1283b4"
      },
      "outputs": [
        {
          "output_type": "stream",
          "name": "stdout",
          "text": [
            "34\n"
          ]
        }
      ],
      "source": [
        "def Fibonacci(n):\n",
        "    if n<= 0:\n",
        "        print(\"Incorrect input\")\n",
        "    # First Fibonacci number is 0\n",
        "    elif n == 1:\n",
        "        return 0\n",
        "    # Second Fibonacci number is 1\n",
        "    elif n == 2:\n",
        "        return 1\n",
        "    else:\n",
        "        return Fibonacci(n-1)+Fibonacci(n-2)\n",
        " \n",
        "# Driver Program\n",
        " \n",
        "print(Fibonacci(10))"
      ]
    },
    {
      "cell_type": "code",
      "source": [
        "n=int(input(\"Enter the number: \"))\n",
        "c=0\n",
        "a=1\n",
        "b=1\n",
        "if n==0 or n==1:\n",
        "    print(\"Yes\")\n",
        "else:\n",
        "    while c<n:\n",
        "        c=a+b\n",
        "        b=a\n",
        "        a=c\n",
        "    if c==n:\n",
        "        print(\"Yes\")\n",
        "    else:\n",
        "        print(\"No\")"
      ],
      "metadata": {
        "colab": {
          "base_uri": "https://localhost:8080/"
        },
        "id": "X_zlNVmKXSU_",
        "outputId": "81ebeaa8-f2c3-438d-80e8-8d19392b4d17"
      },
      "execution_count": 2,
      "outputs": [
        {
          "output_type": "stream",
          "name": "stdout",
          "text": [
            "Enter the number: 23\n",
            "No\n"
          ]
        }
      ]
    },
    {
      "cell_type": "code",
      "source": [
        "# find function\n",
        "def find(k, n):\n",
        "   f1 = 0\n",
        "   f2 = 1\n",
        "   i =2;\n",
        "   #fibonacci recursion\n",
        "   while i!=0:\n",
        "      f3 = f1 + f2;\n",
        "      f1 = f2;\n",
        "      f2 = f3;\n",
        "      if f2%k == 0:\n",
        "         return n*i\n",
        "      i+=1\n",
        "   return\n",
        "# multiple of which number\n",
        "n = 5;\n",
        "# number\n",
        "k = 4;\n",
        "print(\"Position of n\\'th multiple of k in\"\"Fibonacci Series is: \", find(k,n));"
      ],
      "metadata": {
        "colab": {
          "base_uri": "https://localhost:8080/"
        },
        "id": "dF4OLpLPZFTg",
        "outputId": "bd718fd9-4270-488a-e873-0979d45e4202"
      },
      "execution_count": 3,
      "outputs": [
        {
          "output_type": "stream",
          "name": "stdout",
          "text": [
            "Position of n'th multiple of k inFibonacci Series is:  30\n"
          ]
        }
      ]
    },
    {
      "cell_type": "code",
      "source": [
        "# Program to find the ASCII value of the given character\n",
        "\n",
        "c = 'p'\n",
        "print(\"The ASCII value of '\" + c + \"' is\", ord(c))\n"
      ],
      "metadata": {
        "colab": {
          "base_uri": "https://localhost:8080/"
        },
        "id": "pCBzvSIcaFJV",
        "outputId": "5a5a4d6c-a517-4fcf-8949-d329cee3f5de"
      },
      "execution_count": 4,
      "outputs": [
        {
          "output_type": "stream",
          "name": "stdout",
          "text": [
            "The ASCII value of 'p' is 112\n"
          ]
        }
      ]
    },
    {
      "cell_type": "code",
      "source": [
        "def squaresum(n) :\n",
        "\n",
        "\t# Iterate i from 1\n",
        "\t# and n finding\n",
        "\t# square of i and\n",
        "\t# add to sum.\n",
        "\tsum = 0\n",
        "\tfor i in range(1, n+1) :\n",
        "\t\tsum = sum + (i * i)\n",
        "\t\n",
        "\treturn sum\n",
        "\n",
        "# Driven Program\n",
        "n = 4\n",
        "print(squaresum(n))\n"
      ],
      "metadata": {
        "colab": {
          "base_uri": "https://localhost:8080/"
        },
        "id": "xwPAfq7Jard1",
        "outputId": "b472a4df-4aed-4254-ddd9-14840a3442fd"
      },
      "execution_count": 5,
      "outputs": [
        {
          "output_type": "stream",
          "name": "stdout",
          "text": [
            "30\n"
          ]
        }
      ]
    },
    {
      "cell_type": "code",
      "source": [
        "# Simple Python program to find sum of series\n",
        "# with cubes of first n natural numbers\n",
        "\n",
        "# Returns the sum of series\n",
        "def sumOfSeries(n):\n",
        "\tsum = 0\n",
        "\tfor i in range(1, n+1):\n",
        "\t\tsum +=i*i*i\n",
        "\t\t\n",
        "\treturn sum\n",
        "\n",
        "\n",
        "# Driver Function\n",
        "n = 5\n",
        "print(sumOfSeries(n))\n"
      ],
      "metadata": {
        "colab": {
          "base_uri": "https://localhost:8080/"
        },
        "id": "Drkta3zlbUjR",
        "outputId": "6ac93fd3-beba-4fe2-f17e-5e4a9195dd96"
      },
      "execution_count": 6,
      "outputs": [
        {
          "output_type": "stream",
          "name": "stdout",
          "text": [
            "225\n"
          ]
        }
      ]
    },
    {
      "cell_type": "code",
      "source": [
        "# Code to find sum of elements in given array\n",
        "def _sum(arr):\n",
        "\t\n",
        "\t# initialize a variable to store the sum while iterating through the array later\n",
        "\tsum=0\n",
        "\t\n",
        "\t# iterate through the array and add each element to the sum variable one at a time\n",
        "\tfor i in arr:\n",
        "\t\tsum = sum + i\n",
        "\t\t\n",
        "\treturn(sum)\n",
        "\n",
        "# driver function\n",
        "arr=[]\n",
        "# input values to list\n",
        "arr = [12, 13, 14, 15]\n",
        "\n",
        "# calculating length of array\n",
        "n = len(arr)\n",
        "\n",
        "ans = _sum(arr)\n",
        "\n",
        "# display sum\n",
        "print ('Sum of the array is ', ans)\n"
      ],
      "metadata": {
        "colab": {
          "base_uri": "https://localhost:8080/"
        },
        "id": "ySrnzA3ybpbo",
        "outputId": "b12dc750-d6e6-46f5-eaf8-056172bd11b3"
      },
      "execution_count": 7,
      "outputs": [
        {
          "output_type": "stream",
          "name": "stdout",
          "text": [
            "Sum of the array is  54\n"
          ]
        }
      ]
    },
    {
      "cell_type": "code",
      "source": [
        "\n",
        "# python function to find maximum in arr[] of size n\n",
        "def largest(arr,n):\n",
        "\n",
        "\t# Initialize maximum element\n",
        "\tmax = arr[0]\n",
        "\n",
        "\t# Traverse array elements from second and compare every element with current max\n",
        "\tfor i in range(1, n):\n",
        "\t\tif arr[i] > max:\n",
        "\t\t\tmax = arr[i]\n",
        "\treturn max\n",
        "\n",
        "# Driver Code\n",
        "arr = [10, 324, 45, 90, 9808]\n",
        "n = len(arr)\n",
        "Ans = largest(arr,n)\n",
        "print (\"Largest in given array is\",Ans)\n"
      ],
      "metadata": {
        "colab": {
          "base_uri": "https://localhost:8080/"
        },
        "id": "H0JdECrjcmHE",
        "outputId": "0540a86b-fe47-4c14-a1dc-f84185a13618"
      },
      "execution_count": 8,
      "outputs": [
        {
          "output_type": "stream",
          "name": "stdout",
          "text": [
            "Largest in given array is 9808\n"
          ]
        }
      ]
    },
    {
      "cell_type": "code",
      "source": [
        "# function to rotate array by d elements using temp array\n",
        "def rotateArray(arr, n, d):\n",
        "\ttemp = []\n",
        "\ti = 0\n",
        "\twhile (i < d):\n",
        "\t\ttemp.append(arr[i])\n",
        "\t\ti = i + 1\n",
        "\ti = 0\n",
        "\twhile (d < n):\n",
        "\t\tarr[i] = arr[d]\n",
        "\t\ti = i + 1\n",
        "\t\td = d + 1\n",
        "\tarr[:] = arr[: i] + temp\n",
        "\treturn arr\n",
        "\n",
        "\n",
        "# Driver function to test above function\n",
        "arr = [1, 2, 3, 4, 5, 6, 7]\n",
        "print(\"Array after left rotation is: \", end=' ')\n",
        "print(rotateArray(arr, len(arr), 2))\n"
      ],
      "metadata": {
        "colab": {
          "base_uri": "https://localhost:8080/"
        },
        "id": "_LOat7vWdN4J",
        "outputId": "017f0643-fc1c-4e71-8a5e-9070bec79306"
      },
      "execution_count": 9,
      "outputs": [
        {
          "output_type": "stream",
          "name": "stdout",
          "text": [
            "Array after left rotation is:  [3, 4, 5, 6, 7, 1, 2]\n"
          ]
        }
      ]
    },
    {
      "cell_type": "code",
      "source": [
        "# Python program for reversal algorithm of array rotation\n",
        "\n",
        "# Function to reverse arr[] from index start to end\n",
        "def rverseArray(arr, start, end):\n",
        "\twhile (start < end):\n",
        "\t\ttemp = arr[start]\n",
        "\t\tarr[start] = arr[end]\n",
        "\t\tarr[end] = temp\n",
        "\t\tstart += 1\n",
        "\t\tend = end-1\n",
        "\n",
        "# Function to left rotate arr[] of size n by d\n",
        "def leftRotate(arr, d):\n",
        "\tn = len(arr)\n",
        "\trverseArray(arr, 0, d-1)\n",
        "\trverseArray(arr, d, n-1)\n",
        "\trverseArray(arr, 0, n-1)\n",
        "\n",
        "# Function to print an array\n",
        "def printArray(arr):\n",
        "\tfor i in range(0, len(arr)):\n",
        "\t\tprint (arr[i])\n",
        "\n",
        "# Driver function to test above functions\n",
        "arr = [1, 2, 3, 4, 5, 6, 7]\n",
        "leftRotate(arr, 2) # Rotate array by 2\n",
        "printArray(arr)"
      ],
      "metadata": {
        "colab": {
          "base_uri": "https://localhost:8080/"
        },
        "id": "nsslR2QHeZ1S",
        "outputId": "a1da4957-a33c-4281-9d26-6b2e71cc10c0"
      },
      "execution_count": 10,
      "outputs": [
        {
          "output_type": "stream",
          "name": "stdout",
          "text": [
            "3\n",
            "4\n",
            "5\n",
            "6\n",
            "7\n",
            "1\n",
            "2\n"
          ]
        }
      ]
    },
    {
      "cell_type": "code",
      "source": [
        "# Python program to split array and move first part to end.\n",
        "\n",
        "def splitArr(arr, n, k):\n",
        "\tfor i in range(0, k):\n",
        "\t\tx = arr[0]\n",
        "\t\tfor j in range(0, n-1):\n",
        "\t\t\tarr[j] = arr[j + 1]\n",
        "\t\t\n",
        "\t\tarr[n-1] = x\n",
        "\t\t\n",
        "\n",
        "# main\n",
        "arr = [12, 10, 5, 6, 52, 36]\n",
        "n = len(arr)\n",
        "position = 2\n",
        "\n",
        "splitArr(arr, n, position)\n",
        "\n",
        "for i in range(0, n):\n",
        "\tprint(arr[i], end = ' ')\n"
      ],
      "metadata": {
        "colab": {
          "base_uri": "https://localhost:8080/"
        },
        "id": "j4rN9JROerkW",
        "outputId": "862ced40-5d00-4cf4-f3fb-e726d3964405"
      },
      "execution_count": 11,
      "outputs": [
        {
          "output_type": "stream",
          "name": "stdout",
          "text": [
            "5 6 52 36 12 10 "
          ]
        }
      ]
    },
    {
      "cell_type": "code",
      "source": [
        ""
      ],
      "metadata": {
        "id": "C7aXmNC_fGxS"
      },
      "execution_count": null,
      "outputs": []
    }
  ]
}