{
  "nbformat": 4,
  "nbformat_minor": 0,
  "metadata": {
    "colab": {
      "name": "Python assignment 9 solution.ipynb",
      "provenance": [],
      "authorship_tag": "ABX9TyNN/95xqIRT3hqW59T1ws0r",
      "include_colab_link": true
    },
    "kernelspec": {
      "name": "python3",
      "display_name": "Python 3"
    },
    "language_info": {
      "name": "python"
    }
  },
  "cells": [
    {
      "cell_type": "markdown",
      "metadata": {
        "id": "view-in-github",
        "colab_type": "text"
      },
      "source": [
        "<a href=\"https://colab.research.google.com/github/Rumantu/1st-Assignment/blob/main/Python_assignment_9_solution.ipynb\" target=\"_parent\"><img src=\"https://colab.research.google.com/assets/colab-badge.svg\" alt=\"Open In Colab\"/></a>"
      ]
    },
    {
      "cell_type": "code",
      "execution_count": 1,
      "metadata": {
        "colab": {
          "base_uri": "https://localhost:8080/"
        },
        "id": "HRRuky7rqyFO",
        "outputId": "56c6d87e-ec17-4b39-940c-ad5c7aee968d"
      },
      "outputs": [
        {
          "output_type": "stream",
          "name": "stdout",
          "text": [
            "The original string is : Geeksforgeeks is best for geeks and CS\n",
            "String after multiple replace : Geeksforgeeks is gfg gfg geeks and gfg\n"
          ]
        }
      ],
      "source": [
        "# Python3 code to demonstrate working of\n",
        "# Replace multiple words with K\n",
        "# Using join() + split() + list comprehension\n",
        "\n",
        "# initializing string\n",
        "test_str = 'Geeksforgeeks is best for geeks and CS'\n",
        "\n",
        "# printing original string\n",
        "print(\"The original string is : \" + str(test_str))\n",
        "\n",
        "# initializing word list\n",
        "word_list = [\"best\", 'CS', 'for']\n",
        "\n",
        "# initializing replace word\n",
        "repl_wrd = 'gfg'\n",
        "\n",
        "# Replace multiple words with K\n",
        "# Using join() + split() + list comprehension\n",
        "res = ' '.join([repl_wrd if idx in word_list else idx for idx in test_str.split()])\n",
        "\n",
        "# printing result\n",
        "print(\"String after multiple replace : \" + str(res))\n"
      ]
    },
    {
      "cell_type": "code",
      "source": [
        "# Function to find permutations of a given string\n",
        "from itertools import permutations\n",
        "\n",
        "def allPermutations(str):\n",
        "\t\n",
        "\t# Get all permutations of string 'ABC'\n",
        "\tpermList = permutations(str)\n",
        "\n",
        "\t# print all permutations\n",
        "\tfor perm in list(permList):\n",
        "\t\tprint (''.join(perm))\n",
        "\t\t\n",
        "# Driver program\n",
        "if __name__ == \"__main__\":\n",
        "\tstr = 'ABC'\n",
        "\tallPermutations(str)\n"
      ],
      "metadata": {
        "colab": {
          "base_uri": "https://localhost:8080/"
        },
        "id": "BxrNfwJerDzU",
        "outputId": "0d2e666c-1d93-411e-ea61-de450fdb0e01"
      },
      "execution_count": 2,
      "outputs": [
        {
          "output_type": "stream",
          "name": "stdout",
          "text": [
            "ABC\n",
            "ACB\n",
            "BAC\n",
            "BCA\n",
            "CAB\n",
            "CBA\n"
          ]
        }
      ]
    },
    {
      "cell_type": "code",
      "source": [
        "# Python code to find the URL from an input string\n",
        "# Using the regular expression\n",
        "import re\n",
        "\n",
        "def Find(string):\n",
        "\n",
        "\t# findall() has been used\n",
        "\t# with valid conditions for urls in string\n",
        "\tregex = r\"(?i)\\b((?:https?://|www\\d{0,3}[.]|[a-z0-9.\\-]+[.][a-z]{2,4}/)(?:[^\\s()<>]+|\\(([^\\s()<>]+|(\\([^\\s()<>]+\\)))*\\))+(?:\\(([^\\s()<>]+|(\\([^\\s()<>]+\\)))*\\)|[^\\s`!()\\[\\]{};:'\\\".,<>?«»“”‘’]))\"\n",
        "\turl = re.findall(regex,string)\t\n",
        "\treturn [x[0] for x in url]\n",
        "\t\n",
        "# Driver Code\n",
        "string = 'My Profile: https://auth.geeksforgeeks.org/user/Chinmoy%20Lenka/articles in the portal of https://www.geeksforgeeks.org/'\n",
        "print(\"Urls: \", Find(string))\n"
      ],
      "metadata": {
        "colab": {
          "base_uri": "https://localhost:8080/"
        },
        "id": "q2f9In__rObu",
        "outputId": "35bf79bf-1543-44db-c423-f00bd0d3c77d"
      },
      "execution_count": 3,
      "outputs": [
        {
          "output_type": "stream",
          "name": "stdout",
          "text": [
            "Urls:  ['https://auth.geeksforgeeks.org/user/Chinmoy%20Lenka/articles', 'https://www.geeksforgeeks.org/']\n"
          ]
        }
      ]
    },
    {
      "cell_type": "code",
      "source": [
        "# Python program to illustrate use of exec to\n",
        "# execute a given code as string.\n",
        "\n",
        "# function illustrating how exec() functions.\n",
        "def exec_code():\n",
        "\tLOC = \"\"\"\n",
        "def factorial(num):\n",
        "\tfact=1\n",
        "\tfor i in range(1,num+1):\n",
        "\t\tfact = fact*i\n",
        "\treturn fact\n",
        "print(factorial(5))\n",
        "\"\"\"\n",
        "\texec(LOC)\n",
        "\t\n",
        "# Driver Code\n",
        "exec_code()\n"
      ],
      "metadata": {
        "colab": {
          "base_uri": "https://localhost:8080/"
        },
        "id": "T0Q4zIIfrhbz",
        "outputId": "f55ec08c-db89-4237-d997-e43a6d0d08c6"
      },
      "execution_count": 4,
      "outputs": [
        {
          "output_type": "stream",
          "name": "stdout",
          "text": [
            "120\n"
          ]
        }
      ]
    },
    {
      "cell_type": "code",
      "source": [
        "# Function to rotate string left and right by d length\n",
        "\n",
        "def rotate(input,d):\n",
        "\n",
        "\t# slice string in two parts for left and right\n",
        "\tLfirst = input[0 : d]\n",
        "\tLsecond = input[d :]\n",
        "\tRfirst = input[0 : len(input)-d]\n",
        "\tRsecond = input[len(input)-d : ]\n",
        "\n",
        "\t# now concatenate two parts together\n",
        "\tprint (\"Left Rotation : \", (Lsecond + Lfirst) )\n",
        "\tprint (\"Right Rotation : \", (Rsecond + Rfirst))\n",
        "\n",
        "# Driver program\n",
        "if __name__ == \"__main__\":\n",
        "\tinput = 'GeeksforGeeks'\n",
        "\td=2\n",
        "\trotate(input,d)\n"
      ],
      "metadata": {
        "colab": {
          "base_uri": "https://localhost:8080/"
        },
        "id": "9qa68Zvmr0Wu",
        "outputId": "0afabfcf-c5e3-4010-a422-168e3be3eee8"
      },
      "execution_count": 5,
      "outputs": [
        {
          "output_type": "stream",
          "name": "stdout",
          "text": [
            "Left Rotation :  eksforGeeksGe\n",
            "Right Rotation :  ksGeeksforGee\n"
          ]
        }
      ]
    },
    {
      "cell_type": "code",
      "source": [
        "def solve(s, t):\n",
        "   while len(s) > 0:\n",
        "      position = s.find(t)\n",
        "      if position == -1:\n",
        "         break\n",
        "      s = s.replace(t, \"\", 1)\n",
        "   return len(s) == 0\n",
        "s = \"pipipinnn\"\n",
        "t = \"pin\"\n",
        "print(solve(s, t))"
      ],
      "metadata": {
        "colab": {
          "base_uri": "https://localhost:8080/"
        },
        "id": "xmFV9zjOsG6J",
        "outputId": "ae6ec1de-fa4a-4493-d2c2-52ce00ea7029"
      },
      "execution_count": 6,
      "outputs": [
        {
          "output_type": "stream",
          "name": "stdout",
          "text": [
            "True\n"
          ]
        }
      ]
    },
    {
      "cell_type": "code",
      "source": [
        "## initializing string\n",
        "string = \"tutorialspoint\"\n",
        "## initializing a dictionary\n",
        "duplicates = {}\n",
        "for char in string:\n",
        "   ## checking whether the char is already present in dictionary or not\n",
        "   if char in duplicates:\n",
        "      ## increasing count if present\n",
        "      duplicates[char] += 1\n",
        "   else:\n",
        "      ## initializing count to 1 if not present\n",
        "      duplicates[char] = 1\n",
        "for key, value in duplicates.items():\n",
        "   if value > 1:\n",
        "      print(key, end = \" \")\n",
        "print()"
      ],
      "metadata": {
        "colab": {
          "base_uri": "https://localhost:8080/"
        },
        "id": "Ab486T4evIoB",
        "outputId": "9a6d7621-e12b-4581-fad9-1f71168c34e6"
      },
      "execution_count": 7,
      "outputs": [
        {
          "output_type": "stream",
          "name": "stdout",
          "text": [
            "t o i \n"
          ]
        }
      ]
    },
    {
      "cell_type": "code",
      "source": [
        "# declaring a string variable\n",
        "str = \"Amdani athani kharcha rupaiya.\"\n",
        "\n",
        "# declaring an empty string variable for storing modified string\n",
        "modified_str = ''\n",
        "\n",
        "# iterating over the string\n",
        "for char in range(0, len(str)):\n",
        "\t# checking if the character at char index is equivalent to 'a'\n",
        "\tif(str[char] == 'a'):\n",
        "\t\t# append $ to modified string\n",
        "\t\tmodified_str += '$'\n",
        "\telse:\n",
        "\t\t# append original string character\n",
        "\t\tmodified_str += str[char]\n",
        "\n",
        "print(\"Modified string : \")\n",
        "print(modified_str)\n"
      ],
      "metadata": {
        "colab": {
          "base_uri": "https://localhost:8080/"
        },
        "id": "0fAZRK4xxGv2",
        "outputId": "95600436-4f24-4817-c395-2105259548f2"
      },
      "execution_count": 8,
      "outputs": [
        {
          "output_type": "stream",
          "name": "stdout",
          "text": [
            "Modified string : \n",
            "Amd$ni $th$ni kh$rch$ rup$iy$.\n"
          ]
        }
      ]
    },
    {
      "cell_type": "code",
      "source": [
        "my_dict = {'hi' : [5,3,8, 0],\n",
        "   'there' : [22, 51, 63, 77],\n",
        "   'how' : [7, 0, 22],\n",
        "   'are' : [12, 11, 45],\n",
        "   'you' : [56, 31, 89, 90]}\n",
        "\n",
        "print(\"The dictionary is : \")\n",
        "print(my_dict)\n",
        "\n",
        "my_result = list(sorted({elem for val in my_dict.values() for elem in val}))\n",
        "\n",
        "print(\"The unique values are : \")\n",
        "print(my_result)"
      ],
      "metadata": {
        "colab": {
          "base_uri": "https://localhost:8080/"
        },
        "id": "6agKOQxmx73U",
        "outputId": "db90e084-1c8f-44b7-e34b-4c279cd561ba"
      },
      "execution_count": 9,
      "outputs": [
        {
          "output_type": "stream",
          "name": "stdout",
          "text": [
            "The dictionary is : \n",
            "{'hi': [5, 3, 8, 0], 'there': [22, 51, 63, 77], 'how': [7, 0, 22], 'are': [12, 11, 45], 'you': [56, 31, 89, 90]}\n",
            "The unique values are : \n",
            "[0, 3, 5, 7, 8, 11, 12, 22, 31, 45, 51, 56, 63, 77, 89, 90]\n"
          ]
        }
      ]
    },
    {
      "cell_type": "code",
      "source": [
        "# Python3 Program to find sum of all items in a Dictionary\n",
        "\n",
        "# Function to print sum\n",
        "\n",
        "\n",
        "def returnSum(myDict):\n",
        "\n",
        "\tlist = []\n",
        "\tfor i in myDict:\n",
        "\t\tlist.append(myDict[i])\n",
        "\tfinal = sum(list)\n",
        "\n",
        "\treturn final\n",
        "\n",
        "\n",
        "# Driver Function\n",
        "dict = {'a': 100, 'b': 200, 'c': 300}\n",
        "print(\"Sum :\", returnSum(dict))\n"
      ],
      "metadata": {
        "colab": {
          "base_uri": "https://localhost:8080/"
        },
        "id": "r46tic7Pycqf",
        "outputId": "c4c61a37-b404-4cca-e909-4c59b785e3db"
      },
      "execution_count": 10,
      "outputs": [
        {
          "output_type": "stream",
          "name": "stdout",
          "text": [
            "Sum : 600\n"
          ]
        }
      ]
    },
    {
      "cell_type": "code",
      "source": [
        ""
      ],
      "metadata": {
        "id": "xhjVHj2-yf6x"
      },
      "execution_count": 10,
      "outputs": []
    }
  ]
}