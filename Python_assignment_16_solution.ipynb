{
  "nbformat": 4,
  "nbformat_minor": 0,
  "metadata": {
    "colab": {
      "name": "Python assignment 16 solution.ipynb",
      "provenance": [],
      "authorship_tag": "ABX9TyNSV/6A6ZY/XtAIh5PHtxbh",
      "include_colab_link": true
    },
    "kernelspec": {
      "name": "python3",
      "display_name": "Python 3"
    },
    "language_info": {
      "name": "python"
    }
  },
  "cells": [
    {
      "cell_type": "markdown",
      "metadata": {
        "id": "view-in-github",
        "colab_type": "text"
      },
      "source": [
        "<a href=\"https://colab.research.google.com/github/Rumantu/1st-Assignment/blob/main/Python_assignment_16_solution.ipynb\" target=\"_parent\"><img src=\"https://colab.research.google.com/assets/colab-badge.svg\" alt=\"Open In Colab\"/></a>"
      ]
    },
    {
      "cell_type": "code",
      "execution_count": 1,
      "metadata": {
        "colab": {
          "base_uri": "https://localhost:8080/"
        },
        "id": "WcRi5hwpiIZJ",
        "outputId": "d8c77836-8445-4622-a698-ab59f4f71f98"
      },
      "outputs": [
        {
          "output_type": "stream",
          "name": "stdout",
          "text": [
            "The original array is: [2, 4, 5, 1, 3]\n",
            "The sorted array is:  [1, 2, 3, 4, 5]\n"
          ]
        }
      ],
      "source": [
        "def cycle_Sort(array):\n",
        "  write = 0\n",
        "   \n",
        "  for cycle in range(0, len(array) - 1):\n",
        "    ele = array[cycle]\n",
        "     \n",
        "    position = cycle\n",
        "    for i in range(cycle + 1, len(array)):\n",
        "      if array[i] < ele:\n",
        "        position += 1\n",
        "     \n",
        "    if position == cycle:\n",
        "      continue\n",
        "     \n",
        "    while ele == array[position]:\n",
        "      position += 1\n",
        "    array[position], ele = ele, array[position]\n",
        "    write += 1\n",
        "     \n",
        "    while position != cycle:\n",
        "       \n",
        "      position = cycle\n",
        "      for a in range(cycle + 1, len(array)):\n",
        "        if array[a] < ele:\n",
        "          position += 1\n",
        "       \n",
        "      while ele == array[position]:\n",
        "        position += 1\n",
        "      array[position], ele = ele, array[position]\n",
        "      write += 1\n",
        "   \n",
        "  return write\n",
        "   \n",
        "# driver code\n",
        "array = [2, 4, 5, 1, 3]\n",
        "print(\"The original array is:\", array)\n",
        "n = len(array)\n",
        "cycle_Sort(array)\n",
        "print(\"The sorted array is: \",array)"
      ]
    },
    {
      "cell_type": "code",
      "source": [
        "# Python program to implement stooge sort\n",
        "\n",
        "def stoogesort(arr, l, h):\n",
        "\tif l >= h:\n",
        "\t\treturn\n",
        "\n",
        "\t# If first element is smaller\n",
        "\t# than last, swap them\n",
        "\tif arr[l]>arr[h]:\n",
        "\t\tt = arr[l]\n",
        "\t\tarr[l] = arr[h]\n",
        "\t\tarr[h] = t\n",
        "\n",
        "\t# If there are more than 2 elements in\n",
        "\t# the array\n",
        "\tif h-l + 1 > 2:\n",
        "\t\tt = (int)((h-l + 1)/3)\n",
        "\n",
        "\t\t# Recursively sort first 2 / 3 elements\n",
        "\t\tstoogesort(arr, l, (h-t))\n",
        "\n",
        "\t\t# Recursively sort last 2 / 3 elements\n",
        "\t\tstoogesort(arr, l + t, (h))\n",
        "\n",
        "\t\t# Recursively sort first 2 / 3 elements\n",
        "\t\t# again to confirm\n",
        "\t\tstoogesort(arr, l, (h-t))\n",
        "\n",
        "\n",
        "# deriver\n",
        "arr = [2, 4, 5, 3, 1]\n",
        "n = len(arr)\n",
        "\n",
        "stoogesort(arr, 0, n-1)\n",
        "\n",
        "for i in range(0, n):\n",
        "\tprint(arr[i], end = ' ')"
      ],
      "metadata": {
        "colab": {
          "base_uri": "https://localhost:8080/"
        },
        "id": "VpP3DkRZjMo3",
        "outputId": "df57c727-8b37-4770-9a41-4498760c1a73"
      },
      "execution_count": 2,
      "outputs": [
        {
          "output_type": "stream",
          "name": "stdout",
          "text": [
            "1 2 3 4 5 "
          ]
        }
      ]
    },
    {
      "cell_type": "code",
      "source": [
        "# Python program to print pattern G\n",
        "def Pattern(line):\n",
        "\tpat=\"\"\n",
        "\tfor i in range(0,line):\n",
        "\t\tfor j in range(0,line):\t\n",
        "\t\t\tif ((j == 1 and i != 0 and i != line-1) or ((i == 0 or\n",
        "\t\t\t\ti == line-1) and j > 1 and j < line-2) or (i == ((line-1)/2)\n",
        "\t\t\t\tand j > line-5 and j < line-1) or (j == line-2 and\n",
        "\t\t\t\ti != 0 and i != line-1 and i >=((line-1)/2))):\n",
        "\t\t\t\tpat=pat+\"*\"\n",
        "\t\t\telse:\t\n",
        "\t\t\t\tpat=pat+\" \"\n",
        "\t\tpat=pat+\"\\n\"\n",
        "\treturn pat\n",
        "\n",
        "# Driver Code\n",
        "line = 7\n",
        "print(Pattern(line))\n"
      ],
      "metadata": {
        "colab": {
          "base_uri": "https://localhost:8080/"
        },
        "id": "JJ3DLGdljlPm",
        "outputId": "cf895c08-45a8-4d8a-e325-e030e2d47ed4"
      },
      "execution_count": 3,
      "outputs": [
        {
          "output_type": "stream",
          "name": "stdout",
          "text": [
            "  ***  \n",
            " *     \n",
            " *     \n",
            " * *** \n",
            " *   * \n",
            " *   * \n",
            "  ***  \n",
            "\n"
          ]
        }
      ]
    },
    {
      "cell_type": "code",
      "source": [
        "# python 3 code to print inverted star\n",
        "# pattern\n",
        "\n",
        "# n is the number of rows in which\n",
        "# star is going to be printed.\n",
        "n=11\n",
        "\n",
        "# i is going to be enabled to\n",
        "# range between n-i t 0 with a\n",
        "# decrement of 1 with each iteration.\n",
        "# and in print function, for each iteration,\n",
        "# ” ” is multiplied with n-i and ‘*’ is\n",
        "# multiplied with i to create correct\n",
        "# space before of the stars.\n",
        "for i in range (n, 0, -1):\n",
        "\tprint((n-i) * ' ' + i * '*')\n"
      ],
      "metadata": {
        "colab": {
          "base_uri": "https://localhost:8080/"
        },
        "id": "z7BvndxPjy6f",
        "outputId": "fb3f02d5-ae53-4bd0-b146-c2f3bbea676d"
      },
      "execution_count": 4,
      "outputs": [
        {
          "output_type": "stream",
          "name": "stdout",
          "text": [
            "***********\n",
            " **********\n",
            "  *********\n",
            "   ********\n",
            "    *******\n",
            "     ******\n",
            "      *****\n",
            "       ****\n",
            "        ***\n",
            "         **\n",
            "          *\n"
          ]
        }
      ]
    },
    {
      "cell_type": "code",
      "source": [
        "def pattern(n):\n",
        "    for a in range(1,n+1):\n",
        "        c =a + 1 if(a % 2 != 0) else a\n",
        "        for b in range(c,n):\n",
        "            if b>=c:\n",
        "                print(end=\"  \")\n",
        "        for d in range(0,c):\n",
        "            if d == c - 1:\n",
        "                print(\" * \")\n",
        "            else:\n",
        "                print(\" * \", end = \" \")\n",
        "# Driver code\n",
        "n = int(input(\"Please enter the size:\"))\n",
        "if n<10:\n",
        "    print(\"Enter range above 10\")\n",
        "else:\n",
        "    pattern(n)"
      ],
      "metadata": {
        "colab": {
          "base_uri": "https://localhost:8080/"
        },
        "id": "SE09oX9jkEnK",
        "outputId": "2812cd3f-30e1-48a7-d981-a5afd609643e"
      },
      "execution_count": 5,
      "outputs": [
        {
          "output_type": "stream",
          "name": "stdout",
          "text": [
            "Please enter the size:12\n",
            "                     *   * \n",
            "                     *   * \n",
            "                 *   *   *   * \n",
            "                 *   *   *   * \n",
            "             *   *   *   *   *   * \n",
            "             *   *   *   *   *   * \n",
            "         *   *   *   *   *   *   *   * \n",
            "         *   *   *   *   *   *   *   * \n",
            "     *   *   *   *   *   *   *   *   *   * \n",
            "     *   *   *   *   *   *   *   *   *   * \n",
            " *   *   *   *   *   *   *   *   *   *   *   * \n",
            " *   *   *   *   *   *   *   *   *   *   *   * \n"
          ]
        }
      ]
    },
    {
      "cell_type": "code",
      "source": [
        "# Python3 code to print input in your own font\n",
        "\n",
        "name = \"GEEK\"\n",
        "\n",
        "# To take input from User\n",
        "# name = input(\"Enter your name: \\n\\n\")\n",
        "\n",
        "length = len(name)\n",
        "l = \"\"\n",
        "\n",
        "for x in range(0, length):\n",
        "\tc = name[x]\n",
        "\tc = c.upper()\n",
        "\t\n",
        "\tif (c == \"A\"):\n",
        "\t\tprint(\"..######..\\n..#....#..\\n..######..\", end = \" \")\n",
        "\t\tprint(\"\\n..#....#..\\n..#....#..\\n\\n\")\n",
        "\t\t\n",
        "\telif (c == \"B\"):\n",
        "\t\tprint(\"..######..\\n..#....#..\\n..#####...\", end = \" \")\n",
        "\t\tprint(\"\\n..#....#..\\n..######..\\n\\n\")\n",
        "\t\t\n",
        "\telif (c == \"C\"):\n",
        "\t\tprint(\"..######..\\n..#.......\\n..#.......\", end = \" \")\n",
        "\t\tprint(\"\\n..#.......\\n..######..\\n\\n\")\n",
        "\t\t\n",
        "\telif (c == \"D\"):\n",
        "\t\tprint(\"..#####...\\n..#....#..\\n..#....#..\", end = \" \")\n",
        "\t\tprint(\"\\n..#....#..\\n..#####...\\n\\n\")\n",
        "\t\t\n",
        "\telif (c == \"E\"):\n",
        "\t\tprint(\"..######..\\n..#.......\\n..#####...\", end = \" \")\n",
        "\t\tprint(\"\\n..#.......\\n..######..\\n\\n\")\n",
        "\t\t\n",
        "\telif (c == \"F\"):\n",
        "\t\tprint(\"..######..\\n..#.......\\n..#####...\", end = \" \")\n",
        "\t\tprint(\"\\n..#.......\\n..#.......\\n\\n\")\n",
        "\t\t\n",
        "\telif (c == \"G\"):\n",
        "\t\tprint(\"..######..\\n..#.......\\n..#.####..\", end = \" \")\n",
        "\t\tprint(\"\\n..#....#..\\n..#####...\\n\\n\")\n",
        "\t\t\n",
        "\telif (c == \"H\"):\n",
        "\t\tprint(\"..#....#..\\n..#....#..\\n..######..\", end = \" \")\n",
        "\t\tprint(\"\\n..#....#..\\n..#....#..\\n\\n\")\n",
        "\t\t\n",
        "\telif (c == \"I\"):\n",
        "\t\tprint(\"..######..\\n....##....\\n....##....\", end = \" \")\n",
        "\t\tprint(\"\\n....##....\\n..######..\\n\\n\")\n",
        "\t\t\n",
        "\telif (c == \"J\"):\n",
        "\t\tprint(\"..######..\\n....##....\\n....##....\", end = \" \")\n",
        "\t\tprint(\"\\n..#.##....\\n..####....\\n\\n\")\n",
        "\t\t\n",
        "\telif (c == \"K\"):\n",
        "\t\tprint(\"..#...#...\\n..#..#....\\n..##......\", end = \" \")\n",
        "\t\tprint(\"\\n..#..#....\\n..#...#...\\n\\n\")\n",
        "\t\t\n",
        "\telif (c == \"L\"):\n",
        "\t\tprint(\"..#.......\\n..#.......\\n..#.......\", end = \" \")\n",
        "\t\tprint(\"\\n..#.......\\n..######..\\n\\n\")\n",
        "\t\t\n",
        "\telif (c == \"M\"):\n",
        "\t\tprint(\"..#....#..\\n..##..##..\\n..#.##.#..\", end = \" \")\n",
        "\t\tprint(\"\\n..#....#..\\n..#....#..\\n\\n\")\n",
        "\t\t\n",
        "\telif (c == \"N\"):\n",
        "\t\tprint(\"..#....#..\\n..##...#..\\n..#.#..#..\", end = \" \")\n",
        "\t\tprint(\"\\n..#..#.#..\\n..#...##..\\n\\n\")\n",
        "\t\t\n",
        "\telif (c == \"O\"):\n",
        "\t\tprint(\"..######..\\n..#....#..\\n..#....#..\", end = \" \")\n",
        "\t\tprint(\"\\n..#....#..\\n..######..\\n\\n\")\n",
        "\t\t\n",
        "\telif (c == \"P\"):\n",
        "\t\tprint(\"..######..\\n..#....#..\\n..######..\", end = \" \")\n",
        "\t\tprint(\"\\n..#.......\\n..#.......\\n\\n\")\n",
        "\t\t\n",
        "\telif (c == \"Q\"):\n",
        "\t\tprint(\"..######..\\n..#....#..\\n..#.#..#..\", end = \" \")\n",
        "\t\tprint(\"\\n..#..#.#..\\n..######..\\n\\n\")\n",
        "\t\t\n",
        "\telif (c == \"R\"):\n",
        "\t\tprint(\"..######..\\n..#....#..\\n..#.##...\", end = \" \")\n",
        "\t\tprint(\"\\n..#...#...\\n..#....#..\\n\\n\")\n",
        "\t\t\n",
        "\telif (c == \"S\"):\n",
        "\t\tprint(\"..######..\\n..#.......\\n..######..\", end = \" \")\n",
        "\t\tprint(\"\\n.......#..\\n..######..\\n\\n\")\n",
        "\t\t\n",
        "\telif (c == \"T\"):\n",
        "\t\tprint(\"..######..\\n....##....\\n....##....\", end = \" \")\n",
        "\t\tprint(\"\\n....##....\\n....##....\\n\\n\")\n",
        "\t\t\n",
        "\telif (c == \"U\"):\n",
        "\t\tprint(\"..#....#..\\n..#....#..\\n..#....#..\", end = \" \")\n",
        "\t\tprint(\"\\n..#....#..\\n..######..\\n\\n\")\n",
        "\t\t\n",
        "\telif (c == \"V\"):\n",
        "\t\tprint(\"..#....#..\\n..#....#..\\n..#....#..\", end = \" \")\n",
        "\t\tprint(\"\\n...#..#...\\n....##....\\n\\n\")\n",
        "\t\t\n",
        "\telif (c == \"W\"):\n",
        "\t\tprint(\"..#....#..\\n..#....#..\\n..#.##.#..\", end = \" \")\n",
        "\t\tprint(\"\\n..##..##..\\n..#....#..\\n\\n\")\n",
        "\t\t\n",
        "\telif (c == \"X\"):\n",
        "\t\tprint(\"..#....#..\\n...#..#...\\n....##....\", end = \" \")\n",
        "\t\tprint(\"\\n...#..#...\\n..#....#..\\n\\n\")\n",
        "\t\t\n",
        "\telif (c == \"Y\"):\n",
        "\t\tprint(\"..#....#..\\n...#..#...\\n....##....\", end = \" \")\n",
        "\t\tprint(\"\\n....##....\\n....##....\\n\\n\")\n",
        "\t\t\n",
        "\telif (c == \"Z\"):\n",
        "\t\tprint(\"..######..\\n......#...\\n.....#....\", end = \" \")\n",
        "\t\tprint(\"\\n....#.....\\n..######..\\n\\n\")\n",
        "\t\t\n",
        "\telif (c == \" \"):\n",
        "\t\tprint(\"..........\\n..........\\n..........\", end = \" \")\n",
        "\t\tprint(\"\\n..........\\n\\n\")\n",
        "\t\t\n",
        "\telif (c == \".\"):\n",
        "\t\tprint(\"----..----\\n\\n\")\n"
      ],
      "metadata": {
        "colab": {
          "base_uri": "https://localhost:8080/"
        },
        "id": "PFSMyKiRkTTi",
        "outputId": "3b65e562-a0f7-447a-82f7-446ce91433e7"
      },
      "execution_count": 6,
      "outputs": [
        {
          "output_type": "stream",
          "name": "stdout",
          "text": [
            "..######..\n",
            "..#.......\n",
            "..#.####.. \n",
            "..#....#..\n",
            "..#####...\n",
            "\n",
            "\n",
            "..######..\n",
            "..#.......\n",
            "..#####... \n",
            "..#.......\n",
            "..######..\n",
            "\n",
            "\n",
            "..######..\n",
            "..#.......\n",
            "..#####... \n",
            "..#.......\n",
            "..######..\n",
            "\n",
            "\n",
            "..#...#...\n",
            "..#..#....\n",
            "..##...... \n",
            "..#..#....\n",
            "..#...#...\n",
            "\n",
            "\n"
          ]
        }
      ]
    },
    {
      "cell_type": "code",
      "source": [
        "# Python3 code to demonstrate\n",
        "# Getting current date and time using\n",
        "# now().\n",
        "\t\n",
        "# importing datetime module for now()\n",
        "import datetime\n",
        "\t\n",
        "# using now() to get current time\n",
        "current_time = datetime.datetime.now()\n",
        "\t\n",
        "# Printing value of now.\n",
        "print (\"Time now at greenwich meridian is : \"\n",
        "\t\t\t\t\t\t\t\t\t, end = \"\")\n",
        "print (current_time)\n"
      ],
      "metadata": {
        "colab": {
          "base_uri": "https://localhost:8080/"
        },
        "id": "ew1d7TIckf99",
        "outputId": "dce73888-1765-44e9-ef25-2872445969b2"
      },
      "execution_count": 7,
      "outputs": [
        {
          "output_type": "stream",
          "name": "stdout",
          "text": [
            "Time now at greenwich meridian is : 2022-04-22 09:20:35.232357\n"
          ]
        }
      ]
    },
    {
      "cell_type": "code",
      "source": [
        "# Python program to find yesterday,\n",
        "# today and tomorrow\n",
        "\n",
        "\n",
        "# Import datetime and timedelta\n",
        "# class from datetime module\n",
        "from datetime import datetime, timedelta\n",
        "\n",
        "\n",
        "# Get today's date\n",
        "presentday = datetime.now() # or presentday = datetime.today()\n",
        "\n",
        "# Get Yesterday\n",
        "yesterday = presentday - timedelta(1)\n",
        "\n",
        "# Get Tomorrow\n",
        "tomorrow = presentday + timedelta(1)\n",
        "\n",
        "\n",
        "# strftime() is to format date according to\n",
        "# the need by converting them to string\n",
        "print(\"Yesterday = \", yesterday.strftime('%d-%m-%Y'))\n",
        "print(\"Today = \", presentday.strftime('%d-%m-%Y'))\n",
        "print(\"Tomorrow = \", tomorrow.strftime('%d-%m-%Y'))\n"
      ],
      "metadata": {
        "colab": {
          "base_uri": "https://localhost:8080/"
        },
        "id": "FqJdf01eksyl",
        "outputId": "b2fe7a01-054e-4793-f494-9f39f68faa27"
      },
      "execution_count": 8,
      "outputs": [
        {
          "output_type": "stream",
          "name": "stdout",
          "text": [
            "Yesterday =  21-04-2022\n",
            "Today =  22-04-2022\n",
            "Tomorrow =  23-04-2022\n"
          ]
        }
      ]
    },
    {
      "cell_type": "code",
      "source": [
        "# Python program to convert time\n",
        "# from 12 hour to 24 hour format\n",
        "\n",
        "# Function to convert the date format\n",
        "def convert24(str1):\n",
        "\t\n",
        "\t# Checking if last two elements of time\n",
        "\t# is AM and first two elements are 12\n",
        "\tif str1[-2:] == \"AM\" and str1[:2] == \"12\":\n",
        "\t\treturn \"00\" + str1[2:-2]\n",
        "\t\t\n",
        "\t# remove the AM\t\n",
        "\telif str1[-2:] == \"AM\":\n",
        "\t\treturn str1[:-2]\n",
        "\t\n",
        "\t# Checking if last two elements of time\n",
        "\t# is PM and first two elements are 12\n",
        "\telif str1[-2:] == \"PM\" and str1[:2] == \"12\":\n",
        "\t\treturn str1[:-2]\n",
        "\t\t\n",
        "\telse:\n",
        "\t\t\n",
        "\t\t# add 12 to hours and remove PM\n",
        "\t\treturn str(int(str1[:2]) + 12) + str1[2:8]\n",
        "\n",
        "# Driver Code\t\t\n",
        "print(convert24(\"08:05:45 PM\"))\n"
      ],
      "metadata": {
        "colab": {
          "base_uri": "https://localhost:8080/"
        },
        "id": "W3lPsEtHk4Yf",
        "outputId": "b937a702-fb7d-43a3-a5db-0522acd18128"
      },
      "execution_count": 9,
      "outputs": [
        {
          "output_type": "stream",
          "name": "stdout",
          "text": [
            "20:05:45\n"
          ]
        }
      ]
    },
    {
      "cell_type": "code",
      "source": [
        ""
      ],
      "metadata": {
        "id": "oUXrXuD3lIgo"
      },
      "execution_count": null,
      "outputs": []
    }
  ]
}